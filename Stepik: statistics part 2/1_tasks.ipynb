{
 "cells": [
  {
   "cell_type": "code",
   "execution_count": 7,
   "id": "3acdf3d4",
   "metadata": {},
   "outputs": [],
   "source": [
    "import pandas as pd\n",
    "import numpy as np\n",
    "from scipy.stats import chi2_contingency\n",
    "import statsmodels.api as sm\n",
    "import matplotlib.pyplot as plt\n",
    "import seaborn as sns"
   ]
  },
  {
   "cell_type": "markdown",
   "id": "5bc2137d",
   "metadata": {},
   "source": [
    "### 1 task\n",
    "Доктор Пилюлькин решил вооружиться статистикой, чтобы сравнить эффективность трех лекарств! Давайте поможем ему и напишем функцию max_resid, которая получает на вход dataframe с двумя переменными: типом лекарства и результатом его применения. \n",
    "\n",
    "Drugs - фактор с тремя градациями: drug_1, drug_2, drug_3.     \n",
    "\n",
    "Result - фактор с двумя градациями: positive, negative.\n",
    "\n",
    "Функция должна находить ячейку таблицы сопряженности с максимальным  значением стандартизированного остатка и возвращать вектор из двух элементов: название строчки и столбца этой ячейки.\n",
    "\n",
    "Для расчета стандартизированных остатков вы можете воспользоваться уже знакомой вам функцией chisq.test(). Изучите справку по этой функции, чтобы найти, где хранятся стандартизированные остатки."
   ]
  },
  {
   "cell_type": "code",
   "execution_count": 3,
   "id": "a624e34f",
   "metadata": {},
   "outputs": [
    {
     "data": {
      "text/plain": [
       "['drug_1', 'negative']"
      ]
     },
     "execution_count": 3,
     "metadata": {},
     "output_type": "execute_result"
    }
   ],
   "source": [
    "df_c = pd.read_csv(\"https://stepic.org/media/attachments/course/524/test_drugs.csv\")\n",
    "\n",
    "def max_resid(df):\n",
    "  cross_tab = pd.crosstab(df.iloc[:,0], df.iloc[:,1])\n",
    "  chi, p, dof, exp = chi2_contingency(cross_tab)\n",
    "  std_residuals = (exp - cross_tab) / np.sqrt(exp)\n",
    "  # Looks clunky, but I can't come up with elegant solution\n",
    "  max_element = std_residuals[std_residuals == np.max(std_residuals).max()].dropna(axis=1, how=\"all\").dropna()\n",
    "  return [max_element.index[0], max_element.columns[0]]\n",
    "\n",
    "max_resid(df_c)"
   ]
  },
  {
   "cell_type": "code",
   "execution_count": 6,
   "id": "b62e2687",
   "metadata": {},
   "outputs": [
    {
     "data": {
      "text/plain": [
       "('drug_1', 'positive')"
      ]
     },
     "execution_count": 6,
     "metadata": {},
     "output_type": "execute_result"
    }
   ],
   "source": [
    "df = pd.read_csv(\"https://stepic.org/media/attachments/course/524/test_drugs.csv\") \n",
    "\n",
    "tbl = sm.stats.Table.from_data(df) # Получаем таблицу сопряженности\n",
    "resid = tbl.resid_pearson # Считаем остатки, данная функция возвращает Dataframe\n",
    "res = resid.stack().index[np.argmax(resid.values)] # Возвращаем индекс и название колонки с максимальным остатком.\n",
    "\n",
    "res"
   ]
  },
  {
   "cell_type": "markdown",
   "id": "4416a715",
   "metadata": {},
   "source": [
    "### 2 task\n",
    "Ну и напоследок построим гистограмму частот при помощи ggplot2!\n",
    "\n",
    "Основной способ визуализировать распределение частот номинативной переменной - гистограмма частот (барплот). Используя библиотеку ggplot2 и встроенные данные diamonds, постройте график распределения частот переменной color, на котором за цвет заполнения столбиков отвечает переменная cut. Сохраните код графика в переменную obj. В итоге должен получиться вот такой график.\n",
    "\n",
    "data https://www.kaggle.com/shivam2503/diamonds#"
   ]
  },
  {
   "cell_type": "code",
   "execution_count": 18,
   "id": "d6f5aa7e",
   "metadata": {},
   "outputs": [
    {
     "data": {
      "image/png": "[encoded data removed]",
      "text/plain": [
       "<Figure size 842.4x595.44 with 1 Axes>"
      ]
     },
     "metadata": {},
     "output_type": "display_data"
    }
   ],
   "source": [
    "sns.set_theme()\n",
    "\n",
    "df = pd.read_csv('diamonds.csv')\n",
    "crosstab = pd.crosstab(df.color, df.cut)[['Fair', 'Good', 'Very Good', 'Premium', 'Ideal']]\n",
    "crosstab.plot(kind='bar')\n",
    "sns.set(rc={'figure.figsize':(50, 20)})\n",
    "\n",
    "plt.show()"
   ]
  },
  {
   "cell_type": "code",
   "execution_count": null,
   "id": "d6b89616",
   "metadata": {},
   "outputs": [],
   "source": []
  }
 ],
 "metadata": {
  "kernelspec": {
   "display_name": "Python 3 (ipykernel)",
   "language": "python",
   "name": "python3"
  },
  "language_info": {
   "codemirror_mode": {
    "name": "ipython",
    "version": 3
   },
   "file_extension": ".py",
   "mimetype": "text/x-python",
   "name": "python",
   "nbconvert_exporter": "python",
   "pygments_lexer": "ipython3",
   "version": "3.9.7"
  }
 },
 "nbformat": 4,
 "nbformat_minor": 5
}
