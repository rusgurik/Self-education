{
 "cells": [
  {
   "cell_type": "code",
   "execution_count": 16,
   "id": "355b5bdf",
   "metadata": {},
   "outputs": [],
   "source": [
    "from scipy import stats\n",
    "import pandas as pd\n",
    "import numpy as np\n",
    "import random\n",
    "import matplotlib.pyplot as plt\n",
    "import seaborn as sns\n",
    "from math import sqrt"
   ]
  },
  {
   "cell_type": "markdown",
   "id": "9ae054be",
   "metadata": {},
   "source": [
    "### 1 задача\n",
    "Теперь рассчитаем p-уровень значимости для нашего примера с игральной костью. Напомню, что мы получили следующие значения наблюдаемых частот (от единички до шестерки):\n",
    "\n",
    "10, 10, 10, 5, 10, 1510,10,10,5,10,15 \n",
    "\n",
    "Проверьте нулевую гипотезу о том, что эмпирическое распределение частот не отличается от равномерного. В поле для ответа введите получившийся p-уровень значимости. "
   ]
  },
  {
   "cell_type": "code",
   "execution_count": 1,
   "id": "e17276f1",
   "metadata": {},
   "outputs": [
    {
     "name": "stdout",
     "output_type": "stream",
     "text": [
      "5.0\n"
     ]
    }
   ],
   "source": [
    "# Найдем значение хи-квадрат для представленных наблюдений:\n",
    "\n",
    "observations = [10, 10, 10, 5, 10, 15]\n",
    "exp = sum(observations) / len(observations)\n",
    "cal_chi2 = 0\n",
    "for obs in observations:\n",
    "    cal_chi2 += (obs-exp)**2/exp\n",
    "print(cal_chi2)"
   ]
  },
  {
   "cell_type": "code",
   "execution_count": 2,
   "id": "af044d3f",
   "metadata": {},
   "outputs": [
    {
     "data": {
      "text/plain": [
       "10.0"
      ]
     },
     "execution_count": 2,
     "metadata": {},
     "output_type": "execute_result"
    }
   ],
   "source": [
    "exp"
   ]
  },
  {
   "cell_type": "code",
   "execution_count": 8,
   "id": "c9cc83f8",
   "metadata": {},
   "outputs": [],
   "source": [
    "# Найдем приближенное распределения хи-квадрат для игральной кости:\n",
    "\n",
    "list_of_chi2_cdf = []\n",
    "for i in range(10000):\n",
    "    # кол-во выпадений каждой грани в наших подбрасываниях\n",
    "    res = {}\n",
    "    for i in range(60):\n",
    "        x = np.random.choice([1,2,3,4,5,6])\n",
    "        res[x] = res.get(x, 0) + 1\n",
    "    list_of_chi2_cdf.append(sum([(i-10)**2/10 for i in res.values()]))"
   ]
  },
  {
   "cell_type": "code",
   "execution_count": 9,
   "id": "393e8fac",
   "metadata": {},
   "outputs": [
    {
     "name": "stderr",
     "output_type": "stream",
     "text": [
      "/opt/anaconda3/lib/python3.9/site-packages/seaborn/distributions.py:2619: FutureWarning: `distplot` is a deprecated function and will be removed in a future version. Please adapt your code to use either `displot` (a figure-level function with similar flexibility) or `histplot` (an axes-level function for histograms).\n",
      "  warnings.warn(msg, FutureWarning)\n"
     ]
    },
    {
     "data": {
      "image/png": "[encoded data removed]",
      "text/plain": [
       "<Figure size 432x288 with 1 Axes>"
      ]
     },
     "metadata": {},
     "output_type": "display_data"
    }
   ],
   "source": [
    "# Посмотрим наше получившееся распределение хи-квадрат:\n",
    "\n",
    "sns.set()\n",
    "sns.distplot(list_of_chi2_cdf, kde=True, bins=20);"
   ]
  },
  {
   "cell_type": "code",
   "execution_count": 10,
   "id": "0b194520",
   "metadata": {},
   "outputs": [
    {
     "name": "stdout",
     "output_type": "stream",
     "text": [
      "p_count=4198, p_count/10000=0.4198\n"
     ]
    }
   ],
   "source": [
    "# И значение p-value в нашем неточном эксперименте (решить задачу вам это значение не позволит):\n",
    "\n",
    "p_count = sum(1 for i in list_of_chi2_cdf if i >= cal_chi2)\n",
    "print(f'{p_count=}, {p_count/10000=:.4f}')"
   ]
  },
  {
   "cell_type": "code",
   "execution_count": 19,
   "id": "cbeedd7d",
   "metadata": {},
   "outputs": [
    {
     "data": {
      "text/plain": [
       "Power_divergenceResult(statistic=5.0, pvalue=0.4158801869955079)"
      ]
     },
     "execution_count": 19,
     "metadata": {},
     "output_type": "execute_result"
    }
   ],
   "source": [
    "# Ну и конечно есть простой путь:\n",
    "\n",
    "stats.chisquare([10, 10, 10, 5, 10, 15])"
   ]
  },
  {
   "cell_type": "markdown",
   "id": "df4a5b3a",
   "metadata": {},
   "source": [
    "### 2 задача\n",
    "\n",
    "Вернемся к нашему примеру с политическими партиями! Проверьте гипотезу о том, что в ГС нет никаких различий в предпочтениях трех партий. Введите в поле для ответа получившееся значение статистики хи-квадрат с точностью хотя бы до одной цифры после запятой.\n",
    "Данные - 3 партии и число избирателей 10, 30 и 50."
   ]
  },
  {
   "cell_type": "code",
   "execution_count": 20,
   "id": "9775a81e",
   "metadata": {},
   "outputs": [
    {
     "data": {
      "text/plain": [
       "Power_divergenceResult(statistic=26.666666666666668, pvalue=1.61959679231261e-06)"
      ]
     },
     "execution_count": 20,
     "metadata": {},
     "output_type": "execute_result"
    }
   ],
   "source": [
    "stats.chisquare([10, 30, 50])"
   ]
  },
  {
   "cell_type": "code",
   "execution_count": 21,
   "id": "60f70576",
   "metadata": {},
   "outputs": [
    {
     "name": "stdout",
     "output_type": "stream",
     "text": [
      "26.666666666666668\n"
     ]
    }
   ],
   "source": [
    "# Найдем значение хи-квадрат для представленных наблюдений:\n",
    "\n",
    "observations = [10, 30, 50]\n",
    "exp = sum(observations) / len(observations)\n",
    "cal_chi2 = 0\n",
    "for obs in observations:\n",
    "    cal_chi2 += (obs-exp)**2/exp\n",
    "print(cal_chi2)"
   ]
  },
  {
   "cell_type": "markdown",
   "id": "e41e6cf3",
   "metadata": {},
   "source": [
    "- Отвергаем нулевую гипотезу о том, что число сторонников каждой из трех партий в генеральной совокупности одинаково.\n",
    "- Принимаем альтернативную гипотезу, что распределение предпочтений избирателей отличается от равномерного."
   ]
  },
  {
   "cell_type": "markdown",
   "id": "80d5fe30",
   "metadata": {},
   "source": [
    "### 3 задача\n",
    "\n",
    "Недавно я пришел на лекцию в Институт биоинформатики и обнаружил, что в группе различное число студентов женского и мужского пола: 15 юношей и 9 девушек. Возможно, кого-то это и могло бы оставить равнодушным, а я вот сразу взял лист бумаги и ручку, чтобы проверить гипотезу о том, что распределение частот девушек и юношей не отличается от равномерного в генеральной совокупности биоинформатиков!\n",
    "\n",
    "Давайте сверим наши результаты. Введите в поле для ответа получившийся у вас p-уровень значимости."
   ]
  },
  {
   "cell_type": "code",
   "execution_count": 22,
   "id": "160fced6",
   "metadata": {},
   "outputs": [
    {
     "data": {
      "text/plain": [
       "Power_divergenceResult(statistic=1.5, pvalue=0.22067136191984324)"
      ]
     },
     "execution_count": 22,
     "metadata": {},
     "output_type": "execute_result"
    }
   ],
   "source": [
    "stats.chisquare([15, 9])"
   ]
  },
  {
   "cell_type": "markdown",
   "id": "5e872df8",
   "metadata": {},
   "source": [
    "### 4 задача\n",
    "\n",
    "\n",
    "В 2013 году Эдвард Сноуден передал СМИ секретную информацию АНБ, касающуюся слежки американских спецслужб за информационными коммуникациями между гражданами. Однако ﻿его поступок вызвал неоднозначную реакцию в обществе. Исследовательский центр USA TODAY провел опрос 1500 граждан США с целью выяснить, воспринимают ли они поступок Сноудена как положительный или отрицательный. 53% опрошенных респондентов оценили разоблачение положительно.\n",
    "\n",
    "При помощи теста хи-квадрат проверьте нулевую гипотезу о том, что в генеральной совокупности распределение отношения к поступку Сноудена является равномерным, то есть 50 на 50."
   ]
  },
  {
   "cell_type": "code",
   "execution_count": 24,
   "id": "f203ac26",
   "metadata": {},
   "outputs": [
    {
     "data": {
      "text/plain": [
       "Power_divergenceResult(statistic=5.4, pvalue=0.02013675155034633)"
      ]
     },
     "execution_count": 24,
     "metadata": {},
     "output_type": "execute_result"
    }
   ],
   "source": [
    "stats.chisquare([1500*0.53, 1500*0.47])"
   ]
  },
  {
   "cell_type": "markdown",
   "id": "1fe360f6",
   "metadata": {},
   "source": [
    "pvalue < 0.05 - отвергаем нулевую гипотезу"
   ]
  },
  {
   "cell_type": "code",
   "execution_count": null,
   "id": "f1407616",
   "metadata": {},
   "outputs": [],
   "source": []
  }
 ],
 "metadata": {
  "kernelspec": {
   "display_name": "Python 3 (ipykernel)",
   "language": "python",
   "name": "python3"
  },
  "language_info": {
   "codemirror_mode": {
    "name": "ipython",
    "version": 3
   },
   "file_extension": ".py",
   "mimetype": "text/x-python",
   "name": "python",
   "nbconvert_exporter": "python",
   "pygments_lexer": "ipython3",
   "version": "3.9.7"
  }
 },
 "nbformat": 4,
 "nbformat_minor": 5
}
