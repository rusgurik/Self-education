{
 "cells": [
  {
   "cell_type": "code",
   "execution_count": 9,
   "id": "b221feb7",
   "metadata": {},
   "outputs": [],
   "source": [
    "import pandas as pd\n",
    "import matplotlib.pyplot as plt\n",
    "import numpy as np\n",
    "import statsmodels.api as sm\n",
    "import statsmodels.formula.api as smf"
   ]
  },
  {
   "cell_type": "code",
   "execution_count": 5,
   "id": "3e33da8f",
   "metadata": {
    "scrolled": true
   },
   "outputs": [
    {
     "data": {
      "image/png": "[encoded data removed]",
      "text/plain": [
       "<Figure size 432x288 with 1 Axes>"
      ]
     },
     "metadata": {
      "needs_background": "light"
     },
     "output_type": "display_data"
    }
   ],
   "source": [
    "# График зависимости вероятности положительного исхода от натурального логарифма шансов \n",
    "\n",
    "#x - логарифм шансов\n",
    "x = np.arange(-6, 6, 0.1)\n",
    "\n",
    "#y - вероятность положительного исхода\n",
    "y = np.exp(x) / (1 + np.exp(x))\n",
    "\n",
    "plt.plot(x, y)\n",
    "plt.grid()\n",
    "plt.xlim(-6, 6)\n",
    "plt.ylim(-0.1, 1.1)\n",
    "plt.title('Зависимость вероятности положительного исхода от натурального логарифма шансов', fontsize=12)\n",
    "plt.xlabel('log(odds)', fontsize=12)\n",
    "plt.ylabel('p', fontsize=12)\n",
    "\n",
    "plt.show()\n",
    "plt.close()"
   ]
  },
  {
   "cell_type": "markdown",
   "id": "26e5c5ae",
   "metadata": {},
   "source": [
    "1. log(p/1-p)=1000 Вероятность положительного исхода p может принимать значения от нуля до единицы [0;1]. Чем больше числитель p (чем ближе вероятность положительного исхода p к единице), тем большее значение принимает натуральный логарифм. \n",
    "\n",
    "2. Вещественные числа — числа, обладающие дробной частью и способные принимать как положительные, так и отрицательные значения. Натуральный логарифм может принимать любое значение от [–∞;+∞]\n",
    "\n",
    "3. odds=p/1-p, где p — вероятность положительного исхода, 1-p — вероятность отрицательного исхода. Если p=1-p, то odds=1. \n",
    "\n",
    "4. log(p/1-p)=log(odds)=0 Если odds=1 (предыдущий пункт), то log(1)=0. "
   ]
  },
  {
   "cell_type": "markdown",
   "id": "4ac964ad",
   "metadata": {},
   "source": [
    "### 1 task \n",
    "Предположим, мы подбросили монетку 100 раз, и 70 раз выпал орел. Чему равняется натуральный логарифм шансов выпадения решки?\n",
    "\n",
    "Чтобы не запутаться, давайте в этом задании рассматривать как \"успех\" - выпадение решки."
   ]
  },
  {
   "cell_type": "code",
   "execution_count": 13,
   "id": "c723c17b",
   "metadata": {},
   "outputs": [
    {
     "data": {
      "text/plain": [
       "-0.8472978603872037"
      ]
     },
     "execution_count": 13,
     "metadata": {},
     "output_type": "execute_result"
    }
   ],
   "source": [
    "p = 30\n",
    "n = 100\n",
    "np.log(p / (n-p))"
   ]
  },
  {
   "cell_type": "markdown",
   "id": "ccffb128",
   "metadata": {},
   "source": [
    "### 2 task\n",
    "Предположим, что мы получили логарифм шансов выпадения решки, равный -1. Тогда вероятность выпадения решки равняется:\n",
    "\n",
    " \n",
    "\n",
    "Укажите число с точностью хотя бы до двух значащих цифр."
   ]
  },
  {
   "cell_type": "code",
   "execution_count": 22,
   "id": "3511c7ed",
   "metadata": {},
   "outputs": [
    {
     "data": {
      "text/plain": [
       "0.2692307692307692"
      ]
     },
     "execution_count": 22,
     "metadata": {},
     "output_type": "execute_result"
    }
   ],
   "source": [
    "p = 1/(1+2.7142857142857144)\n",
    "\n",
    "p"
   ]
  },
  {
   "cell_type": "markdown",
   "id": "ae6800be",
   "metadata": {},
   "source": [
    "### 3 task\n",
    "Вернемся к уже знакомым нам данным.\n",
    "https://ucarecdn.com/37e900e5-2477-4354-b877-ceba2b088562/\n",
    "\n",
    "Рассчитайте логарифм шанса, того что случайно выбранный человек из нашей выборки окажется биологом."
   ]
  },
  {
   "cell_type": "code",
   "execution_count": 23,
   "id": "11a17a8d",
   "metadata": {},
   "outputs": [
    {
     "data": {
      "text/plain": [
       "0.3448404862917296"
      ]
     },
     "execution_count": 23,
     "metadata": {},
     "output_type": "execute_result"
    }
   ],
   "source": [
    "p = 24\n",
    "n = 41\n",
    "np.log(p / (n-p))"
   ]
  },
  {
   "cell_type": "markdown",
   "id": "89585ee1",
   "metadata": {},
   "source": [
    "Предположим, мы решили построить регрессионную модель, в которой зависимая переменная — номинативная переменная с двумя градациями. Какие утверждения верны?\n",
    "\n",
    "- После преобразования вероятности в логарифм шансов предсказания регрессионной модели могут быть на промежутке от минус до плюс бесконечности.\n",
    "- В качестве предикторов могут выступать как количественные, так и номинативные переменные."
   ]
  },
  {
   "cell_type": "markdown",
   "id": "c3c48274",
   "metadata": {},
   "source": [
    "Свободный член регрессии (intercept) - это логарифм шанса положительного исхода.\n",
    "\n",
    "Свободный член логистической регрессии без предикторов, равный 0.5, означает, что:\n",
    "- Вероятность положительного исхода выше вероятности отрицательного исхода.\n",
    "- Шанс положительного исхода больше единицы."
   ]
  },
  {
   "cell_type": "markdown",
   "id": "991ac6b7",
   "metadata": {},
   "source": [
    "P < 0.05 для свободного члена логистической регрессии означает, что:\n",
    "- Распределение исходов в нашей выборке значимо отличается от равномерного\n",
    "- Вероятности двух исходов зависимой переменной значимо различаются между собой"
   ]
  },
  {
   "cell_type": "markdown",
   "id": "86454445",
   "metadata": {},
   "source": [
    "### 4 task\n",
    "С помощью логистической регрессии без предикторов мы захотели узнать, правда ли, что сдавая Анатолию Дмитриевичу, легче провалить экзамен, чем сдать. В нашей выборке было 50 студентов. Часть из них сдала экзамен (положительный исход), а часть - нет (отрицательный исход). Свободный член нашей регрессии оказался равен -0.8472979. Сколько человек всё-таки сдало экзамен?"
   ]
  },
  {
   "cell_type": "code",
   "execution_count": 8,
   "id": "14f75c0e",
   "metadata": {},
   "outputs": [
    {
     "data": {
      "text/plain": [
       "15"
      ]
     },
     "execution_count": 8,
     "metadata": {},
     "output_type": "execute_result"
    }
   ],
   "source": [
    "N = 50\n",
    "intercept = -0.8472979\n",
    "p_value = np.exp(intercept) / (1 + np.exp(intercept))\n",
    "res = p_value * N\n",
    "round(res)"
   ]
  },
  {
   "cell_type": "markdown",
   "id": "7c5a347f",
   "metadata": {},
   "source": [
    "При помощи какого распределения описывается распределение коэффициентов логистической регрессии, если верна нулевая гипотеза? - Нормальное"
   ]
  },
  {
   "cell_type": "code",
   "execution_count": null,
   "id": "dc3163f1",
   "metadata": {},
   "outputs": [],
   "source": []
  },
  {
   "cell_type": "code",
   "execution_count": null,
   "id": "8a6caeec",
   "metadata": {},
   "outputs": [],
   "source": []
  },
  {
   "cell_type": "code",
   "execution_count": null,
   "id": "085f2a9b",
   "metadata": {},
   "outputs": [],
   "source": []
  }
 ],
 "metadata": {
  "kernelspec": {
   "display_name": "Python 3 (ipykernel)",
   "language": "python",
   "name": "python3"
  },
  "language_info": {
   "codemirror_mode": {
    "name": "ipython",
    "version": 3
   },
   "file_extension": ".py",
   "mimetype": "text/x-python",
   "name": "python",
   "nbconvert_exporter": "python",
   "pygments_lexer": "ipython3",
   "version": "3.9.7"
  }
 },
 "nbformat": 4,
 "nbformat_minor": 5
}
