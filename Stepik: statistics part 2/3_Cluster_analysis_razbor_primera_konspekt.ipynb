{
 "cells": [
  {
   "cell_type": "code",
   "execution_count": 1,
   "id": "da185cdb",
   "metadata": {},
   "outputs": [],
   "source": [
    "from sklearn.datasets import make_blobs\n",
    "import matplotlib.pyplot as plt\n",
    "from sklearn.cluster import KMeans\n",
    "import numpy as np\n",
    "from matplotlib import cm\n",
    "from sklearn.metrics import silhouette_samples"
   ]
  },
  {
   "cell_type": "markdown",
   "id": "373b03e6",
   "metadata": {},
   "source": [
    "Подробное описание алгоритма K-средних (SSE, контурный анализ)\n",
    "https://russianblogs.com/article/2842851849/"
   ]
  },
  {
   "cell_type": "markdown",
   "id": "bca1e55a",
   "metadata": {},
   "source": [
    "### 1. Алгоритм K-средних\n",
    "Среди алгоритмов кластеризации алгоритм K-средних является наиболее популярным и широко используемым алгоритмом кластеризации из-за его простой реализации и высокой вычислительной эффективности. Области применения алгоритмов кластеризации также очень обширны, включая различные типы классификации документов, музыку, фильмы, классификацию, основанную на покупательском поведении пользователя, и построение систем рекомендаций на основе интересов пользователей.\n",
    "\n",
    "Этапы реализации алгоритма K-Means в основном делятся на четыре этапа:\n",
    "\n",
    "1. Произвольно выберите k точек выборки из набора выборок в качестве центра начального кластера.\n",
    "\n",
    "2. Разделите каждую точку выборки на кластер, представленный ближайшей центральной точкой.\n",
    "\n",
    "3. Используйте центральную точку всех точек выборки в каждом кластере, чтобы представить центральную точку кластера.\n",
    "\n",
    "4. Повторяйте шаги 2 и 3, пока центральная точка кластера не останется неизменной или не достигнет установленного количества итераций или не достигнет установленного диапазона допуска.\n",
    "\n",
    "Обычно используемая метрика расстояния - это квадрат евклидова расстояния:\n",
    "Где x и y представляют две разные выборки, а n представляет размер выборки (количество функций). Основываясь на евклидовом расстоянии, проблема, которую необходимо оптимизировать алгоритму K-средних, состоит в том, чтобы минимизировать внутрикластерную сумму квадратов ошибок (SSE), которая также называется межкластерными интертиями (межкластерными интертиями).\n",
    "\n",
    "Используем sklearn для реализации приложения алгоритма k-средних, используя набор данных sklearn, набор данных содержит 150 случайно сгенерированных точек, а точки выборки разделены на три разных кластера."
   ]
  },
  {
   "cell_type": "code",
   "execution_count": 8,
   "id": "ebaa8e2c",
   "metadata": {},
   "outputs": [
    {
     "data": {
      "image/png": "[encoded data removed]",
      "text/plain": [
       "<Figure size 432x288 with 1 Axes>"
      ]
     },
     "metadata": {
      "needs_background": "light"
     },
     "output_type": "display_data"
    }
   ],
   "source": [
    "if __name__ == \"__main__\":\n",
    "    '''\n",
    "    n_samples: представляет количество точек выборки\n",
    "         n_features: указывает, что каждый образец состоит из двух функций\n",
    "         center: указывает количество центров точек выборки (кластеров)\n",
    "         cluster_std: указывает размер дисперсии каждого кластера выборки\n",
    "    '''\n",
    "    x,y = make_blobs(n_samples=150,n_features=2,centers=3,\n",
    "                     cluster_std=0.5,shuffle=True,random_state=0)\n",
    "         #    \n",
    "    plt.scatter(x[:,0],x[:,1],marker=\"o\",color=\"blue\")\n",
    "         # Отображение в виде таблицы\n",
    "    plt.grid()\n",
    "    plt.show()"
   ]
  },
  {
   "cell_type": "markdown",
   "id": "cbc84bb5",
   "metadata": {},
   "source": [
    "Распределение 150 точек выборки показано на рисунке выше. Далее используется встроенный алгоритм KMeans sklearn для реализации кластерного анализа указанных выше точек выборки."
   ]
  },
  {
   "cell_type": "code",
   "execution_count": 3,
   "id": "30829e98",
   "metadata": {},
   "outputs": [],
   "source": [
    "'''\n",
    "    n_clusters: установить количество кластеров\n",
    "    init: random означает использование алгоритма Kmeans, по умолчанию k-means ++\n",
    "    n_init: установить количество центров начальной выборки\n",
    "    max_iter: установить максимальное количество итераций\n",
    "    tol: Установить диапазон допустимости ошибок алгоритма SSE (квадратичная ошибка внутрикластерной ошибки)\n",
    "'''\n",
    "kmeans = KMeans(n_clusters=3,init=\"random\",n_init=10,max_iter=300,\n",
    "                    tol=1e-04,random_state=0)\n",
    "y_km = kmeans.fit_predict(x)"
   ]
  },
  {
   "cell_type": "markdown",
   "id": "68056cf2",
   "metadata": {},
   "source": [
    "### 2. К-средние ++\n",
    "Алгоритм K-средних должен случайным образом выбирать центральную точку инициализации. Если центральная точка выбрана неправильно, это может вызвать такие проблемы, как слабый эффект кластера или медленная скорость сходимости. Более подходящий способ решить эту проблему - выполнить алгоритм K-средних несколько раз для набора данных и выбрать наиболее эффективную модель на основе суммы квадратов ошибок в кластере (SSE). Кроме того, можно использовать алгоритм K-Means ++, чтобы сделать начальные центральные точки как можно дальше друг от друга. По сравнению с алгоритмом K-Means он может создать лучшую модель.\n",
    "\n",
    "K-Means ++ состоит из следующих шагов:\n",
    "\n",
    "1. Инициализируйте пустой набор M для хранения выбранных k центральных точек.\n",
    "\n",
    "2. Случайным образом выберите первую центральную точку μ из входной выборки и добавьте ее в набор M\n",
    "\n",
    "3. Для любой точки выборки x за пределами набора M найдите образец с наименьшим расстоянием d (x, M) путем вычисления.\n",
    "\n",
    "4. Используйте взвешенное распределение вероятностей, чтобы случайным образом выбрать следующую центральную точку μ.\n",
    "\n",
    "5. Повторяйте шаги 2 и 3, пока не будут выбраны k центральных точек.\n",
    "\n",
    "6. Выполните алгоритм k-средних на основе выбранной центральной точки.\n",
    "\n",
    "Чтобы использовать sklearn для реализации K-Means ++, вам нужно всего лишь установить для параметра init значение «k-means ++», а значение по умолчанию - «k-means ++». Давайте использовать алгоритм k-means ++ для реализации кластеризации трех вышеуказанных кластеров."
   ]
  },
  {
   "cell_type": "code",
   "execution_count": 12,
   "id": "dc43f24b",
   "metadata": {},
   "outputs": [
    {
     "data": {
      "image/png": "[encoded data removed]",
      "text/plain": [
       "<Figure size 432x288 with 1 Axes>"
      ]
     },
     "metadata": {
      "needs_background": "light"
     },
     "output_type": "display_data"
    }
   ],
   "source": [
    "km = KMeans(n_clusters=3,init=\"k-means++\",n_init=10,max_iter=300,\n",
    "                tol=1e-04,random_state=0)\n",
    "         #y_km сохраненные результаты кластеризации\n",
    "y_km = km.fit_predict(x)\n",
    "         # Отрисовка точек разных кластеров\n",
    "plt.scatter(x[y_km==0,0],x[y_km==0,1],s=50,c=\"orange\",marker=\"o\",label=\"cluster 1\")\n",
    "plt.scatter(x[y_km==1,0],x[y_km==1,1],s=50,c=\"green\",marker=\"s\",label=\"cluster 2\")\n",
    "plt.scatter(x[y_km==2,0],x[y_km==2,1],s=50,c=\"blue\",marker=\"^\",label=\"cluster 3\")\n",
    "         # Нарисуйте центральную точку кластера\n",
    "plt.scatter(km.cluster_centers_[:,0],km.cluster_centers_[:,1],s=250,marker=\"*\",c=\"red\",label=\"cluster center\")\n",
    "plt.legend()\n",
    "plt.grid()\n",
    "plt.show()"
   ]
  },
  {
   "cell_type": "markdown",
   "id": "fab4f742",
   "metadata": {},
   "source": [
    "Из рисунка выше видно, что эффект кластеризации k-средних ++ неплох: центральная точка кластера в основном находится в центре сферы. В реальных ситуациях может возникнуть ситуация с использованием алгоритма k-means ++, поскольку размерность образца слишком велика для визуализации, количество кластеров образца не может быть установлено. Кластеры алгоритма k-средних не могут перекрываться или расслаиваться, и предполагается, что по крайней мере один образец появится в каждом кластере.\n",
    "\n",
    "Примечание. Поскольку алгоритм k-средних вычисляется на основе евклидова расстояния, алгоритм k-средних более чувствителен к диапазону данных. Поэтому перед использованием алгоритма k-средних необходимо стандартизировать данные, чтобы гарантировать, что алгоритм k-средних не Влияние характерного размера."
   ]
  },
  {
   "cell_type": "markdown",
   "id": "e5f6c62c",
   "metadata": {},
   "source": [
    "### 3. Жесткая кластеризация и мягкая кластеризация\n",
    "Жесткая кластеризация означает, что образцы в наборе данных могут быть разделены только на один кластер, например, алгоритм k-средних. Мягкая кластеризация (мягкая кластеризация) или нечеткая кластеризация (нечеткая кластеризация) могут разделить выборку на несколько разных кластеров, например алгоритм C-средних (FCM).\n",
    "\n",
    "Шаги вычисления FCM аналогичны шагам для k-средних, за исключением того, что FCM использует вероятность выборок, принадлежащих разным кластерам, вместо меток классов в k-средних. Сумма вероятностей принадлежности выборки к разным кластерам равна 1.\n",
    "\n",
    "Шаги расчета FCM следующие:\n",
    "\n",
    "1. Укажите k центральных точек и случайным образом разделите каждую точку выборки на определенный кластер.\n",
    "\n",
    "2. Вычислите центр μ каждого кластера.\n",
    "\n",
    "3. Обновите вероятность (степень принадлежности) кластера, которому принадлежит каждая точка выборки.\n",
    "\n",
    "4. Повторяйте шаги 2 и 3 до тех пор, пока вероятность кластера, которому принадлежит точка выборки, не останется неизменной или не достигнет диапазона отказоустойчивости или максимального количества итераций.\n",
    "\n",
    "Стоимость вычисления одной итерации алгоритма FCM выше, чем у алгоритма k-средних, но скорость сходимости FCM выше."
   ]
  },
  {
   "cell_type": "markdown",
   "id": "0dceba88",
   "metadata": {},
   "source": [
    "### 4. Показатели эффективности алгоритма кластеризации.\n",
    "#### 1) Дисперсия ошибок в кластере (SSE)\n",
    "При разделении кластеров мы используем SSE в качестве целевой функции для разделения кластеров. Когда обучение алгоритма KMeans завершено, мы можем использовать атрибут инерции для получения дисперсии ошибки в кластере без необходимости повторного выполнения вычислений."
   ]
  },
  {
   "cell_type": "code",
   "execution_count": 5,
   "id": "899224ad",
   "metadata": {},
   "outputs": [
    {
     "data": {
      "image/png": "[encoded data removed]",
      "text/plain": [
       "<Figure size 432x288 with 1 Axes>"
      ]
     },
     "metadata": {
      "needs_background": "light"
     },
     "output_type": "display_data"
    }
   ],
   "source": [
    "# Используется для хранения значения SSE при установке разных номеров кластеров\n",
    "distortions = []\n",
    "for i in range(1,11):\n",
    "    km = KMeans(n_clusters=i,init=\"k-means++\",n_init=10,max_iter=300,tol=1e-4,random_state=0)\n",
    "    km.fit(x)\n",
    "      # Получить SSE алгоритма K-средних\n",
    "    distortions.append(km.inertia_)\n",
    "      # Нарисуйте кривую\n",
    "plt.plot(range(1,11),distortions,marker=\"o\")\n",
    "plt.xlabel('Количество кластеров')\n",
    "plt.ylabel('Дисперсия ошибок внутри кластера (SSE)')\n",
    "plt.show()"
   ]
  },
  {
   "cell_type": "markdown",
   "id": "0c6b0a5c",
   "metadata": {},
   "source": [
    "Вы можете использовать метод изгиба графического инструмента, чтобы визуализировать дисперсию ошибок в кластере в соответствии с количеством кластеров. На графике можно интуитивно наблюдать влияние k на дисперсию ошибок в кластере."
   ]
  },
  {
   "cell_type": "markdown",
   "id": "30bf6115",
   "metadata": {},
   "source": [
    "Из приведенного выше рисунка видно, что когда количество кластеров равно 3, появляется форма колена, которая показывает, что k, взяв 3, является хорошим выбором."
   ]
  },
  {
   "cell_type": "markdown",
   "id": "5cfc34ca",
   "metadata": {},
   "source": [
    "#### 2) Количественный анализ качества кластеризации по контурной карте.\n",
    "Силуэтный анализ, который использует графические инструменты для измерения степени кластеризации выборок в кластере, также применим к другим алгоритмам кластеризации, помимо k-средних. Коэффициент силуэта образца можно рассчитать в три этапа:\n",
    "\n",
    "1. Среднее расстояние между образцом x и другими точками в кластере принимается за сцепление в кластере a\n",
    "2. Среднее расстояние между образцом x и всеми точками в ближайшем кластере рассматривается как степень отделения b от ближайшего кластера.\n",
    "3. Разделите разницу между степенью разделения кластеров и степенью сцепления кластеров на большее из двух значений, чтобы получить коэффициент контура."
   ]
  },
  {
   "cell_type": "code",
   "execution_count": 6,
   "id": "7110f3da",
   "metadata": {},
   "outputs": [
    {
     "data": {
      "image/png": "[encoded data removed]",
      "text/plain": [
       "<Figure size 432x288 with 1 Axes>"
      ]
     },
     "metadata": {
      "needs_background": "light"
     },
     "output_type": "display_data"
    }
   ],
   "source": [
    "km = KMeans(n_clusters=3,init=\"k-means++\",n_init=10,max_iter=300,tol=1e-4,random_state=0)\n",
    "y_km = km.fit_predict(x)\n",
    "\n",
    "         # Получить метку кластера\n",
    "cluster_labels = np.unique(y_km)\n",
    "         # Получить количество кластеров\n",
    "n_clusters = cluster_labels.shape[0]\n",
    "         # Рассчитать коэффициент контура на основе евклидова расстояния\n",
    "silhoutte_vals = silhouette_samples(x,y_km,metric=\"euclidean\")\n",
    "         # Установить начальное положение координаты y\n",
    "y_ax_lower,y_ax_upper=0,0\n",
    "yticks=[]\n",
    "for i,c in enumerate(cluster_labels):\n",
    "                 # Получить коэффициенты контура различных кластеров\n",
    "    c_silhouette_vals = silhoutte_vals[y_km == c]\n",
    "                 # Сортировать контурные коэффициенты образцов в кластере от маленького к большому\n",
    "    c_silhouette_vals.sort()\n",
    "                 # Получить количество контурных коэффициентов в кластере\n",
    "    y_ax_upper += len(c_silhouette_vals)\n",
    "                 # Получить разные цвета\n",
    "    color = cm.jet(i / n_clusters)\n",
    "                 # Нарисуйте горизонтальную гистограмму\n",
    "    plt.barh(range(y_ax_lower,y_ax_upper),c_silhouette_vals, height=1.0,edgecolor=\"none\",color=color)\n",
    "                 # Получить положение шкалы оси Y\n",
    "    yticks.append((y_ax_lower+y_ax_upper) / 2)\n",
    "                     # Начальная позиция следующей оси Y\n",
    "    y_ax_lower += len(c_silhouette_vals)\n",
    "         # Получить среднее значение коэффициента контура\n",
    "silhouette_avg = np.mean(silhoutte_vals)\n",
    "         # Нарисуйте пунктирную линию параллельно среднему значению коэффициента контура оси Y\n",
    "plt.axvline(silhouette_avg,color=\"red\",linestyle=\"--\")\n",
    "         # Установить масштаб, отображаемый по оси Y\n",
    "plt.yticks(yticks,cluster_labels+1)\n",
    "plt.ylabel ('Кластер')\n",
    "plt.xlabel ('Коэффициент контура')\n",
    "plt.show()"
   ]
  },
  {
   "cell_type": "markdown",
   "id": "d58a250d",
   "metadata": {},
   "source": [
    "Значение коэффициента профиля составляет от -1 до 1. Когда сцепление кластера равно расстоянию деления, коэффициент контура равен 0. Когда b >> a, коэффициент профиля примерно равен 1, и производительность модели является наилучшей.\n",
    "\n",
    "С помощью контурной карты мы можем увидеть количество кластеров в выборке и определить, содержит ли выборка выбросы. Чтобы оценить производительность модели кластеризации, ее можно оценить, оценив коэффициент контура, который показан красной пунктирной линией на рисунке."
   ]
  },
  {
   "cell_type": "code",
   "execution_count": null,
   "id": "6efc8790",
   "metadata": {},
   "outputs": [],
   "source": []
  }
 ],
 "metadata": {
  "kernelspec": {
   "display_name": "Python 3 (ipykernel)",
   "language": "python",
   "name": "python3"
  },
  "language_info": {
   "codemirror_mode": {
    "name": "ipython",
    "version": 3
   },
   "file_extension": ".py",
   "mimetype": "text/x-python",
   "name": "python",
   "nbconvert_exporter": "python",
   "pygments_lexer": "ipython3",
   "version": "3.9.7"
  }
 },
 "nbformat": 4,
 "nbformat_minor": 5
}
