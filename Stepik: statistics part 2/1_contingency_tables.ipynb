{
 "cells": [
  {
   "cell_type": "code",
   "execution_count": 19,
   "id": "4443ec0c",
   "metadata": {},
   "outputs": [],
   "source": [
    "from scipy import stats\n",
    "import pandas as pd\n",
    "import numpy as np\n",
    "import matplotlib.pyplot as plt\n",
    "import seaborn as sns\n",
    "from statsmodels.graphics.mosaicplot import mosaic\n",
    "from scipy.stats import chi2_contingency\n",
    "import matplotlib.patches as mpatches\n",
    "from itertools import product"
   ]
  },
  {
   "cell_type": "markdown",
   "id": "2585a971",
   "metadata": {},
   "source": [
    "### 1 task\n",
    "В таблице представлены результаты эксперимента, направленного на проверку гипотезы о взаимосвязи двух номинативных переменных с двумя градациями. Рассчитайте ожидаемые частоты для проверки нулевой гипотезы о независимости двух переменных X и Y.\n",
    "Image: https://ucarecdn.com/f5fdc068-01a7-4533-b9b2-fe3ed07de382/\n",
    "\n",
    "В поле для ответа напишите максимальное значение из четырех ожидаемых частот."
   ]
  },
  {
   "cell_type": "markdown",
   "id": "046a6cac",
   "metadata": {},
   "source": [
    "https://docs.scipy.org/doc/scipy-0.19.0/reference/generated/scipy.stats.chi2_contingency.html"
   ]
  },
  {
   "cell_type": "code",
   "execution_count": 20,
   "id": "bb0e92e8",
   "metadata": {},
   "outputs": [
    {
     "data": {
      "text/plain": [
       "(3.715714285714286,\n",
       " 0.053902557169387154,\n",
       " 1,\n",
       " array([[ 6.66666667,  9.33333333],\n",
       "        [ 8.33333333, 11.66666667]]))"
      ]
     },
     "execution_count": 20,
     "metadata": {},
     "output_type": "execute_result"
    }
   ],
   "source": [
    "observed = ([10,6], [5,15])\n",
    "\n",
    "chi2_contingency(observed)"
   ]
  },
  {
   "cell_type": "markdown",
   "id": "ce9ad956",
   "metadata": {},
   "source": [
    "В таблице сопряженности два на два значения ожидаемых частот могут быть равны друг другу. \n",
    "\n",
    "При проверке гипотезы о взаимосвязи двух номинативных переменных мы можем принять альтернативную гипотезу если в таблице есть значимые отклонения между наблюдаемыми и ожидаемыми значениями хотя бы в некоторых ячейках"
   ]
  },
  {
   "cell_type": "code",
   "execution_count": 5,
   "id": "6829a093",
   "metadata": {},
   "outputs": [
    {
     "name": "stdout",
     "output_type": "stream",
     "text": [
      "Хи-квадрат = 0.000, p-value = 1.000, df = 1\n",
      "Ожидаемые значения:\n",
      "[[15.2195122  8.7804878]\n",
      " [10.7804878  6.2195122]]\n"
     ]
    }
   ],
   "source": [
    "# с поправкой\n",
    "\n",
    "observed_array = [ [15, 9], [11, 6] ]\n",
    "chi2_value, p_value, df_value, expected_array = chi2_contingency(observed_array, correction=True) \n",
    "# 'correction=True' - поправка Йейтса\n",
    "print(f'Хи-квадрат = {chi2_value:.3f}, p-value = {p_value:.3f}, df = {df_value}')\n",
    "print(f'Ожидаемые значения:\\n{expected_array}')"
   ]
  },
  {
   "cell_type": "code",
   "execution_count": 7,
   "id": "ac593a67",
   "metadata": {},
   "outputs": [
    {
     "name": "stdout",
     "output_type": "stream",
     "text": [
      "Хи-квадрат = 0.021, p-value = 0.885, df = 1\n",
      "Ожидаемые значения:\n",
      "[[15.2195122  8.7804878]\n",
      " [10.7804878  6.2195122]]\n"
     ]
    }
   ],
   "source": [
    "# без поправки\n",
    "\n",
    "chi2_value, p_value, df_value, expected_array = chi2_contingency(observed_array, correction=False) \n",
    "print(f'Хи-квадрат = {chi2_value:.3f}, p-value = {p_value:.3f}, df = {df_value}')\n",
    "print(f'Ожидаемые значения:\\n{expected_array}')"
   ]
  },
  {
   "cell_type": "markdown",
   "id": "ea26524e",
   "metadata": {},
   "source": [
    "### 2 task\n",
    "Перед знаком стоп некоторые водители останавливаются полностью, другие лишь сбавляют скорость, но некоторые не останавливаются вообще. Важнейший вопрос, есть ли взаимосвязь между полом и стилем вождения автомобиля!  Ниже представлена таблица сопряженности данных исследования, посвященного этому вопросу.\n",
    "https://ucarecdn.com/fd5dfb7a-4de4-4e78-bfb1-c3fb2a5943e0/"
   ]
  },
  {
   "cell_type": "code",
   "execution_count": 8,
   "id": "a4bd5dd2",
   "metadata": {},
   "outputs": [
    {
     "name": "stdout",
     "output_type": "stream",
     "text": [
      "\n",
      "Хи квадрат 0.9544070774762996\n",
      "p - value 0.6205162173513055\n",
      "Степеней свобод 2\n",
      "Ожидаемые наблюдения\n",
      "[[17.97297297 17.02702703]\n",
      " [11.81081081 11.18918919]\n",
      " [ 8.21621622  7.78378378]]\n",
      "\n"
     ]
    }
   ],
   "source": [
    "chi2, p_value, dof, ev = chi2_contingency(([20,15],[11,12],[7,9]))\n",
    "print(f'''\n",
    "Хи квадрат {chi2}\n",
    "p - value {p_value}\n",
    "Степеней свобод {dof}\n",
    "Ожидаемые наблюдения\n",
    "{ev}\n",
    "''')"
   ]
  },
  {
   "cell_type": "markdown",
   "id": "567d4f4d",
   "metadata": {},
   "source": [
    "При проверке гипотезы о взаимосвязи двух номинативных переменных с двумя градациями (таблица сопряженности два на два), если на самом деле верна нулевая гипотеза и никакой взаимосвязи между переменными в генеральной совокупности нет, то справедливы следующие утверждения:\n",
    "- Число степеней свободы будет равняться одному\n",
    "- Распределение статистики хи-квадрат будет обладать значительной асимметрией"
   ]
  },
  {
   "cell_type": "code",
   "execution_count": 12,
   "id": "cf231197",
   "metadata": {},
   "outputs": [
    {
     "name": "stdout",
     "output_type": "stream",
     "text": [
      "x-squared = 5.57719298245614\n",
      "p-value = 0.018195864430772903\n",
      "df = 1\n"
     ]
    },
    {
     "data": {
      "image/png": "[encoded data removed]",
      "text/plain": [
       "<Figure size 432x288 with 3 Axes>"
      ]
     },
     "metadata": {
      "needs_background": "light"
     },
     "output_type": "display_data"
    }
   ],
   "source": [
    "# Плацебо 18-7, Аспирин 6-13 (есть и нет тромбоза)\n",
    "\n",
    "observed = np.array([[18, 7], [6, 13]])\n",
    "\n",
    "chi2, p, df, expected = chi2_contingency(observed)\n",
    "\n",
    "print('x-squared =', chi2)\n",
    "print('p-value =', p)\n",
    "print('df =', df)\n",
    "\n",
    "mosaic(observed, gap=0.05, title='two by two table')\n",
    "plt.show()"
   ]
  },
  {
   "cell_type": "code",
   "execution_count": 13,
   "id": "bbcfde6e",
   "metadata": {},
   "outputs": [
    {
     "data": {
      "image/png": "[encoded data removed]",
      "text/plain": [
       "<Figure size 432x288 with 3 Axes>"
      ]
     },
     "metadata": {
      "needs_background": "light"
     },
     "output_type": "display_data"
    }
   ],
   "source": [
    "tuples = list(product(['Placebo', 'Aspirine'], ['Yes', 'No']))\n",
    "index = pd.MultiIndex.from_tuples(tuples)\n",
    "data = pd.Series([18,7,6,13], index=index)\n",
    "mosaic(data, title='hierarchical index series')\n",
    "plt.show()"
   ]
  },
  {
   "cell_type": "code",
   "execution_count": 18,
   "id": "7bfee38c",
   "metadata": {},
   "outputs": [],
   "source": [
    "# через функцию\n",
    "\n",
    "def make_me_plot(data):\n",
    "    # Проводим анализ таблиц сопряженности\n",
    "    data = data.copy()\n",
    "    obs = data.unstack().T.values\n",
    "    chi, pval, dof, est = chi2_contingency(obs)\n",
    "    remains = (obs - est)  / np.sqrt(est)\n",
    "    \n",
    "    # Присваиваем соответствующие цвета\n",
    "    hex_colors = sns.color_palette(\"coolwarm\", 6).as_hex()\n",
    "    color_labels = ['<-4', '-4:-2', '-2:0', '0:2', '2:4', '>4'][::-1]\n",
    "    colors = pd.Series([x  for x in remains.ravel()], index=data.index, name='color')\n",
    "    valrange = np.array([-np.inf, -4, -2, 0, 2, 4, np.inf])\n",
    "    color_prop = {k: {'color' : hex_colors[np.argmax(v < valrange) - 1]}  for k, v in colors.iteritems()}\n",
    "    patches = [mpatches.Patch(color=c, label=l) for c, l in zip(hex_colors, color_labels)]\n",
    "    \n",
    "    # Передаем все данные matplotlib\n",
    "    fig, ax = plt.subplots()\n",
    "    mosaic(data, gap=.02, properties=color_prop, ax=ax, labelizer= lambda x: '')\n",
    "    fig.legend(handles=patches, bbox_to_anchor=(0.6, 0., 0.5, 0.5))"
   ]
  },
  {
   "cell_type": "code",
   "execution_count": 16,
   "id": "8357dbd1",
   "metadata": {},
   "outputs": [
    {
     "data": {
      "image/png": "[encoded data removed]",
      "text/plain": [
       "<Figure size 432x288 with 3 Axes>"
      ]
     },
     "metadata": {
      "needs_background": "light"
     },
     "output_type": "display_data"
    }
   ],
   "source": [
    "cure = ['Placebo', 'Aspirine']\n",
    "effect = ['Normal', 'Trombosis']\n",
    "idx = pd.MultiIndex.from_tuples(product(cure, effect))\n",
    "data = pd.Series([7, 13, 18, 6], index=idx)\n",
    "make_me_plot(data)"
   ]
  },
  {
   "cell_type": "code",
   "execution_count": 17,
   "id": "09e31940",
   "metadata": {},
   "outputs": [
    {
     "data": {
      "image/png": "[encoded data removed]",
      "text/plain": [
       "<Figure size 432x288 with 3 Axes>"
      ]
     },
     "metadata": {
      "needs_background": "light"
     },
     "output_type": "display_data"
    }
   ],
   "source": [
    "cure = ['Placebo', 'Aspirine']\n",
    "effect = ['Normal', 'Trombosis']\n",
    "idx = pd.MultiIndex.from_tuples(product(cure, effect))\n",
    "data = pd.Series([1, 25, 30, 3], index=idx)\n",
    "make_me_plot(data)"
   ]
  },
  {
   "cell_type": "code",
   "execution_count": 21,
   "id": "2d3db669",
   "metadata": {},
   "outputs": [
    {
     "data": {
      "image/png": "[encoded data removed]",
      "text/plain": [
       "<Figure size 432x288 with 3 Axes>"
      ]
     },
     "metadata": {
      "needs_background": "light"
     },
     "output_type": "display_data"
    }
   ],
   "source": [
    "tab = pd.DataFrame({\n",
    "    'Мужчины': [20, 11, 7],\n",
    "    'Женщины': [15, 12, 9]\n",
    "})\n",
    "\n",
    "tab.index = ('Тормозят', 'Притормаживают', 'Не тормозят')\n",
    "\n",
    "mosaic(tab.stack())\n",
    "plt.show()"
   ]
  },
  {
   "cell_type": "markdown",
   "id": "8d23a2f1",
   "metadata": {},
   "source": [
    "### 3 task\n",
    "Обратимся к данным о катастрофе «Титаника». На графике представлена взаимосвязь пола пассажира «Титаника» и того, выжил он или нет в катастрофе. Размеры прямоугольников отвечают за пропорции наблюдений в той или иной ячейке, а цвет прямоугольников — за значение стандартизованного остатка в ячейках. Какие выводы мы можем сделать, проанализировав данный график?\n",
    "\n",
    "https://ucarecdn.com/d0136831-807d-46d8-838a-fc76529721ee/"
   ]
  },
  {
   "cell_type": "markdown",
   "id": "69de2c93",
   "metadata": {},
   "source": [
    "- Есть все основания отклонить нулевую гипотезу об отсутствии взаимосвязи пола и вероятности выжить в катастрофе.\n",
    "- На борту Титаника большинство пассажиров - мужчины.\n",
    "- Значимые отклонения между наблюдаемыми и ожидаемыми результатами получены во всех ячейках, что позволяет говорить: мужчины вероятнее погибнут, чем выживут, а женщины — наоборот."
   ]
  },
  {
   "cell_type": "markdown",
   "id": "c49ba902",
   "metadata": {},
   "source": [
    "### 4 task\n",
    "А теперь изучим данные о взаимосвязи шанса выжить в кораблекрушении «Титаника» и класса билета пассажира. В данном случае график стандартизированных остатков построен по результатам таблицы сопряженности 3 на 2.\n",
    "\n",
    "Какие выводы мы можем сделать в данном случае?\n",
    "https://ucarecdn.com/df988820-a349-42d1-b224-81e98dace7cb/"
   ]
  },
  {
   "cell_type": "markdown",
   "id": "b7377a30",
   "metadata": {},
   "source": [
    "- Пассажиры из третьего класса чаще погибали в катастрофе, чем пассажиры второго класса.\n",
    "- Для пассажира с билетом первого класса вероятность выжить выше вероятности погибнуть.\n",
    "- Наши данные не позволяют нам сделать вывод о статистически значимом различии в вероятности выжить или погибнуть у пассажиров второго класса."
   ]
  },
  {
   "cell_type": "code",
   "execution_count": null,
   "id": "2180467a",
   "metadata": {},
   "outputs": [],
   "source": []
  },
  {
   "cell_type": "code",
   "execution_count": null,
   "id": "f27a45dd",
   "metadata": {},
   "outputs": [],
   "source": []
  },
  {
   "cell_type": "code",
   "execution_count": null,
   "id": "e53b20cf",
   "metadata": {},
   "outputs": [],
   "source": []
  }
 ],
 "metadata": {
  "kernelspec": {
   "display_name": "Python 3 (ipykernel)",
   "language": "python",
   "name": "python3"
  },
  "language_info": {
   "codemirror_mode": {
    "name": "ipython",
    "version": 3
   },
   "file_extension": ".py",
   "mimetype": "text/x-python",
   "name": "python",
   "nbconvert_exporter": "python",
   "pygments_lexer": "ipython3",
   "version": "3.9.7"
  }
 },
 "nbformat": 4,
 "nbformat_minor": 5
}
