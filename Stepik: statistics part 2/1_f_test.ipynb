{
 "cells": [
  {
   "cell_type": "code",
   "execution_count": 1,
   "id": "de2bb4d8",
   "metadata": {},
   "outputs": [],
   "source": [
    "from scipy import stats\n",
    "import pandas as pd\n",
    "import numpy as np\n",
    "import matplotlib.pyplot as plt\n",
    "import seaborn as sns\n",
    "from statsmodels.graphics.mosaicplot import mosaic\n",
    "from scipy.stats import chi2_contingency\n",
    "import matplotlib.patches as mpatches\n",
    "from itertools import product"
   ]
  },
  {
   "cell_type": "markdown",
   "id": "a5795b00",
   "metadata": {},
   "source": [
    "Инфо: https://docs.scipy.org/doc/scipy/reference/generated/scipy.stats.fisher_exact.html"
   ]
  },
  {
   "cell_type": "code",
   "execution_count": 5,
   "id": "e083ea55",
   "metadata": {},
   "outputs": [
    {
     "name": "stdout",
     "output_type": "stream",
     "text": [
      "0.48571428571428527\n"
     ]
    }
   ],
   "source": [
    "# Лекарство1 3-1, Лекарство2 1-3 (поправился и нет)\n",
    "\n",
    "odds_ratio, pvalue = stats.fisher_exact([[1, 3], [3, 1]])  # odds_ratio - отношение шансов\n",
    "print(pvalue)"
   ]
  },
  {
   "cell_type": "markdown",
   "id": "ca5e9d11",
   "metadata": {},
   "source": [
    "### 1 task\n",
    "Марсиане 5-1, Венериане 4-7 (красные и синие)"
   ]
  },
  {
   "cell_type": "code",
   "execution_count": 6,
   "id": "c7b15435",
   "metadata": {},
   "outputs": [
    {
     "name": "stdout",
     "output_type": "stream",
     "text": [
      "0.1312217194570133\n"
     ]
    }
   ],
   "source": [
    "odds_ratio, pvalue = stats.fisher_exact([[5, 1], [4, 7]])  # odds_ratio - отношение шансов\n",
    "print(pvalue)"
   ]
  },
  {
   "cell_type": "markdown",
   "id": "28ab51bc",
   "metadata": {},
   "source": [
    "Подытожим методы анализа номинативных данных, с которыми мы познакомились. Соотнесите описание задачи и метода, который наиболее осмысленно использовать для ее решения.\n",
    "\n",
    "- Критерий хи-квадрат - Анализ таблицы сопряженности произвольного размера, где значения ожидаемых и наблюдаемых частот в каждой ячейке больше 10\n",
    "\n",
    "- Критерий хи-квадрат с поправкой Йетса - Анализ таблицы сопряженности два на два, где значения ожидаемых и наблюдаемых частот в каждой ячейке больше 5, но меньше 10\n",
    "\n",
    "- Точный критерий Фишера - Анализ таблицы сопряженности, в которой экстремально мало наблюдений, в некоторых ячейках число ожидаемых и наблюдаемых частот может быть меньше пяти\n",
    "\n",
    "\n",
    "\n"
   ]
  },
  {
   "cell_type": "code",
   "execution_count": null,
   "id": "5184617f",
   "metadata": {},
   "outputs": [],
   "source": []
  }
 ],
 "metadata": {
  "kernelspec": {
   "display_name": "Python 3 (ipykernel)",
   "language": "python",
   "name": "python3"
  },
  "language_info": {
   "codemirror_mode": {
    "name": "ipython",
    "version": 3
   },
   "file_extension": ".py",
   "mimetype": "text/x-python",
   "name": "python",
   "nbconvert_exporter": "python",
   "pygments_lexer": "ipython3",
   "version": "3.9.7"
  }
 },
 "nbformat": 4,
 "nbformat_minor": 5
}
