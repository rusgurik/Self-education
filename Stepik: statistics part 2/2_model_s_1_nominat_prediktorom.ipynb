{
 "cells": [
  {
   "cell_type": "code",
   "execution_count": 11,
   "id": "5deb0da1",
   "metadata": {},
   "outputs": [],
   "source": [
    "import pandas as pd\n",
    "import numpy as np\n",
    "import matplotlib.pyplot as plt\n",
    "import seaborn as sns\n",
    "import math\n",
    "import statsmodels.api as sm\n",
    "import statsmodels.formula.api as smf\n",
    "from sklearn.linear_model import LogisticRegression\n",
    "from sklearn import metrics\n",
    "from scipy import stats"
   ]
  },
  {
   "cell_type": "code",
   "execution_count": 15,
   "id": "bc14db35",
   "metadata": {},
   "outputs": [
    {
     "name": "stdout",
     "output_type": "stream",
     "text": [
      "                 Generalized Linear Model Regression Results                  \n",
      "==============================================================================\n",
      "Dep. Variable:                      y   No. Observations:                  891\n",
      "Model:                            GLM   Df Residuals:                      889\n",
      "Model Family:                Binomial   Df Model:                            1\n",
      "Link Function:                  logit   Scale:                          1.0000\n",
      "Method:                          IRLS   Log-Likelihood:                -458.90\n",
      "Date:                Sun, 15 May 2022   Deviance:                       917.80\n",
      "Time:                        13:32:37   Pearson chi2:                     891.\n",
      "No. Iterations:                     4                                         \n",
      "Covariance Type:            nonrobust                                         \n",
      "==============================================================================\n",
      "                 coef    std err          z      P>|z|      [0.025      0.975]\n",
      "------------------------------------------------------------------------------\n",
      "const          1.0566      0.129      8.191      0.000       0.804       1.309\n",
      "0             -2.5137      0.167    -15.036      0.000      -2.841      -2.186\n",
      "==============================================================================\n"
     ]
    },
    {
     "name": "stderr",
     "output_type": "stream",
     "text": [
      "/opt/anaconda3/lib/python3.9/site-packages/statsmodels/tsa/tsatools.py:142: FutureWarning: In a future version of pandas all arguments of concat except for the argument 'objs' will be keyword-only\n",
      "  x = pd.concat(x[::order], 1)\n"
     ]
    }
   ],
   "source": [
    "category_columns = { col: 'category' for col in ['Survived', 'Sex'] }  # приведение выбранных колонок к категориальному\n",
    "\n",
    "data = pd.read_csv('https://stepic.org/media/attachments/course/524/train.csv', dtype=category_columns)\n",
    "\n",
    "# Зависимая переменная обычно обозначается как \"Y\" или \"y\"\n",
    "Y = data.loc[:,'Survived'].cat.codes\n",
    "\n",
    "# То о чем говорил преподаватель: колонку пол c сдвумя градациями нужно трансформировать в 2 колонки для каждого пола\n",
    "X = sm.add_constant( data.loc[:,'Sex'].cat.codes )\n",
    "\n",
    "#\n",
    "# ВЫЧИСЛЯЕМ  \n",
    "#\n",
    "# Классическое представление результат-предиктор(ы), которое используется в классификаторах\n",
    "glm_binom = sm.GLM(Y, X, family=sm.families.Binomial())\n",
    "res = glm_binom.fit()\n",
    "\n",
    "print( res.summary() )"
   ]
  },
  {
   "cell_type": "code",
   "execution_count": 7,
   "id": "27b1a72e",
   "metadata": {},
   "outputs": [
    {
     "name": "stdout",
     "output_type": "stream",
     "text": [
      "-1.457120413688503 1.0565892988932617\n",
      "-2.5137097125817647\n"
     ]
    },
    {
     "name": "stderr",
     "output_type": "stream",
     "text": [
      "/var/folders/0p/7ctpjh8n3p75_35_c1b49wr80000gn/T/ipykernel_17986/1606852487.py:20: DeprecationWarning: np.asscalar(a) is deprecated since NumPy v1.16, use a.item() instead\n",
      "  pd.DataFrame(data=[np.asscalar(model.intercept_),np.asscalar(model.coef_)],\n"
     ]
    },
    {
     "data": {
      "text/html": [
       "<div>\n",
       "<style scoped>\n",
       "    .dataframe tbody tr th:only-of-type {\n",
       "        vertical-align: middle;\n",
       "    }\n",
       "\n",
       "    .dataframe tbody tr th {\n",
       "        vertical-align: top;\n",
       "    }\n",
       "\n",
       "    .dataframe thead th {\n",
       "        text-align: right;\n",
       "    }\n",
       "</style>\n",
       "<table border=\"1\" class=\"dataframe\">\n",
       "  <thead>\n",
       "    <tr style=\"text-align: right;\">\n",
       "      <th></th>\n",
       "      <th>coefs</th>\n",
       "    </tr>\n",
       "  </thead>\n",
       "  <tbody>\n",
       "    <tr>\n",
       "      <th>intercept</th>\n",
       "      <td>1.016288</td>\n",
       "    </tr>\n",
       "    <tr>\n",
       "      <th>coef</th>\n",
       "      <td>-2.445980</td>\n",
       "    </tr>\n",
       "  </tbody>\n",
       "</table>\n",
       "</div>"
      ],
      "text/plain": [
       "              coefs\n",
       "intercept  1.016288\n",
       "coef      -2.445980"
      ]
     },
     "execution_count": 7,
     "metadata": {},
     "output_type": "execute_result"
    }
   ],
   "source": [
    "df = pd.read_csv('https://stepic.org/media/attachments/course/524/train.csv')\n",
    "glm_binom2 = smf.glm(formula=\"Survived ~ C(Sex)\",\n",
    "                     data=df, family=sm.families.Binomial())\n",
    "model = glm_binom2.fit()\n",
    "model.summary()\n",
    "pd.crosstab(df.Survived, df.Sex)\n",
    "log_odds_male = np.log(109 / 468)\n",
    "log_odds_female = np.log(233 / 81) # intercept\n",
    "print(log_odds_male, log_odds_female)\n",
    "odds_male = 109/468\n",
    "odds_female = 233/81\n",
    "odds_ratio = np.log(odds_male / odds_female) # coef_\n",
    "print(odds_ratio)\n",
    "\n",
    "# sklearn\n",
    "y = df.Survived\n",
    "X = pd.get_dummies(df.Sex, drop_first=True)\n",
    "model = LogisticRegression()\n",
    "model.fit(X,y)\n",
    "pd.DataFrame(data=[np.asscalar(model.intercept_),np.asscalar(model.coef_)],\n",
    "             index=['intercept','coef'], columns=['coefs'])"
   ]
  },
  {
   "cell_type": "code",
   "execution_count": 16,
   "id": "59b02a47",
   "metadata": {},
   "outputs": [
    {
     "name": "stdout",
     "output_type": "stream",
     "text": [
      "875.8102622439758\n"
     ]
    }
   ],
   "source": [
    "# Посмотреть качетсво модели можно по аттрибуту .aic\n",
    "\n",
    "data = pd.read_csv('https://stepic.org/media/attachments/course/524/train.csv')\n",
    "data = data[data.Age.notnull()]\n",
    "\n",
    "# выживаемость по классам\n",
    "glm_binom = smf.glm(\n",
    "    formula=\"Survived ~ C(Pclass)\"\n",
    "    , data=data\n",
    "    , family=sm.families.Binomial()).fit()\n",
    "print(glm_binom.aic)"
   ]
  },
  {
   "cell_type": "code",
   "execution_count": null,
   "id": "bf3356e1",
   "metadata": {},
   "outputs": [],
   "source": []
  },
  {
   "cell_type": "code",
   "execution_count": null,
   "id": "cd695564",
   "metadata": {},
   "outputs": [],
   "source": []
  },
  {
   "cell_type": "code",
   "execution_count": null,
   "id": "dae488f5",
   "metadata": {},
   "outputs": [],
   "source": []
  },
  {
   "cell_type": "code",
   "execution_count": null,
   "id": "1e2adc38",
   "metadata": {},
   "outputs": [],
   "source": []
  },
  {
   "cell_type": "code",
   "execution_count": null,
   "id": "03f21588",
   "metadata": {},
   "outputs": [],
   "source": []
  }
 ],
 "metadata": {
  "kernelspec": {
   "display_name": "Python 3 (ipykernel)",
   "language": "python",
   "name": "python3"
  },
  "language_info": {
   "codemirror_mode": {
    "name": "ipython",
    "version": 3
   },
   "file_extension": ".py",
   "mimetype": "text/x-python",
   "name": "python",
   "nbconvert_exporter": "python",
   "pygments_lexer": "ipython3",
   "version": "3.9.7"
  }
 },
 "nbformat": 4,
 "nbformat_minor": 5
}
