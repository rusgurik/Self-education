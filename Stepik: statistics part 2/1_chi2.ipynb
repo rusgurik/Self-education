{
 "cells": [
  {
   "cell_type": "code",
   "execution_count": 59,
   "id": "50548f15",
   "metadata": {},
   "outputs": [],
   "source": [
    "from scipy.stats import chi2, bernoulli\n",
    "import pandas as pd\n",
    "import numpy as np\n",
    "import random\n",
    "import matplotlib.pyplot as plt\n",
    "import seaborn as sns\n",
    "from math import sqrt\n"
   ]
  },
  {
   "cell_type": "code",
   "execution_count": null,
   "id": "f17f4963",
   "metadata": {},
   "outputs": [],
   "source": [
    "'''\n",
    "Монах Грегор Иоганн выращивал горох трех цветов (бедняга надеялся, что это поможет ему сделать важное открытие).  \n",
    "В одном из опытов эмпирическое распределение частот некоторого цвета гороха приняло следующий вид:\n",
    "\n",
    "18, 55, 2718,55,27\n",
    "\n",
    "Чему будут равны ожидаемые значения частот, если предполагаемое теоретическое распределение имеет следующий вид:\n",
    "\n",
    "1: 2: 11:2:1\n",
    "'''"
   ]
  },
  {
   "cell_type": "code",
   "execution_count": 52,
   "id": "df832023",
   "metadata": {},
   "outputs": [
    {
     "data": {
      "text/plain": [
       "array([25., 50., 25.])"
      ]
     },
     "execution_count": 52,
     "metadata": {},
     "output_type": "execute_result"
    }
   ],
   "source": [
    "emp = np.array([18, 55, 27])\n",
    "teor = np.array([1,2,1])\n",
    "k = sum(emp) / sum(teor)\n",
    "ozid = teor * k\n",
    "ozid"
   ]
  },
  {
   "cell_type": "code",
   "execution_count": null,
   "id": "10f1cf30",
   "metadata": {},
   "outputs": [],
   "source": [
    "'''\n",
    "Эмпирическое распределение частот некоторого номинативного признака с тремя градациями приняло вид\n",
    "18, 55, 2718,55,27. Предполагаемое теоретическое распределение — 1 : 2 : 11:2:1.\n",
    "\n",
    "Рассчитайте расстояние хи-квадрат и введите получившееся значение с точностью хотя бы до одной цифры после запятой.\n",
    "'''"
   ]
  },
  {
   "cell_type": "code",
   "execution_count": 57,
   "id": "d44f11fb",
   "metadata": {},
   "outputs": [
    {
     "data": {
      "text/plain": [
       "Power_divergenceResult(statistic=2.62, pvalue=0.26982005638468687)"
      ]
     },
     "execution_count": 57,
     "metadata": {},
     "output_type": "execute_result"
    }
   ],
   "source": [
    "chisquare([18, 55, 27], f_exp=[25, 50, 25])"
   ]
  },
  {
   "cell_type": "code",
   "execution_count": null,
   "id": "cea5ebe6",
   "metadata": {},
   "outputs": [],
   "source": [
    "'''\n",
    "Ваши ставки! Как будет выглядеть распределение расстояния хи-квадрат в нашем эксперименте с монеткой при многократном повторении \n",
    "эксперимента (при условии, что верна нулевая гипотеза). \n",
    "\n",
    "Представьте, что мы при каждом повторении эксперимента рассчитываем расстояние хи - квадрат и в итоге строим гистограмму получившихся \n",
    "значений.\n",
    "'''"
   ]
  },
  {
   "cell_type": "code",
   "execution_count": 12,
   "id": "d61fc96b",
   "metadata": {},
   "outputs": [
    {
     "name": "stderr",
     "output_type": "stream",
     "text": [
      "/opt/anaconda3/lib/python3.8/site-packages/seaborn/distributions.py:2619: FutureWarning: `distplot` is a deprecated function and will be removed in a future version. Please adapt your code to use either `displot` (a figure-level function with similar flexibility) or `histplot` (an axes-level function for histograms).\n",
      "  warnings.warn(msg, FutureWarning)\n",
      "/opt/anaconda3/lib/python3.8/site-packages/seaborn/distributions.py:2619: FutureWarning: `distplot` is a deprecated function and will be removed in a future version. Please adapt your code to use either `displot` (a figure-level function with similar flexibility) or `histplot` (an axes-level function for histograms).\n",
      "  warnings.warn(msg, FutureWarning)\n"
     ]
    },
    {
     "data": {
      "text/plain": [
       "(0.0, 1.0)"
      ]
     },
     "execution_count": 12,
     "metadata": {},
     "output_type": "execute_result"
    },
    {
     "data": {
      "image/png": "[encoded data removed]",
      "text/plain": [
       "<Figure size 864x360 with 2 Axes>"
      ]
     },
     "metadata": {
      "needs_background": "light"
     },
     "output_type": "display_data"
    }
   ],
   "source": [
    "number_of_experiments = 100\n",
    "number_of_throws = 60\n",
    "expect = [number_of_throws/2]*2\n",
    "chi_result = []\n",
    "p_result = []\n",
    "\n",
    "for exp in range(number_of_experiments):\n",
    "\n",
    "    coin_throw = np.random.randint(0,2,number_of_throws)\n",
    "    result = (np.count_nonzero(coin_throw == 0)\n",
    "              , np.count_nonzero(coin_throw == 1))\n",
    "    chi, p_value = chisquare(result, f_exp=expect)\n",
    "    chi_result.append(chi)\n",
    "    p_result.append(p_value)\n",
    "\n",
    "fig, ax = plt.subplots(1, 2, figsize=(12,5))\n",
    "sns.distplot(chi_result, ax=ax[0], color='red')\n",
    "ax[0].set_xlim(0, max(chi_result))\n",
    "sns.distplot(p_result, ax=ax[1], color='blue', bins=6)\n",
    "ax[1].set_xlim(0, 1)"
   ]
  },
  {
   "cell_type": "code",
   "execution_count": 13,
   "id": "b0fe711b",
   "metadata": {},
   "outputs": [],
   "source": [
    "'''\n",
    "Напишем функцию подбрасывания монеты 60 раз, считающую сколько раз выпал орел, сколько решка и возвращающую вычисленное \n",
    "расстояния хи-квадрат для итога данных подбрасываний:\n",
    "'''"
   ]
  },
  {
   "cell_type": "code",
   "execution_count": 15,
   "id": "e291a02f",
   "metadata": {},
   "outputs": [],
   "source": [
    "def distance_chi_square_from_toss_coin():\n",
    "    eagles = 0\n",
    "    tails = 0\n",
    "    # подбрасываем монету 60 раз\n",
    "    for i in range(60):\n",
    "        if random.randint(0,1):\n",
    "            eagles += 1\n",
    "        else:\n",
    "            tails += 1\n",
    "    # расчитываем расстояние хи-квадрат Пирсона: \n",
    "    # ((O1 - E1)|sqrt(E1))^2 + ... + ((On - En)|sqrt(En))^2\n",
    "    return (\n",
    "        (eagles-30)**2/30 + (tails-30)**2/30\n",
    "    )"
   ]
  },
  {
   "cell_type": "code",
   "execution_count": 16,
   "id": "fab2e69d",
   "metadata": {},
   "outputs": [],
   "source": [
    "# делаем эксперимент 10 тыс.раз, \n",
    "# в каждом из которых по 60 раз будем подбрасывать монету \n",
    "# и сохранять возвращаемое значение расстояния хи-квадрат\n",
    "list_of_chi_square = []\n",
    "for i in range(10000):\n",
    "    list_of_chi_square.append(distance_chi_square_from_toss_coin())"
   ]
  },
  {
   "cell_type": "code",
   "execution_count": 36,
   "id": "0af68384",
   "metadata": {},
   "outputs": [
    {
     "name": "stderr",
     "output_type": "stream",
     "text": [
      "/opt/anaconda3/lib/python3.8/site-packages/seaborn/distributions.py:2619: FutureWarning: `distplot` is a deprecated function and will be removed in a future version. Please adapt your code to use either `displot` (a figure-level function with similar flexibility) or `histplot` (an axes-level function for histograms).\n",
      "  warnings.warn(msg, FutureWarning)\n"
     ]
    },
    {
     "data": {
      "image/png": "[encoded data removed]",
      "text/plain": [
       "<Figure size 432x288 with 1 Axes>"
      ]
     },
     "metadata": {
      "needs_background": "light"
     },
     "output_type": "display_data"
    }
   ],
   "source": [
    "sns.distplot(list_of_chi_square);\n"
   ]
  },
  {
   "cell_type": "code",
   "execution_count": 18,
   "id": "69641090",
   "metadata": {},
   "outputs": [
    {
     "data": {
      "image/png": "[encoded data removed]",
      "text/plain": [
       "<Figure size 432x288 with 1 Axes>"
      ]
     },
     "metadata": {
      "needs_background": "light"
     },
     "output_type": "display_data"
    }
   ],
   "source": [
    "plt.hist(list_of_chi_square);\n"
   ]
  },
  {
   "cell_type": "code",
   "execution_count": 19,
   "id": "340e8f9d",
   "metadata": {},
   "outputs": [
    {
     "name": "stdout",
     "output_type": "stream",
     "text": [
      "6.666666666666667\n"
     ]
    }
   ],
   "source": [
    "# посмотрим еще раз на значение, которое мы получали в нашем \n",
    "# конкретном наблюдении с выпаданием орла и решки (когда получили 40 орлов!):\n",
    "exp_eagles = 40\n",
    "exp_tails = 20\n",
    "# расчитываем расстояние хи-квадрат Пирсона: \n",
    "# ((O1 - E1)|sqrt(E1))^2 + ... + ((On - En)|sqrt(En))^2\n",
    "res_of_exp_chi_2 = (exp_eagles-30)**2/30 + (exp_tails-30)**2/30\n",
    "print(res_of_exp_chi_2)"
   ]
  },
  {
   "cell_type": "code",
   "execution_count": 20,
   "id": "a29afa11",
   "metadata": {},
   "outputs": [
    {
     "name": "stdout",
     "output_type": "stream",
     "text": [
      "134\n"
     ]
    }
   ],
   "source": [
    "# посмотрим % значений с равным или большим значением нашего конкретного наблюдения:\n",
    "count_of_result_or_more_like_we_see = 0\n",
    "for i in list_of_chi_square:\n",
    "    if i >= res_of_exp_chi_2:\n",
    "        count_of_result_or_more_like_we_see += 1;\n",
    "print(count_of_result_or_more_like_we_see)"
   ]
  },
  {
   "cell_type": "code",
   "execution_count": 22,
   "id": "8b73a38c",
   "metadata": {},
   "outputs": [
    {
     "name": "stdout",
     "output_type": "stream",
     "text": [
      "1.34\n"
     ]
    }
   ],
   "source": [
    "# % вероятности получить такие расхождения\n",
    "print(100 * count_of_result_or_more_like_we_see / len(list_of_chi_square))"
   ]
  },
  {
   "cell_type": "markdown",
   "id": "9a4989d9",
   "metadata": {},
   "source": [
    "### Или с вероятностью 1.27% мы могли получить такое (40 раз!) выпадение орла при 60-ти подбрасываниях честной монеты."
   ]
  },
  {
   "cell_type": "code",
   "execution_count": 25,
   "id": "ae858e43",
   "metadata": {},
   "outputs": [],
   "source": [
    "# стало интересно, а какова вероятность выпадания всех орлов?"
   ]
  },
  {
   "cell_type": "code",
   "execution_count": 23,
   "id": "c52ec722",
   "metadata": {},
   "outputs": [
    {
     "name": "stdout",
     "output_type": "stream",
     "text": [
      "60.0\n"
     ]
    }
   ],
   "source": [
    "res_of_exp_chi_2_60 = (60-30)**2/30 + (0-30)**2/30\n",
    "print(res_of_exp_chi_2_60)"
   ]
  },
  {
   "cell_type": "code",
   "execution_count": 24,
   "id": "ca276301",
   "metadata": {},
   "outputs": [
    {
     "name": "stdout",
     "output_type": "stream",
     "text": [
      "0\n"
     ]
    }
   ],
   "source": [
    "count_of_result_60 = 0\n",
    "for i in list_of_chi_square:\n",
    "    if i >= res_of_exp_chi_2_60:\n",
    "        count_of_result_60 += 1;\n",
    "print(count_of_result_60)"
   ]
  },
  {
   "cell_type": "code",
   "execution_count": 27,
   "id": "1057b91d",
   "metadata": {},
   "outputs": [],
   "source": [
    "# В нашем случайном моделировании из 10 тыс. раз - такой ситуации не встретилось. Не найдем мы ее и среди 1 млн. экспериментов. \n",
    "# Но, конечно, вероятность есть ) "
   ]
  },
  {
   "cell_type": "code",
   "execution_count": null,
   "id": "61407061",
   "metadata": {},
   "outputs": [],
   "source": []
  },
  {
   "cell_type": "code",
   "execution_count": 28,
   "id": "686ffa5a",
   "metadata": {},
   "outputs": [
    {
     "data": {
      "image/png": "[encoded data removed]",
      "text/plain": [
       "<Figure size 432x288 with 1 Axes>"
      ]
     },
     "metadata": {
      "needs_background": "light"
     },
     "output_type": "display_data"
    }
   ],
   "source": [
    "plt.hist(np.array([random.normalvariate(0, 1)**2 + random.normalvariate(0, 1)**2  for _ in range(10000)]), bins=48)\n",
    "plt.show()"
   ]
  },
  {
   "cell_type": "code",
   "execution_count": 30,
   "id": "bff1dcfa",
   "metadata": {},
   "outputs": [],
   "source": [
    "# Вопрос про получение значения 5,9 для количества степеней свободы n= 2 и вероятностью alpha=0.95 \n",
    "# действительно никак не освящён и это сбивает с толку."
   ]
  },
  {
   "cell_type": "code",
   "execution_count": 69,
   "id": "596320d7",
   "metadata": {},
   "outputs": [
    {
     "data": {
      "text/plain": [
       "5.991464547107979"
      ]
     },
     "execution_count": 69,
     "metadata": {},
     "output_type": "execute_result"
    }
   ],
   "source": [
    "chi2.ppf(df=2, q=0.95)"
   ]
  },
  {
   "cell_type": "markdown",
   "id": "f0323775",
   "metadata": {},
   "source": [
    "### Распределение хи-квадрат с k степенями свободы - это распределение суммы квадратов k независимых стандартных нормальных случайных величин. "
   ]
  },
  {
   "cell_type": "code",
   "execution_count": 32,
   "id": "9ce31466",
   "metadata": {},
   "outputs": [],
   "source": [
    "# Поиграться с распределением и степенями свободы:"
   ]
  },
  {
   "cell_type": "code",
   "execution_count": 66,
   "id": "41aed5bf",
   "metadata": {},
   "outputs": [
    {
     "data": {
      "image/png": "[encoded data removed]",
      "text/plain": [
       "<Figure size 720x432 with 1 Axes>"
      ]
     },
     "metadata": {
      "needs_background": "light"
     },
     "output_type": "display_data"
    }
   ],
   "source": [
    "plt.figure(figsize=(10, 6))\n",
    "\n",
    "df_s = 5\n",
    "\n",
    "x = np.linspace(0, 10, 100)\n",
    "\n",
    "for i in range(df_s):\n",
    "    df = i + 1\n",
    "    plt.plot(x, chi2.pdf(x, df), label=f'k={df}')\n",
    "plt.legend(bbox_to_anchor=(1, 1), fontsize=14)\n",
    "plt.title('Сhi-square distribution depends on degrees of freedom', fontsize=16)\n",
    "plt.grid()\n",
    "plt.show()"
   ]
  },
  {
   "cell_type": "code",
   "execution_count": null,
   "id": "b9b42b71",
   "metadata": {},
   "outputs": [],
   "source": []
  },
  {
   "cell_type": "code",
   "execution_count": 45,
   "id": "adb0ab4f",
   "metadata": {},
   "outputs": [],
   "source": [
    "# Пошаговое построение распределения с нуля на Python:"
   ]
  },
  {
   "cell_type": "code",
   "execution_count": 43,
   "id": "68712cd8",
   "metadata": {},
   "outputs": [],
   "source": [
    "def make_experiment(*, p: float = 0.5, sample_size: int) -> np.ndarray:\n",
    "    # 0 - решка, 1 - орел\n",
    "    sample = bernoulli.rvs(p=p, size=sample_size)\n",
    "    unique, counts = np.unique(sample, return_counts=True)\n",
    "\n",
    "    emperical_info = dict(zip(unique, counts))\n",
    "    theoretical_info = {0: int(p*len(sample)), 1: int((1-p)*len(sample))}\n",
    "\n",
    "    return sample, emperical_info, theoretical_info\n",
    "\n",
    "\n",
    "def chi_distance(theoretical_info: dict, emperical_info: dict) -> float:\n",
    "    expected_theoretical_size = theoretical_info[0]\n",
    "\n",
    "    return np.sum((np.array(list(theoretical_info.values())) - np.array(list(emperical_info.values())))**2) / expected_theoretical_size\n",
    "\n",
    "def generate_chi_distribution(*, p: float = 0.5, sp_size: int, n_times: int) -> None:\n",
    "    distances = []\n",
    "    for n_time in range(n_times):\n",
    "        # generate a sample\n",
    "        sample, emperical_info, theoretical_info = make_experiment(p=p, sample_size=sp_size)\n",
    "        # distance\n",
    "        chi_dist = chi_distance(theoretical_info, emperical_info)\n",
    "\n",
    "        distances.append(chi_dist)\n",
    "\n",
    "    distances = np.array(distances)\n",
    "\n",
    "    d = pd.DataFrame(distances, columns=['chi_distance'])\n",
    "    sns.histplot(data=d, x='chi_distance', bins=15)\n",
    "\n",
    "    return None\n",
    "\n",
    "# example call\n",
    "# generate_chi_distribution(p=0.5, sp_size=60, n_times=10000)"
   ]
  },
  {
   "cell_type": "code",
   "execution_count": 44,
   "id": "b40b4c61",
   "metadata": {},
   "outputs": [
    {
     "data": {
      "image/png": "[encoded data removed]",
      "text/plain": [
       "<Figure size 432x288 with 1 Axes>"
      ]
     },
     "metadata": {
      "needs_background": "light"
     },
     "output_type": "display_data"
    }
   ],
   "source": [
    "generate_chi_distribution(p=0.5, sp_size=60, n_times=10000)"
   ]
  },
  {
   "cell_type": "code",
   "execution_count": null,
   "id": "f210e800",
   "metadata": {},
   "outputs": [],
   "source": []
  }
 ],
 "metadata": {
  "kernelspec": {
   "display_name": "Python 3 (ipykernel)",
   "language": "python",
   "name": "python3"
  },
  "language_info": {
   "codemirror_mode": {
    "name": "ipython",
    "version": 3
   },
   "file_extension": ".py",
   "mimetype": "text/x-python",
   "name": "python",
   "nbconvert_exporter": "python",
   "pygments_lexer": "ipython3",
   "version": "3.9.7"
  }
 },
 "nbformat": 4,
 "nbformat_minor": 5
}
