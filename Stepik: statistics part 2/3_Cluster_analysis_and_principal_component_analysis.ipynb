{
 "cells": [
  {
   "cell_type": "code",
   "execution_count": 4,
   "id": "151565b2",
   "metadata": {},
   "outputs": [],
   "source": [
    "import numpy as np\n",
    "import pandas as pd\n",
    "from sklearn.cluster import KMeans\n",
    "from scipy.cluster.hierarchy import linkage, fcluster, dendrogram\n",
    "from sklearn.decomposition import PCA\n",
    "\n"
   ]
  },
  {
   "cell_type": "markdown",
   "id": "bd5fbd35",
   "metadata": {},
   "source": [
    "Рассмотрим пример данных, где каждое наблюдение характеризуется двумя переменными X и Y. Рассчитайте координаты центроида наблюдений, изображенных на графике. В поле для ответа введите координаты получившейся точки.\n",
    "\n",
    "https://ucarecdn.com/ee2e7ce5-a157-4832-a5cb-9e935236fef8/"
   ]
  },
  {
   "cell_type": "code",
   "execution_count": 10,
   "id": "7ff9993e",
   "metadata": {},
   "outputs": [
    {
     "name": "stdout",
     "output_type": "stream",
     "text": [
      "x=3.0, y=5.0\n"
     ]
    }
   ],
   "source": [
    "x = np.mean([-3,1,2,3,5,6,7])\n",
    "y = np.mean([3,4,6,8,2,11,1])\n",
    "print(f'x:{x}, y:{y}')"
   ]
  },
  {
   "cell_type": "markdown",
   "id": "725fed10",
   "metadata": {},
   "source": [
    "Вернемся к уже знакомым нам наблюдениям:\n",
    "Предположим, это один из кластеров в наших данных, тогда чему будет равняться внутрикластерная сумма квадратов?\n",
    "\n"
   ]
  },
  {
   "cell_type": "code",
   "execution_count": 16,
   "id": "683fdfda",
   "metadata": {},
   "outputs": [
    {
     "name": "stdout",
     "output_type": "stream",
     "text": [
      "[[3. 5.]]\n",
      "146.0\n"
     ]
    }
   ],
   "source": [
    "# Вариант 1\n",
    "# Запишем координаты точек в виде массива numpy\n",
    "X = np.array([[-3, 3], [1, 4], [2, 6], [3, 8], [5, 2], [6, 11], [7, 1]])\n",
    "# Обучим модель KMeans на нашем массиве с одним кластером\n",
    "kmeans = KMeans(n_clusters=1).fit(X)\n",
    "# Выведем координаты центроида данного кластера\n",
    "print(kmeans.cluster_centers_)\n",
    "# Выведем сумму квадратов расстояний точек от центроида = аттрибут модели kmeans\n",
    "print(kmeans.inertia_)"
   ]
  },
  {
   "cell_type": "code",
   "execution_count": 18,
   "id": "c3253358",
   "metadata": {},
   "outputs": [
    {
     "name": "stdout",
     "output_type": "stream",
     "text": [
      "146.0\n"
     ]
    }
   ],
   "source": [
    "# Вариант 2\n",
    "Data = {'x': [-3,1,2,3,5,6,7],\n",
    "        'y': [3,4,6,8,2,11,1]}\n",
    "  \n",
    "df = pd.DataFrame(Data,columns=['x','y'])\n",
    "  \n",
    "kmeans = KMeans(1)\n",
    "kmeans.fit(df)\n",
    "print(kmeans.inertia_)"
   ]
  },
  {
   "cell_type": "code",
   "execution_count": 20,
   "id": "d5d329cf",
   "metadata": {},
   "outputs": [
    {
     "data": {
      "text/plain": [
       "146.0"
      ]
     },
     "execution_count": 20,
     "metadata": {},
     "output_type": "execute_result"
    }
   ],
   "source": [
    "# Вариант 3\n",
    "dots = np.array([[-3,3],[1,4],[2,6],[3,8],[5,2],[6,11],[7,1]])\n",
    "\n",
    "center = dots.mean(axis=0) #поиск центроида\n",
    "squares = (dots - center)**2 #квадараты отклонения от центроида по каждой оси\n",
    "sum_squares = squares.sum() #искомая сумма\n",
    "\n",
    "sum_squares"
   ]
  },
  {
   "cell_type": "markdown",
   "id": "7c56c57f",
   "metadata": {},
   "source": [
    "### Task 1\n",
    "\n",
    "Напишите функцию smart_hclust, которая получает на вход dataframe  с произвольным числом количественных переменных и число кластеров, которое необходимо выделить при помощи иерархической кластеризации.\n",
    "\n",
    "Функция должна в исходный набор данных добавлять новую переменную фактор - cluster  -- номер кластера, к которому отнесено каждое из наблюдений."
   ]
  },
  {
   "cell_type": "code",
   "execution_count": 2,
   "id": "09242ad7",
   "metadata": {},
   "outputs": [],
   "source": [
    "data = pd.read_csv(r'https://stepic.org/media/attachments/course/524/test_data_hclust.csv')\n",
    "\n",
    "def smart_hclust(data):\n",
    "    # Вычисляем матрицу расстояний\n",
    "    Z = linkage(data, method='average', metric='euclidean')\n",
    "    # Визуализируем иерархическую кластеризацию\n",
    "    dend = dendrogram(Z, orientation='left')\n",
    "    # Разбиваем на кластеры; 2й параметр - порог отсечения\n",
    "    labels = fcluster(Z, 9.5, criterion='distance')\n",
    "    data['labels'] = labels\n",
    "    return data"
   ]
  },
  {
   "cell_type": "code",
   "execution_count": 3,
   "id": "937a2df7",
   "metadata": {},
   "outputs": [
    {
     "data": {
      "text/html": [
       "<div>\n",
       "<style scoped>\n",
       "    .dataframe tbody tr th:only-of-type {\n",
       "        vertical-align: middle;\n",
       "    }\n",
       "\n",
       "    .dataframe tbody tr th {\n",
       "        vertical-align: top;\n",
       "    }\n",
       "\n",
       "    .dataframe thead th {\n",
       "        text-align: right;\n",
       "    }\n",
       "</style>\n",
       "<table border=\"1\" class=\"dataframe\">\n",
       "  <thead>\n",
       "    <tr style=\"text-align: right;\">\n",
       "      <th></th>\n",
       "      <th>X1</th>\n",
       "      <th>X2</th>\n",
       "      <th>X3</th>\n",
       "      <th>X4</th>\n",
       "      <th>X5</th>\n",
       "      <th>labels</th>\n",
       "    </tr>\n",
       "  </thead>\n",
       "  <tbody>\n",
       "    <tr>\n",
       "      <th>0</th>\n",
       "      <td>11</td>\n",
       "      <td>7</td>\n",
       "      <td>10</td>\n",
       "      <td>10</td>\n",
       "      <td>8</td>\n",
       "      <td>1</td>\n",
       "    </tr>\n",
       "    <tr>\n",
       "      <th>1</th>\n",
       "      <td>9</td>\n",
       "      <td>10</td>\n",
       "      <td>10</td>\n",
       "      <td>8</td>\n",
       "      <td>6</td>\n",
       "      <td>1</td>\n",
       "    </tr>\n",
       "    <tr>\n",
       "      <th>2</th>\n",
       "      <td>9</td>\n",
       "      <td>2</td>\n",
       "      <td>12</td>\n",
       "      <td>14</td>\n",
       "      <td>11</td>\n",
       "      <td>2</td>\n",
       "    </tr>\n",
       "    <tr>\n",
       "      <th>3</th>\n",
       "      <td>9</td>\n",
       "      <td>11</td>\n",
       "      <td>8</td>\n",
       "      <td>10</td>\n",
       "      <td>3</td>\n",
       "      <td>1</td>\n",
       "    </tr>\n",
       "    <tr>\n",
       "      <th>4</th>\n",
       "      <td>7</td>\n",
       "      <td>9</td>\n",
       "      <td>10</td>\n",
       "      <td>11</td>\n",
       "      <td>14</td>\n",
       "      <td>2</td>\n",
       "    </tr>\n",
       "    <tr>\n",
       "      <th>5</th>\n",
       "      <td>9</td>\n",
       "      <td>11</td>\n",
       "      <td>9</td>\n",
       "      <td>6</td>\n",
       "      <td>9</td>\n",
       "      <td>1</td>\n",
       "    </tr>\n",
       "    <tr>\n",
       "      <th>6</th>\n",
       "      <td>16</td>\n",
       "      <td>20</td>\n",
       "      <td>22</td>\n",
       "      <td>19</td>\n",
       "      <td>16</td>\n",
       "      <td>4</td>\n",
       "    </tr>\n",
       "    <tr>\n",
       "      <th>7</th>\n",
       "      <td>23</td>\n",
       "      <td>18</td>\n",
       "      <td>21</td>\n",
       "      <td>24</td>\n",
       "      <td>16</td>\n",
       "      <td>4</td>\n",
       "    </tr>\n",
       "    <tr>\n",
       "      <th>8</th>\n",
       "      <td>15</td>\n",
       "      <td>21</td>\n",
       "      <td>14</td>\n",
       "      <td>21</td>\n",
       "      <td>21</td>\n",
       "      <td>3</td>\n",
       "    </tr>\n",
       "    <tr>\n",
       "      <th>9</th>\n",
       "      <td>19</td>\n",
       "      <td>20</td>\n",
       "      <td>15</td>\n",
       "      <td>17</td>\n",
       "      <td>17</td>\n",
       "      <td>3</td>\n",
       "    </tr>\n",
       "    <tr>\n",
       "      <th>10</th>\n",
       "      <td>20</td>\n",
       "      <td>24</td>\n",
       "      <td>21</td>\n",
       "      <td>20</td>\n",
       "      <td>19</td>\n",
       "      <td>4</td>\n",
       "    </tr>\n",
       "    <tr>\n",
       "      <th>11</th>\n",
       "      <td>22</td>\n",
       "      <td>19</td>\n",
       "      <td>27</td>\n",
       "      <td>22</td>\n",
       "      <td>19</td>\n",
       "      <td>4</td>\n",
       "    </tr>\n",
       "  </tbody>\n",
       "</table>\n",
       "</div>"
      ],
      "text/plain": [
       "    X1  X2  X3  X4  X5  labels\n",
       "0   11   7  10  10   8       1\n",
       "1    9  10  10   8   6       1\n",
       "2    9   2  12  14  11       2\n",
       "3    9  11   8  10   3       1\n",
       "4    7   9  10  11  14       2\n",
       "5    9  11   9   6   9       1\n",
       "6   16  20  22  19  16       4\n",
       "7   23  18  21  24  16       4\n",
       "8   15  21  14  21  21       3\n",
       "9   19  20  15  17  17       3\n",
       "10  20  24  21  20  19       4\n",
       "11  22  19  27  22  19       4"
      ]
     },
     "execution_count": 3,
     "metadata": {},
     "output_type": "execute_result"
    },
    {
     "data": {
      "image/png": "[encoded data removed]",
      "text/plain": [
       "<Figure size 432x288 with 1 Axes>"
      ]
     },
     "metadata": {
      "needs_background": "light"
     },
     "output_type": "display_data"
    }
   ],
   "source": [
    "smart_hclust(data)"
   ]
  },
  {
   "cell_type": "markdown",
   "id": "44d898bd",
   "metadata": {},
   "source": [
    "### Task 3\n",
    "\n",
    "Напишите функцию get_pc﻿, которая получает на вход dataframe с произвольным числом количественных переменных. Функция должна выполнять анализ главных компонент и добавлять в исходные данные две новые колонки со значениями первой и второй главной компоненты. Новые переменные должны называться \"PC1\"  и \"PC2\" соответственно."
   ]
  },
  {
   "cell_type": "code",
   "execution_count": 7,
   "id": "0e23075f",
   "metadata": {},
   "outputs": [],
   "source": [
    "df = pd.read_csv(r'https://stepic.org/media/attachments/course/524/pca_test.csv')"
   ]
  },
  {
   "cell_type": "code",
   "execution_count": 8,
   "id": "19514c7b",
   "metadata": {},
   "outputs": [],
   "source": [
    "pca = PCA(n_components=2)\n",
    "\n",
    "def get_pc(df):\n",
    "    return df.assign(pc1=pca.fit_transform(df)[:, 0], \n",
    "           pc2=pca.fit_transform(df)[:, 1])"
   ]
  },
  {
   "cell_type": "code",
   "execution_count": 9,
   "id": "25ed960c",
   "metadata": {},
   "outputs": [
    {
     "data": {
      "text/html": [
       "<div>\n",
       "<style scoped>\n",
       "    .dataframe tbody tr th:only-of-type {\n",
       "        vertical-align: middle;\n",
       "    }\n",
       "\n",
       "    .dataframe tbody tr th {\n",
       "        vertical-align: top;\n",
       "    }\n",
       "\n",
       "    .dataframe thead th {\n",
       "        text-align: right;\n",
       "    }\n",
       "</style>\n",
       "<table border=\"1\" class=\"dataframe\">\n",
       "  <thead>\n",
       "    <tr style=\"text-align: right;\">\n",
       "      <th></th>\n",
       "      <th>V1</th>\n",
       "      <th>V2</th>\n",
       "      <th>V3</th>\n",
       "      <th>V4</th>\n",
       "      <th>V5</th>\n",
       "      <th>pc1</th>\n",
       "      <th>pc2</th>\n",
       "    </tr>\n",
       "  </thead>\n",
       "  <tbody>\n",
       "    <tr>\n",
       "      <th>0</th>\n",
       "      <td>13</td>\n",
       "      <td>15</td>\n",
       "      <td>12</td>\n",
       "      <td>13</td>\n",
       "      <td>12</td>\n",
       "      <td>-4.500822</td>\n",
       "      <td>-2.364595</td>\n",
       "    </tr>\n",
       "    <tr>\n",
       "      <th>1</th>\n",
       "      <td>16</td>\n",
       "      <td>11</td>\n",
       "      <td>8</td>\n",
       "      <td>12</td>\n",
       "      <td>6</td>\n",
       "      <td>3.039182</td>\n",
       "      <td>1.929687</td>\n",
       "    </tr>\n",
       "    <tr>\n",
       "      <th>2</th>\n",
       "      <td>15</td>\n",
       "      <td>7</td>\n",
       "      <td>10</td>\n",
       "      <td>12</td>\n",
       "      <td>13</td>\n",
       "      <td>-2.752467</td>\n",
       "      <td>5.076265</td>\n",
       "    </tr>\n",
       "    <tr>\n",
       "      <th>3</th>\n",
       "      <td>12</td>\n",
       "      <td>11</td>\n",
       "      <td>6</td>\n",
       "      <td>6</td>\n",
       "      <td>4</td>\n",
       "      <td>7.837194</td>\n",
       "      <td>-1.688535</td>\n",
       "    </tr>\n",
       "    <tr>\n",
       "      <th>4</th>\n",
       "      <td>11</td>\n",
       "      <td>13</td>\n",
       "      <td>13</td>\n",
       "      <td>10</td>\n",
       "      <td>12</td>\n",
       "      <td>-3.623088</td>\n",
       "      <td>-2.952822</td>\n",
       "    </tr>\n",
       "  </tbody>\n",
       "</table>\n",
       "</div>"
      ],
      "text/plain": [
       "   V1  V2  V3  V4  V5       pc1       pc2\n",
       "0  13  15  12  13  12 -4.500822 -2.364595\n",
       "1  16  11   8  12   6  3.039182  1.929687\n",
       "2  15   7  10  12  13 -2.752467  5.076265\n",
       "3  12  11   6   6   4  7.837194 -1.688535\n",
       "4  11  13  13  10  12 -3.623088 -2.952822"
      ]
     },
     "execution_count": 9,
     "metadata": {},
     "output_type": "execute_result"
    }
   ],
   "source": [
    "get_pc(df)"
   ]
  },
  {
   "cell_type": "markdown",
   "id": "1ed8caee",
   "metadata": {},
   "source": [
    "### Task 4\n",
    "\n",
    "Усложним предыдущую задачу! Напишите функцию get_pca2, которая принимает на вход dataframe с произвольным числом количественных переменных. Функция должна рассчитать, какое минимальное число главных компонент объясняет больше 90% изменчивости в исходных данных и добавлять значения этих компонент в исходный dataframe в виде новых переменных."
   ]
  },
  {
   "cell_type": "code",
   "execution_count": 13,
   "id": "65fc7f49",
   "metadata": {},
   "outputs": [],
   "source": [
    "def get_pca2(df, threshold=0.9):\n",
    "    pca = PCA(n_components=df.shape[1])\n",
    "    fit = pca.fit_transform(df)\n",
    "    n_components = sum(np.cumsum(pca.explained_variance_ratio_) < threshold) + 1\n",
    "    return pd.concat([df, pd.DataFrame(fit[:, :n_components])], axis=1)"
   ]
  },
  {
   "cell_type": "code",
   "execution_count": 14,
   "id": "8ad3e046",
   "metadata": {},
   "outputs": [
    {
     "data": {
      "text/html": [
       "<div>\n",
       "<style scoped>\n",
       "    .dataframe tbody tr th:only-of-type {\n",
       "        vertical-align: middle;\n",
       "    }\n",
       "\n",
       "    .dataframe tbody tr th {\n",
       "        vertical-align: top;\n",
       "    }\n",
       "\n",
       "    .dataframe thead th {\n",
       "        text-align: right;\n",
       "    }\n",
       "</style>\n",
       "<table border=\"1\" class=\"dataframe\">\n",
       "  <thead>\n",
       "    <tr style=\"text-align: right;\">\n",
       "      <th></th>\n",
       "      <th>V1</th>\n",
       "      <th>V2</th>\n",
       "      <th>V3</th>\n",
       "      <th>V4</th>\n",
       "      <th>V5</th>\n",
       "      <th>0</th>\n",
       "      <th>1</th>\n",
       "      <th>2</th>\n",
       "    </tr>\n",
       "  </thead>\n",
       "  <tbody>\n",
       "    <tr>\n",
       "      <th>0</th>\n",
       "      <td>13</td>\n",
       "      <td>15</td>\n",
       "      <td>12</td>\n",
       "      <td>13</td>\n",
       "      <td>12</td>\n",
       "      <td>-4.500822</td>\n",
       "      <td>-2.364595</td>\n",
       "      <td>2.054657</td>\n",
       "    </tr>\n",
       "    <tr>\n",
       "      <th>1</th>\n",
       "      <td>16</td>\n",
       "      <td>11</td>\n",
       "      <td>8</td>\n",
       "      <td>12</td>\n",
       "      <td>6</td>\n",
       "      <td>3.039182</td>\n",
       "      <td>1.929687</td>\n",
       "      <td>3.234643</td>\n",
       "    </tr>\n",
       "    <tr>\n",
       "      <th>2</th>\n",
       "      <td>15</td>\n",
       "      <td>7</td>\n",
       "      <td>10</td>\n",
       "      <td>12</td>\n",
       "      <td>13</td>\n",
       "      <td>-2.752467</td>\n",
       "      <td>5.076265</td>\n",
       "      <td>-1.868558</td>\n",
       "    </tr>\n",
       "    <tr>\n",
       "      <th>3</th>\n",
       "      <td>12</td>\n",
       "      <td>11</td>\n",
       "      <td>6</td>\n",
       "      <td>6</td>\n",
       "      <td>4</td>\n",
       "      <td>7.837194</td>\n",
       "      <td>-1.688535</td>\n",
       "      <td>-1.581097</td>\n",
       "    </tr>\n",
       "    <tr>\n",
       "      <th>4</th>\n",
       "      <td>11</td>\n",
       "      <td>13</td>\n",
       "      <td>13</td>\n",
       "      <td>10</td>\n",
       "      <td>12</td>\n",
       "      <td>-3.623088</td>\n",
       "      <td>-2.952822</td>\n",
       "      <td>-1.839644</td>\n",
       "    </tr>\n",
       "  </tbody>\n",
       "</table>\n",
       "</div>"
      ],
      "text/plain": [
       "   V1  V2  V3  V4  V5         0         1         2\n",
       "0  13  15  12  13  12 -4.500822 -2.364595  2.054657\n",
       "1  16  11   8  12   6  3.039182  1.929687  3.234643\n",
       "2  15   7  10  12  13 -2.752467  5.076265 -1.868558\n",
       "3  12  11   6   6   4  7.837194 -1.688535 -1.581097\n",
       "4  11  13  13  10  12 -3.623088 -2.952822 -1.839644"
      ]
     },
     "execution_count": 14,
     "metadata": {},
     "output_type": "execute_result"
    }
   ],
   "source": [
    "get_pca2(df, threshold=0.9)"
   ]
  },
  {
   "cell_type": "code",
   "execution_count": null,
   "id": "b6175817",
   "metadata": {},
   "outputs": [],
   "source": []
  }
 ],
 "metadata": {
  "kernelspec": {
   "display_name": "Python 3 (ipykernel)",
   "language": "python",
   "name": "python3"
  },
  "language_info": {
   "codemirror_mode": {
    "name": "ipython",
    "version": 3
   },
   "file_extension": ".py",
   "mimetype": "text/x-python",
   "name": "python",
   "nbconvert_exporter": "python",
   "pygments_lexer": "ipython3",
   "version": "3.9.7"
  }
 },
 "nbformat": 4,
 "nbformat_minor": 5
}
