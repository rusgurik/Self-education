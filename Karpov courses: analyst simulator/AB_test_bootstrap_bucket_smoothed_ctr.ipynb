{
 "cells": [
  {
   "cell_type": "code",
   "execution_count": 3,
   "id": "2e134f1f",
   "metadata": {},
   "outputs": [],
   "source": [
    "import pandas as pd\n",
    "import numpy as np\n",
    "import pandahouse as ph\n",
    "import seaborn as sns\n",
    "import matplotlib.pyplot as plt\n",
    "from scipy import stats\n",
    "import hashlib\n",
    "import swifter\n",
    "\n",
    "from tqdm.auto import tqdm"
   ]
  },
  {
   "cell_type": "code",
   "execution_count": 4,
   "id": "d6888529",
   "metadata": {},
   "outputs": [],
   "source": [
    "connection = {'host': 'https://clickhouse.lab.karpov.courses',\n",
    "                      'database':'simulator_20220620',\n",
    "                      'user':'student', \n",
    "                      'password':'dpo_python_2020'\n",
    "                     }"
   ]
  },
  {
   "cell_type": "markdown",
   "id": "3513a411",
   "metadata": {},
   "source": [
    "Пришло время проанализировать результаты эксперимента, который мы провели вместе с командой дата сайентистов. Эксперимент проходил с 2022-05-24 по 2022-05-30 включительно. Для эксперимента были задействованы 2 и 1 группы. \n",
    "\n",
    "В группе 2 был использован один из новых алгоритмов рекомендации постов, группа 1 использовалась в качестве контроля. \n",
    "\n",
    "Основная гипотеза заключается в том, что новый алгоритм во 2-й группе приведет к увеличению CTR. \n",
    "\n",
    "Ваша задача — проанализировать данные АB-теста. \n",
    "\n",
    "- Выбрать метод анализа и сравнить CTR в двух группах (мы разбирали t-тест, Пуассоновский бутстреп, тест Манна-Уитни, t-тест на сглаженном ctr (α=5) а также t-тест и тест Манна-Уитни поверх бакетного преобразования).\n",
    "- Сравните данные этими тестами. А еще посмотрите на распределения глазами. Почему тесты сработали так как сработали? \n",
    "- Опишите потенциальную ситуацию, когда такое изменение могло произойти. Тут нет идеального ответа, подумайте.\n",
    "- Напишите рекомендацию, будем ли мы раскатывать новый алгоритм на всех новых пользователей или все-таки не стоит."
   ]
  },
  {
   "cell_type": "code",
   "execution_count": 92,
   "id": "08489b75",
   "metadata": {},
   "outputs": [],
   "source": [
    "query = '''\n",
    "SELECT exp_group, \n",
    "    user_id,\n",
    "    sum(action = 'like') as likes,\n",
    "    sum(action = 'view') as views,\n",
    "    likes/views as ctr\n",
    "FROM {db}.feed_actions \n",
    "WHERE toDate(time) between '2022-05-24' and '2022-05-30'\n",
    "    and exp_group in (1,2)\n",
    "GROUP BY exp_group, user_id\n",
    "'''\n",
    "\n",
    "df = ph.read_clickhouse(query, connection=connection)"
   ]
  },
  {
   "cell_type": "code",
   "execution_count": 7,
   "id": "0016ee54",
   "metadata": {},
   "outputs": [
    {
     "data": {
      "text/html": [
       "<div>\n",
       "<style scoped>\n",
       "    .dataframe tbody tr th:only-of-type {\n",
       "        vertical-align: middle;\n",
       "    }\n",
       "\n",
       "    .dataframe tbody tr th {\n",
       "        vertical-align: top;\n",
       "    }\n",
       "\n",
       "    .dataframe thead th {\n",
       "        text-align: right;\n",
       "    }\n",
       "</style>\n",
       "<table border=\"1\" class=\"dataframe\">\n",
       "  <thead>\n",
       "    <tr style=\"text-align: right;\">\n",
       "      <th></th>\n",
       "      <th>exp_group</th>\n",
       "      <th>user_id</th>\n",
       "      <th>likes</th>\n",
       "      <th>views</th>\n",
       "      <th>ctr</th>\n",
       "    </tr>\n",
       "  </thead>\n",
       "  <tbody>\n",
       "    <tr>\n",
       "      <th>0</th>\n",
       "      <td>1</td>\n",
       "      <td>109963</td>\n",
       "      <td>3</td>\n",
       "      <td>15</td>\n",
       "      <td>0.200000</td>\n",
       "    </tr>\n",
       "    <tr>\n",
       "      <th>1</th>\n",
       "      <td>1</td>\n",
       "      <td>26117</td>\n",
       "      <td>32</td>\n",
       "      <td>141</td>\n",
       "      <td>0.226950</td>\n",
       "    </tr>\n",
       "    <tr>\n",
       "      <th>2</th>\n",
       "      <td>1</td>\n",
       "      <td>138232</td>\n",
       "      <td>18</td>\n",
       "      <td>73</td>\n",
       "      <td>0.246575</td>\n",
       "    </tr>\n",
       "    <tr>\n",
       "      <th>3</th>\n",
       "      <td>1</td>\n",
       "      <td>26295</td>\n",
       "      <td>33</td>\n",
       "      <td>122</td>\n",
       "      <td>0.270492</td>\n",
       "    </tr>\n",
       "    <tr>\n",
       "      <th>4</th>\n",
       "      <td>1</td>\n",
       "      <td>18392</td>\n",
       "      <td>7</td>\n",
       "      <td>32</td>\n",
       "      <td>0.218750</td>\n",
       "    </tr>\n",
       "  </tbody>\n",
       "</table>\n",
       "</div>"
      ],
      "text/plain": [
       "   exp_group  user_id  likes  views       ctr\n",
       "0          1   109963      3     15  0.200000\n",
       "1          1    26117     32    141  0.226950\n",
       "2          1   138232     18     73  0.246575\n",
       "3          1    26295     33    122  0.270492\n",
       "4          1    18392      7     32  0.218750"
      ]
     },
     "execution_count": 7,
     "metadata": {},
     "output_type": "execute_result"
    }
   ],
   "source": [
    "df.head()"
   ]
  },
  {
   "cell_type": "code",
   "execution_count": 8,
   "id": "172b2f51",
   "metadata": {},
   "outputs": [
    {
     "data": {
      "text/html": [
       "<div>\n",
       "<style scoped>\n",
       "    .dataframe tbody tr th:only-of-type {\n",
       "        vertical-align: middle;\n",
       "    }\n",
       "\n",
       "    .dataframe tbody tr th {\n",
       "        vertical-align: top;\n",
       "    }\n",
       "\n",
       "    .dataframe thead th {\n",
       "        text-align: right;\n",
       "    }\n",
       "</style>\n",
       "<table border=\"1\" class=\"dataframe\">\n",
       "  <thead>\n",
       "    <tr style=\"text-align: right;\">\n",
       "      <th></th>\n",
       "      <th>user_id</th>\n",
       "      <th>likes</th>\n",
       "      <th>views</th>\n",
       "      <th>ctr</th>\n",
       "    </tr>\n",
       "    <tr>\n",
       "      <th>exp_group</th>\n",
       "      <th></th>\n",
       "      <th></th>\n",
       "      <th></th>\n",
       "      <th></th>\n",
       "    </tr>\n",
       "  </thead>\n",
       "  <tbody>\n",
       "    <tr>\n",
       "      <th>1</th>\n",
       "      <td>10079</td>\n",
       "      <td>10079</td>\n",
       "      <td>10079</td>\n",
       "      <td>10079</td>\n",
       "    </tr>\n",
       "    <tr>\n",
       "      <th>2</th>\n",
       "      <td>9952</td>\n",
       "      <td>9952</td>\n",
       "      <td>9952</td>\n",
       "      <td>9952</td>\n",
       "    </tr>\n",
       "  </tbody>\n",
       "</table>\n",
       "</div>"
      ],
      "text/plain": [
       "           user_id  likes  views    ctr\n",
       "exp_group                              \n",
       "1            10079  10079  10079  10079\n",
       "2             9952   9952   9952   9952"
      ]
     },
     "execution_count": 8,
     "metadata": {},
     "output_type": "execute_result"
    }
   ],
   "source": [
    "df.groupby('exp_group').count()"
   ]
  },
  {
   "cell_type": "markdown",
   "id": "4b224145",
   "metadata": {},
   "source": [
    "### Проведем визуальную оценку распределений ctr для групп 1 и 2"
   ]
  },
  {
   "cell_type": "code",
   "execution_count": 47,
   "id": "9a8ca460",
   "metadata": {},
   "outputs": [],
   "source": [
    "sns.set(rc={'figure.figsize':(10,6)})"
   ]
  },
  {
   "cell_type": "code",
   "execution_count": 48,
   "id": "4b9677e0",
   "metadata": {},
   "outputs": [
    {
     "data": {
      "image/png": "[encoded data removed]",
      "text/plain": [
       "<Figure size 720x432 with 1 Axes>"
      ]
     },
     "metadata": {},
     "output_type": "display_data"
    }
   ],
   "source": [
    "groups = sns.histplot(data = df, \n",
    "              x='ctr', \n",
    "              hue='exp_group', \n",
    "              palette = ['r', 'b'],\n",
    "              alpha=0.5,\n",
    "              kde=False)"
   ]
  },
  {
   "cell_type": "markdown",
   "id": "af57c80a",
   "metadata": {},
   "source": [
    "### Распределение метрик визуально значительно отличаются"
   ]
  },
  {
   "cell_type": "code",
   "execution_count": 36,
   "id": "ffd3e060",
   "metadata": {},
   "outputs": [
    {
     "data": {
      "text/plain": [
       "ShapiroResult(statistic=0.8864326477050781, pvalue=0.0)"
      ]
     },
     "execution_count": 36,
     "metadata": {},
     "output_type": "execute_result"
    }
   ],
   "source": [
    "# посмотрим еще через тест Шапиро-Уилка\n",
    "stats.shapiro(df[df.exp_group == 2].ctr) "
   ]
  },
  {
   "cell_type": "code",
   "execution_count": 102,
   "id": "4410964c",
   "metadata": {},
   "outputs": [
    {
     "data": {
      "text/plain": [
       "ShapiroResult(statistic=0.9498439431190491, pvalue=0.0)"
      ]
     },
     "execution_count": 102,
     "metadata": {},
     "output_type": "execute_result"
    }
   ],
   "source": [
    "stats.shapiro(df[df.exp_group == 1].ctr) "
   ]
  },
  {
   "cell_type": "markdown",
   "id": "3e851384",
   "metadata": {},
   "source": [
    "Тест Шапиро-Уилка подтверждает, что распределение ctr в группе 1 и 2 статистически значимо отличается от нормального (p-value<0.05, отклоняем гипотезу о нормальности распределения). Для сравнения результатов нужно использовать непараметрический аналог Т-теста: критерий Мана-Уитни"
   ]
  },
  {
   "cell_type": "markdown",
   "id": "da309e03",
   "metadata": {},
   "source": [
    "### Тест Манна-Уитни"
   ]
  },
  {
   "cell_type": "code",
   "execution_count": 59,
   "id": "7dd60b1a",
   "metadata": {},
   "outputs": [
    {
     "name": "stdout",
     "output_type": "stream",
     "text": [
      "Разница статистически значима \n",
      "p-value 6.0376484617779035e-56 \n",
      "U-критерий 56601260.5\n"
     ]
    }
   ],
   "source": [
    "stat, p_val = stats.mannwhitneyu(df[df.exp_group == 1].ctr, \n",
    "                                 df[df.exp_group == 2].ctr,\n",
    "                                 alternative = 'two-sided')\n",
    "\n",
    "if p_val > 0.05:\n",
    "    print('Статистически значимой разницы нет','\\np-value', p_val,'\\nU-критерий', stat)\n",
    "else:\n",
    "    print('Разница статистически значима','\\np-value', p_val,'\\nU-критерий', stat)"
   ]
  },
  {
   "cell_type": "markdown",
   "id": "f5050b60",
   "metadata": {},
   "source": [
    "### Т-тест и Мана-Уитни на сглаженном CTR"
   ]
  },
  {
   "cell_type": "code",
   "execution_count": 38,
   "id": "fb743e19",
   "metadata": {},
   "outputs": [],
   "source": [
    "# Функция сглаживания\n",
    "def get_smothed_ctr(user_likes, user_views, global_ctr, alpha):\n",
    "    smothed_ctr = (user_likes + alpha * global_ctr) / (user_views + alpha)\n",
    "    return smothed_ctr"
   ]
  },
  {
   "cell_type": "code",
   "execution_count": 41,
   "id": "b43d7337",
   "metadata": {},
   "outputs": [
    {
     "data": {
      "text/plain": [
       "(0.20802680490126244, 0.1980601844115994)"
      ]
     },
     "execution_count": 41,
     "metadata": {},
     "output_type": "execute_result"
    }
   ],
   "source": [
    "# Рассчитаем глобальные средние ctr\n",
    "global_ctr_1 = df[df.exp_group == 1].likes.sum()/df[df.exp_group == 1].views.sum()\n",
    "global_ctr_2 = df[df.exp_group == 2].likes.sum()/df[df.exp_group == 2].views.sum()\n",
    "\n",
    "global_ctr_1, global_ctr_2"
   ]
  },
  {
   "cell_type": "code",
   "execution_count": 49,
   "id": "0b0e799c",
   "metadata": {},
   "outputs": [
    {
     "data": {
      "image/png": "[encoded data removed]",
      "text/plain": [
       "<Figure size 720x432 with 1 Axes>"
      ]
     },
     "metadata": {},
     "output_type": "display_data"
    }
   ],
   "source": [
    "sns.distplot(df[df.exp_group == 2].ctr, kde = False)\n",
    "plt.show()"
   ]
  },
  {
   "cell_type": "code",
   "execution_count": 45,
   "id": "50f5a873",
   "metadata": {},
   "outputs": [
    {
     "data": {
      "text/html": [
       "<div>\n",
       "<style scoped>\n",
       "    .dataframe tbody tr th:only-of-type {\n",
       "        vertical-align: middle;\n",
       "    }\n",
       "\n",
       "    .dataframe tbody tr th {\n",
       "        vertical-align: top;\n",
       "    }\n",
       "\n",
       "    .dataframe thead th {\n",
       "        text-align: right;\n",
       "    }\n",
       "</style>\n",
       "<table border=\"1\" class=\"dataframe\">\n",
       "  <thead>\n",
       "    <tr style=\"text-align: right;\">\n",
       "      <th></th>\n",
       "      <th>exp_group</th>\n",
       "      <th>user_id</th>\n",
       "      <th>likes</th>\n",
       "      <th>views</th>\n",
       "      <th>ctr</th>\n",
       "      <th>smothed_ctr</th>\n",
       "    </tr>\n",
       "  </thead>\n",
       "  <tbody>\n",
       "    <tr>\n",
       "      <th>5</th>\n",
       "      <td>2</td>\n",
       "      <td>131473</td>\n",
       "      <td>14</td>\n",
       "      <td>134</td>\n",
       "      <td>0.104478</td>\n",
       "      <td>0.107844</td>\n",
       "    </tr>\n",
       "    <tr>\n",
       "      <th>6</th>\n",
       "      <td>2</td>\n",
       "      <td>23985</td>\n",
       "      <td>7</td>\n",
       "      <td>87</td>\n",
       "      <td>0.080460</td>\n",
       "      <td>0.086851</td>\n",
       "    </tr>\n",
       "    <tr>\n",
       "      <th>7</th>\n",
       "      <td>2</td>\n",
       "      <td>24523</td>\n",
       "      <td>11</td>\n",
       "      <td>101</td>\n",
       "      <td>0.108911</td>\n",
       "      <td>0.113116</td>\n",
       "    </tr>\n",
       "    <tr>\n",
       "      <th>8</th>\n",
       "      <td>2</td>\n",
       "      <td>32420</td>\n",
       "      <td>26</td>\n",
       "      <td>128</td>\n",
       "      <td>0.203125</td>\n",
       "      <td>0.202935</td>\n",
       "    </tr>\n",
       "    <tr>\n",
       "      <th>9</th>\n",
       "      <td>2</td>\n",
       "      <td>24239</td>\n",
       "      <td>40</td>\n",
       "      <td>90</td>\n",
       "      <td>0.444444</td>\n",
       "      <td>0.431477</td>\n",
       "    </tr>\n",
       "  </tbody>\n",
       "</table>\n",
       "</div>"
      ],
      "text/plain": [
       "   exp_group  user_id  likes  views       ctr  smothed_ctr\n",
       "5          2   131473     14    134  0.104478     0.107844\n",
       "6          2    23985      7     87  0.080460     0.086851\n",
       "7          2    24523     11    101  0.108911     0.113116\n",
       "8          2    32420     26    128  0.203125     0.202935\n",
       "9          2    24239     40     90  0.444444     0.431477"
      ]
     },
     "execution_count": 45,
     "metadata": {},
     "output_type": "execute_result"
    }
   ],
   "source": [
    "group_2 = df[df.exp_group == 2].copy()\n",
    "group_2['smothed_ctr'] = df.apply(lambda x: get_smothed_ctr(x['likes'], x['views'], global_ctr_2, 5), axis=1)\n",
    "group_2.head()"
   ]
  },
  {
   "cell_type": "code",
   "execution_count": 50,
   "id": "cd6bec92",
   "metadata": {},
   "outputs": [
    {
     "data": {
      "image/png": "[encoded data removed]",
      "text/plain": [
       "<Figure size 720x432 with 1 Axes>"
      ]
     },
     "metadata": {},
     "output_type": "display_data"
    }
   ],
   "source": [
    "sns.distplot(group_2.smothed_ctr, kde = False)\n",
    "plt.show()"
   ]
  },
  {
   "cell_type": "code",
   "execution_count": 51,
   "id": "809ce0f0",
   "metadata": {},
   "outputs": [
    {
     "data": {
      "image/png": "[encoded data removed]",
      "text/plain": [
       "<Figure size 720x432 with 1 Axes>"
      ]
     },
     "metadata": {},
     "output_type": "display_data"
    }
   ],
   "source": [
    "sns.boxplot(data = group_2, x='exp_group', y='smothed_ctr', palette = ['r', 'b'])\n",
    "plt.show()"
   ]
  },
  {
   "cell_type": "markdown",
   "id": "6f68d480",
   "metadata": {},
   "source": [
    "#### Сглаживание помогло убрать только часть выбросов, но не изменило характер распределения"
   ]
  },
  {
   "cell_type": "code",
   "execution_count": 54,
   "id": "c2cac7d6",
   "metadata": {},
   "outputs": [
    {
     "data": {
      "text/html": [
       "<div>\n",
       "<style scoped>\n",
       "    .dataframe tbody tr th:only-of-type {\n",
       "        vertical-align: middle;\n",
       "    }\n",
       "\n",
       "    .dataframe tbody tr th {\n",
       "        vertical-align: top;\n",
       "    }\n",
       "\n",
       "    .dataframe thead th {\n",
       "        text-align: right;\n",
       "    }\n",
       "</style>\n",
       "<table border=\"1\" class=\"dataframe\">\n",
       "  <thead>\n",
       "    <tr style=\"text-align: right;\">\n",
       "      <th></th>\n",
       "      <th>exp_group</th>\n",
       "      <th>user_id</th>\n",
       "      <th>likes</th>\n",
       "      <th>views</th>\n",
       "      <th>ctr</th>\n",
       "      <th>smothed_ctr</th>\n",
       "    </tr>\n",
       "  </thead>\n",
       "  <tbody>\n",
       "    <tr>\n",
       "      <th>0</th>\n",
       "      <td>1</td>\n",
       "      <td>109963</td>\n",
       "      <td>3</td>\n",
       "      <td>15</td>\n",
       "      <td>0.200000</td>\n",
       "      <td>0.202007</td>\n",
       "    </tr>\n",
       "    <tr>\n",
       "      <th>1</th>\n",
       "      <td>1</td>\n",
       "      <td>26117</td>\n",
       "      <td>32</td>\n",
       "      <td>141</td>\n",
       "      <td>0.226950</td>\n",
       "      <td>0.226302</td>\n",
       "    </tr>\n",
       "    <tr>\n",
       "      <th>2</th>\n",
       "      <td>1</td>\n",
       "      <td>138232</td>\n",
       "      <td>18</td>\n",
       "      <td>73</td>\n",
       "      <td>0.246575</td>\n",
       "      <td>0.244104</td>\n",
       "    </tr>\n",
       "    <tr>\n",
       "      <th>3</th>\n",
       "      <td>1</td>\n",
       "      <td>26295</td>\n",
       "      <td>33</td>\n",
       "      <td>122</td>\n",
       "      <td>0.270492</td>\n",
       "      <td>0.268033</td>\n",
       "    </tr>\n",
       "    <tr>\n",
       "      <th>4</th>\n",
       "      <td>1</td>\n",
       "      <td>18392</td>\n",
       "      <td>7</td>\n",
       "      <td>32</td>\n",
       "      <td>0.218750</td>\n",
       "      <td>0.217301</td>\n",
       "    </tr>\n",
       "  </tbody>\n",
       "</table>\n",
       "</div>"
      ],
      "text/plain": [
       "   exp_group  user_id  likes  views       ctr  smothed_ctr\n",
       "0          1   109963      3     15  0.200000     0.202007\n",
       "1          1    26117     32    141  0.226950     0.226302\n",
       "2          1   138232     18     73  0.246575     0.244104\n",
       "3          1    26295     33    122  0.270492     0.268033\n",
       "4          1    18392      7     32  0.218750     0.217301"
      ]
     },
     "execution_count": 54,
     "metadata": {},
     "output_type": "execute_result"
    }
   ],
   "source": [
    "group_1 = df[df.exp_group == 1].copy()\n",
    "group_1['smothed_ctr'] = df.apply(lambda x: get_smothed_ctr(x['likes'], x['views'], global_ctr_1, 5), axis=1)\n",
    "group_1.head()"
   ]
  },
  {
   "cell_type": "code",
   "execution_count": 57,
   "id": "a03a5cb5",
   "metadata": {},
   "outputs": [
    {
     "name": "stdout",
     "output_type": "stream",
     "text": [
      "Разница статистически значима \n",
      "p-value 1.6163964114270227e-61 \n",
      "U-критерий 43381083.0\n"
     ]
    }
   ],
   "source": [
    "stat, p_val = stats.mannwhitneyu(group_2.smothed_ctr, \n",
    "                                 group_1.smothed_ctr,\n",
    "                                 alternative = 'two-sided')\n",
    "\n",
    "if p_val > 0.05:\n",
    "    print('Статистически значимой разницы нет','\\np-value', p_val,'\\nU-критерий', stat)\n",
    "else:\n",
    "    print('Разница статистически значима','\\np-value', p_val,'\\nU-критерий', stat)"
   ]
  },
  {
   "cell_type": "code",
   "execution_count": 72,
   "id": "7ea96158",
   "metadata": {},
   "outputs": [
    {
     "name": "stdout",
     "output_type": "stream",
     "text": [
      "Есть статистически значимая разница \n",
      "t-критерий =  -2.2841320431616983 \n",
      "p-value = 0.0223769815558559\n"
     ]
    }
   ],
   "source": [
    "t2, p2 = stats.ttest_ind(group_2.smothed_ctr, \n",
    "                         group_1.smothed_ctr, \n",
    "                         equal_var=False)\n",
    "\n",
    "\n",
    "if p2 > 0.05:\n",
    "    print('Нет статистически значимой разницы','\\nt-критерий = ', t2,'\\np-value =', p2)\n",
    "else:\n",
    "    print('Есть статистически значимая разница','\\nt-критерий = ', t2,'\\np-value =', p2)"
   ]
  },
  {
   "cell_type": "markdown",
   "id": "0f671567",
   "metadata": {},
   "source": [
    "### Т-тест и тест Мана-Уитни поверх бакетного преобразования\n"
   ]
  },
  {
   "cell_type": "code",
   "execution_count": 86,
   "id": "39ffd8ae",
   "metadata": {},
   "outputs": [],
   "source": [
    "q = \"\"\"\n",
    "SELECT exp_group, bucket,\n",
    "    sum(like)/sum(view) as bucket_ctr\n",
    "FROM (SELECT exp_group, \n",
    "        xxHash64(user_id)%50 as bucket,\n",
    "        user_id,\n",
    "        sum(action = 'like') as like,\n",
    "        sum(action = 'view') as view,\n",
    "        like/view as ctr\n",
    "    FROM {db}.feed_actions \n",
    "    WHERE toDate(time) between '2022-05-24' and '2022-05-30'\n",
    "        and exp_group in (1,2)\n",
    "    GROUP BY exp_group, bucket, user_id)\n",
    "GROUP BY exp_group, bucket\n",
    "\"\"\"\n",
    "df_bucket = ph.read_clickhouse(q, connection=connection)"
   ]
  },
  {
   "cell_type": "code",
   "execution_count": 87,
   "id": "c26a2469",
   "metadata": {},
   "outputs": [
    {
     "data": {
      "text/html": [
       "<div>\n",
       "<style scoped>\n",
       "    .dataframe tbody tr th:only-of-type {\n",
       "        vertical-align: middle;\n",
       "    }\n",
       "\n",
       "    .dataframe tbody tr th {\n",
       "        vertical-align: top;\n",
       "    }\n",
       "\n",
       "    .dataframe thead th {\n",
       "        text-align: right;\n",
       "    }\n",
       "</style>\n",
       "<table border=\"1\" class=\"dataframe\">\n",
       "  <thead>\n",
       "    <tr style=\"text-align: right;\">\n",
       "      <th></th>\n",
       "      <th>exp_group</th>\n",
       "      <th>bucket</th>\n",
       "      <th>bucket_ctr</th>\n",
       "    </tr>\n",
       "  </thead>\n",
       "  <tbody>\n",
       "    <tr>\n",
       "      <th>0</th>\n",
       "      <td>1</td>\n",
       "      <td>0</td>\n",
       "      <td>0.196481</td>\n",
       "    </tr>\n",
       "    <tr>\n",
       "      <th>1</th>\n",
       "      <td>2</td>\n",
       "      <td>0</td>\n",
       "      <td>0.194262</td>\n",
       "    </tr>\n",
       "    <tr>\n",
       "      <th>2</th>\n",
       "      <td>1</td>\n",
       "      <td>1</td>\n",
       "      <td>0.211887</td>\n",
       "    </tr>\n",
       "    <tr>\n",
       "      <th>3</th>\n",
       "      <td>2</td>\n",
       "      <td>1</td>\n",
       "      <td>0.215328</td>\n",
       "    </tr>\n",
       "    <tr>\n",
       "      <th>4</th>\n",
       "      <td>1</td>\n",
       "      <td>2</td>\n",
       "      <td>0.206271</td>\n",
       "    </tr>\n",
       "  </tbody>\n",
       "</table>\n",
       "</div>"
      ],
      "text/plain": [
       "   exp_group  bucket  bucket_ctr\n",
       "0          1       0    0.196481\n",
       "1          2       0    0.194262\n",
       "2          1       1    0.211887\n",
       "3          2       1    0.215328\n",
       "4          1       2    0.206271"
      ]
     },
     "execution_count": 87,
     "metadata": {},
     "output_type": "execute_result"
    }
   ],
   "source": [
    "df_bucket.head()"
   ]
  },
  {
   "cell_type": "markdown",
   "id": "6e00b457",
   "metadata": {},
   "source": [
    "Посмотрим на распределение бакетных ctr в группах 1 и 2.Они имеют распределение уже более близкое к нормальному. При этом бакетный ctr в экспериментальной группе 2 меньше, чем в контрольной группе 1"
   ]
  },
  {
   "cell_type": "code",
   "execution_count": 88,
   "id": "36762ac6",
   "metadata": {},
   "outputs": [
    {
     "data": {
      "image/png": "[encoded data removed]",
      "text/plain": [
       "<Figure size 720x432 with 1 Axes>"
      ]
     },
     "metadata": {},
     "output_type": "display_data"
    }
   ],
   "source": [
    "sns.histplot(data=df_bucket, hue='exp_group', x='bucket_ctr', bins=20)\n",
    "plt.show()"
   ]
  },
  {
   "cell_type": "code",
   "execution_count": 89,
   "id": "8c7f0970",
   "metadata": {},
   "outputs": [
    {
     "data": {
      "text/html": [
       "<div>\n",
       "<style scoped>\n",
       "    .dataframe tbody tr th:only-of-type {\n",
       "        vertical-align: middle;\n",
       "    }\n",
       "\n",
       "    .dataframe tbody tr th {\n",
       "        vertical-align: top;\n",
       "    }\n",
       "\n",
       "    .dataframe thead th {\n",
       "        text-align: right;\n",
       "    }\n",
       "</style>\n",
       "<table border=\"1\" class=\"dataframe\">\n",
       "  <thead>\n",
       "    <tr style=\"text-align: right;\">\n",
       "      <th></th>\n",
       "      <th>exp_group</th>\n",
       "      <th>bucket_ctr</th>\n",
       "    </tr>\n",
       "  </thead>\n",
       "  <tbody>\n",
       "    <tr>\n",
       "      <th>0</th>\n",
       "      <td>1</td>\n",
       "      <td>0.208122</td>\n",
       "    </tr>\n",
       "    <tr>\n",
       "      <th>1</th>\n",
       "      <td>2</td>\n",
       "      <td>0.198259</td>\n",
       "    </tr>\n",
       "  </tbody>\n",
       "</table>\n",
       "</div>"
      ],
      "text/plain": [
       "   exp_group  bucket_ctr\n",
       "0          1    0.208122\n",
       "1          2    0.198259"
      ]
     },
     "execution_count": 89,
     "metadata": {},
     "output_type": "execute_result"
    }
   ],
   "source": [
    "df_bucket.groupby('exp_group', as_index=False).agg({'bucket_ctr':'mean'}) "
   ]
  },
  {
   "cell_type": "code",
   "execution_count": 90,
   "id": "4da95ef6",
   "metadata": {},
   "outputs": [
    {
     "name": "stdout",
     "output_type": "stream",
     "text": [
      "Есть статистически значимая разница \n",
      "t-критерий =  5.668234732053979 \n",
      "p-value = 3.4455951649945907e-07\n"
     ]
    }
   ],
   "source": [
    "t2, p2 = stats.ttest_ind(df_bucket[df_bucket.exp_group == 1].bucket_ctr, \n",
    "                         df_bucket[df_bucket.exp_group == 2].bucket_ctr,\n",
    "                         equal_var=False)\n",
    "\n",
    "\n",
    "if p2 > 0.05:\n",
    "    print('Нет статистически значимой разницы','\\nt-критерий = ', t2,'\\np-value =', p2)\n",
    "else:\n",
    "    print('Есть статистически значимая разница','\\nt-критерий = ', t2,'\\np-value =', p2)"
   ]
  },
  {
   "cell_type": "code",
   "execution_count": 91,
   "id": "7ab09e91",
   "metadata": {},
   "outputs": [
    {
     "name": "stdout",
     "output_type": "stream",
     "text": [
      "Разница статистически значима \n",
      "p-value 2.859963936492646e-07 \n",
      "U-критерий 1995.0\n"
     ]
    }
   ],
   "source": [
    "stat, p_val = stats.mannwhitneyu(df_bucket[df_bucket.exp_group == 1].bucket_ctr, \n",
    "                                 df_bucket[df_bucket.exp_group == 2].bucket_ctr,\n",
    "                                 alternative = 'two-sided')\n",
    "\n",
    "if p_val > 0.05:\n",
    "    print('Статистически значимой разницы нет','\\np-value', p_val,'\\nU-критерий', stat)\n",
    "else:\n",
    "    print('Разница статистически значима','\\np-value', p_val,'\\nU-критерий', stat)"
   ]
  },
  {
   "cell_type": "markdown",
   "id": "e2b4ce09",
   "metadata": {},
   "source": [
    "### Пуассоновский бутстреп для подсчета разницы в CTR"
   ]
  },
  {
   "cell_type": "code",
   "execution_count": 82,
   "id": "5d93cfc8",
   "metadata": {},
   "outputs": [],
   "source": [
    "def bootstrap(likes1, views1, likes2, views2, n_bootstrap=2000):\n",
    "\n",
    "    poisson_bootstraps1 = stats.poisson(1).rvs(\n",
    "        (n_bootstrap, len(likes1))).astype(np.int64)\n",
    "\n",
    "    poisson_bootstraps2 = stats.poisson(1).rvs(\n",
    "            (n_bootstrap, len(likes2))).astype(np.int64)\n",
    "    \n",
    "    globalCTR1 = (poisson_bootstraps1*likes1).sum(axis=1)/(poisson_bootstraps1*views1).sum(axis=1)\n",
    "    \n",
    "    globalCTR2 = (poisson_bootstraps2*likes2).sum(axis=1)/(poisson_bootstraps2*views2).sum(axis=1)\n",
    "\n",
    "    return globalCTR1, globalCTR2"
   ]
  },
  {
   "cell_type": "code",
   "execution_count": 93,
   "id": "d58c539f",
   "metadata": {},
   "outputs": [
    {
     "data": {
      "text/html": [
       "<div>\n",
       "<style scoped>\n",
       "    .dataframe tbody tr th:only-of-type {\n",
       "        vertical-align: middle;\n",
       "    }\n",
       "\n",
       "    .dataframe tbody tr th {\n",
       "        vertical-align: top;\n",
       "    }\n",
       "\n",
       "    .dataframe thead th {\n",
       "        text-align: right;\n",
       "    }\n",
       "</style>\n",
       "<table border=\"1\" class=\"dataframe\">\n",
       "  <thead>\n",
       "    <tr style=\"text-align: right;\">\n",
       "      <th></th>\n",
       "      <th>exp_group</th>\n",
       "      <th>user_id</th>\n",
       "      <th>likes</th>\n",
       "      <th>views</th>\n",
       "      <th>ctr</th>\n",
       "    </tr>\n",
       "  </thead>\n",
       "  <tbody>\n",
       "    <tr>\n",
       "      <th>0</th>\n",
       "      <td>1</td>\n",
       "      <td>109963</td>\n",
       "      <td>3</td>\n",
       "      <td>15</td>\n",
       "      <td>0.200000</td>\n",
       "    </tr>\n",
       "    <tr>\n",
       "      <th>1</th>\n",
       "      <td>1</td>\n",
       "      <td>26117</td>\n",
       "      <td>32</td>\n",
       "      <td>141</td>\n",
       "      <td>0.226950</td>\n",
       "    </tr>\n",
       "    <tr>\n",
       "      <th>2</th>\n",
       "      <td>1</td>\n",
       "      <td>138232</td>\n",
       "      <td>18</td>\n",
       "      <td>73</td>\n",
       "      <td>0.246575</td>\n",
       "    </tr>\n",
       "    <tr>\n",
       "      <th>3</th>\n",
       "      <td>1</td>\n",
       "      <td>26295</td>\n",
       "      <td>33</td>\n",
       "      <td>122</td>\n",
       "      <td>0.270492</td>\n",
       "    </tr>\n",
       "    <tr>\n",
       "      <th>4</th>\n",
       "      <td>1</td>\n",
       "      <td>18392</td>\n",
       "      <td>7</td>\n",
       "      <td>32</td>\n",
       "      <td>0.218750</td>\n",
       "    </tr>\n",
       "  </tbody>\n",
       "</table>\n",
       "</div>"
      ],
      "text/plain": [
       "   exp_group  user_id  likes  views       ctr\n",
       "0          1   109963      3     15  0.200000\n",
       "1          1    26117     32    141  0.226950\n",
       "2          1   138232     18     73  0.246575\n",
       "3          1    26295     33    122  0.270492\n",
       "4          1    18392      7     32  0.218750"
      ]
     },
     "execution_count": 93,
     "metadata": {},
     "output_type": "execute_result"
    }
   ],
   "source": [
    "df.head()"
   ]
  },
  {
   "cell_type": "code",
   "execution_count": 97,
   "id": "3cf334dc",
   "metadata": {},
   "outputs": [],
   "source": [
    "likes1 = df[df.exp_group == 1].likes.to_numpy()\n",
    "views1 = df[df.exp_group == 1].views.to_numpy()\n",
    "likes2 = df[df.exp_group == 2].likes.to_numpy()\n",
    "views2 = df[df.exp_group == 2].views.to_numpy()"
   ]
  },
  {
   "cell_type": "code",
   "execution_count": 98,
   "id": "5e6cede6",
   "metadata": {},
   "outputs": [],
   "source": [
    "ctr1, ctr2 = bootstrap(likes1, views1, likes2, views2)"
   ]
  },
  {
   "cell_type": "code",
   "execution_count": 99,
   "id": "c847ad63",
   "metadata": {},
   "outputs": [
    {
     "data": {
      "text/plain": [
       "<AxesSubplot:ylabel='Count'>"
      ]
     },
     "execution_count": 99,
     "metadata": {},
     "output_type": "execute_result"
    },
    {
     "data": {
      "image/png": "[encoded data removed]",
      "text/plain": [
       "<Figure size 720x432 with 1 Axes>"
      ]
     },
     "metadata": {},
     "output_type": "display_data"
    }
   ],
   "source": [
    "sns.histplot(ctr1)\n",
    "sns.histplot(ctr2)"
   ]
  },
  {
   "cell_type": "code",
   "execution_count": 100,
   "id": "cb296ca3",
   "metadata": {},
   "outputs": [
    {
     "data": {
      "text/plain": [
       "<AxesSubplot:ylabel='Count'>"
      ]
     },
     "execution_count": 100,
     "metadata": {},
     "output_type": "execute_result"
    },
    {
     "data": {
      "image/png": "[encoded data removed]",
      "text/plain": [
       "<Figure size 720x432 with 1 Axes>"
      ]
     },
     "metadata": {},
     "output_type": "display_data"
    }
   ],
   "source": [
    "#Разница между глобальными CTR\n",
    "\n",
    "sns.histplot(ctr2 - ctr1)"
   ]
  },
  {
   "cell_type": "markdown",
   "id": "59fb99a6",
   "metadata": {},
   "source": [
    "### Итого\n",
    "\n",
    "- Визуальная оценка и тест Шапиро_Уилка показала ненормальность распределения как в группе 1, так и в группе 2. При этом распределение в группе 2 обладает 2-мя ярко выраженными горбами, что сильно искажает нам среднее значение (t-test корректно работать не будет)\n",
    "- U-критерий Манна-Уитни дал бы нам отклонить нулевую гипотезу. Оценка pvalue показала различия между распределениями значений ctr в группах 1 и 2\n",
    "- Т-тест на сглаженном ctr и поверх бакетого преобразования также показали значимые различия между средниими значений ctr\n",
    "- Тест Мана-Уитни на сглаженном ctr и поверх бакетого преобразования также показали значимые различия между распределениями значений ctr\n",
    "- Пуассоновский бутстреп (мне больше нравится) для подсчета разницы в CTR показал также значимые различия между группами 1 и 2\n",
    "\n",
    "##### Наиболее релевантной является оценка результатов АВ-теста на основании Пуассоновского бутстрепа для подсчета разницы в CTR\n",
    "\n",
    "Бутстреп показывает, что в контрольной группе групповой ctr значительно выше, чем в тестовой группе (их распределения даже не пересекаются). Гистограмма разницы между глобальными ctr не пересекает 0, это значит, что одна группа больше другой. Поскольку мы от тестовой отнимали контрольную и значения отрицательные, то ctr больше у контрольной группы. Т.е. разница между ними отрциательная и не нулевая. И это позволяет утверждать, что группа 2 показала хуже результат по ctr, чем группа 1.\n",
    "\n",
    "##### Почему такое могло произойти: \n",
    "По графику распределени ctr 2-й группы видно, что у одной группы пользователей ctr уменьшился, а другой увеличился. Например, новых алгоритмов рекомендации постов сработал лучше для тех пользователей, у кого мало друзей, и наоборот. У пользователей, у кого много друзей, была перенасыщена лента нерелевантными постами, что и показало низкий ctr.\n",
    "\n",
    "##### Общая рекомендация: \n",
    "Новый алгоритм не стоит раскатывать на всех пользователей, поскольку он способен ухудшить общий ctr пользователей. Следует передать результат команде дата саентистов для улучшения алгоритма. "
   ]
  }
 ],
 "metadata": {
  "kernelspec": {
   "display_name": "Python 3 (ipykernel)",
   "language": "python",
   "name": "python3"
  },
  "language_info": {
   "codemirror_mode": {
    "name": "ipython",
    "version": 3
   },
   "file_extension": ".py",
   "mimetype": "text/x-python",
   "name": "python",
   "nbconvert_exporter": "python",
   "pygments_lexer": "ipython3",
   "version": "3.9.7"
  }
 },
 "nbformat": 4,
 "nbformat_minor": 5
}
