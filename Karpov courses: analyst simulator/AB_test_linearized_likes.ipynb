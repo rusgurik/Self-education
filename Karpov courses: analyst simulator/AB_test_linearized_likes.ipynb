{
 "cells": [
  {
   "cell_type": "code",
   "execution_count": 1,
   "id": "2e134f1f",
   "metadata": {},
   "outputs": [],
   "source": [
    "import pandas as pd\n",
    "import numpy as np\n",
    "import pandahouse as ph\n",
    "import seaborn as sns\n",
    "import matplotlib.pyplot as plt\n",
    "from scipy import stats\n",
    "import hashlib\n",
    "import swifter\n",
    "\n",
    "from tqdm.auto import tqdm"
   ]
  },
  {
   "cell_type": "code",
   "execution_count": 2,
   "id": "d6888529",
   "metadata": {},
   "outputs": [],
   "source": [
    "connection = {'host': 'https://clickhouse.lab.karpov.courses',\n",
    "                      'database':'simulator_20220620',\n",
    "                      'user':'student', \n",
    "                      'password':'dpo_python_2020'\n",
    "                     }"
   ]
  },
  {
   "cell_type": "markdown",
   "id": "3513a411",
   "metadata": {},
   "source": [
    "Вместо того, чтобы заталкивать в тест «поюзерные» CTR, можно сконструировать другую метрику и анализировать ее, но при этом гарантируется (в отличие от сглаженного CTR), что если тест на этой другой метрике «прокрасится» и увидит изменения, значит изменения есть и в метрике исходной (то есть в лайках на пользователя и в пользовательских CTR\n",
    "\n",
    "При этом метод сам по себе очень прост. Что это за метрика такая?\n",
    "\n",
    "Считаем общий CTR в контрольной группе  𝐶𝑇𝑅𝑐𝑜𝑛𝑡𝑟𝑜𝑙=𝑠𝑢𝑚(𝑙𝑖𝑘𝑒𝑠)/𝑠𝑢𝑚(𝑣𝑖𝑒𝑤𝑠) \n",
    "Посчитаем в обеих группах поюзерную метрику  𝑙𝑖𝑛𝑒𝑎𝑟𝑖𝑧𝑒𝑑_𝑙𝑖𝑘𝑒𝑠=𝑙𝑖𝑘𝑒𝑠−𝐶𝑇𝑅𝑐𝑜𝑛𝑡𝑟𝑜𝑙∗𝑣𝑖𝑒𝑤𝑠 \n",
    "После чего сравним  t-тестом отличия в группах по метрике 𝑙𝑖𝑛𝑒𝑎𝑟𝑖𝑧𝑒𝑑_𝑙𝑖𝑘𝑒𝑠  \n",
    "Метод простой, гарантируется, что при приличном размере выборки (как у нас — подойдет) можно бесплатно увеличить чувствительность вашей метрики (или, по крайней мере, не сделать хуже). Как по мне, это ОЧЕНЬ круто.\n",
    "\n",
    "Задача\n",
    "\n",
    "- Проанализируйте тест между группами 0 и 3 по метрике линеаризованных лайков. Видно ли отличие? Стало ли 𝑝−𝑣𝑎𝑙𝑢𝑒 меньше?\n",
    "- Проанализируйте тест между группами 1 и 2 по метрике линеаризованных лайков. Видно ли отличие? Стало ли 𝑝−𝑣𝑎𝑙𝑢𝑒 меньше?"
   ]
  },
  {
   "cell_type": "markdown",
   "id": "0e170dba",
   "metadata": {},
   "source": [
    "## 1) Тест между группами 0 и 3"
   ]
  },
  {
   "cell_type": "code",
   "execution_count": 3,
   "id": "08489b75",
   "metadata": {},
   "outputs": [],
   "source": [
    "query = '''\n",
    "SELECT exp_group, \n",
    "    user_id,\n",
    "    sum(action = 'like') as likes,\n",
    "    sum(action = 'view') as views,\n",
    "    likes/views as ctr\n",
    "FROM {db}.feed_actions \n",
    "WHERE toDate(time) between '2022-05-24' and '2022-05-30'\n",
    "    and exp_group in (0, 3)\n",
    "GROUP BY exp_group, user_id\n",
    "'''\n",
    "\n",
    "df = ph.read_clickhouse(query, connection=connection)"
   ]
  },
  {
   "cell_type": "code",
   "execution_count": 4,
   "id": "0016ee54",
   "metadata": {},
   "outputs": [
    {
     "data": {
      "text/html": [
       "<div>\n",
       "<style scoped>\n",
       "    .dataframe tbody tr th:only-of-type {\n",
       "        vertical-align: middle;\n",
       "    }\n",
       "\n",
       "    .dataframe tbody tr th {\n",
       "        vertical-align: top;\n",
       "    }\n",
       "\n",
       "    .dataframe thead th {\n",
       "        text-align: right;\n",
       "    }\n",
       "</style>\n",
       "<table border=\"1\" class=\"dataframe\">\n",
       "  <thead>\n",
       "    <tr style=\"text-align: right;\">\n",
       "      <th></th>\n",
       "      <th>exp_group</th>\n",
       "      <th>user_id</th>\n",
       "      <th>likes</th>\n",
       "      <th>views</th>\n",
       "      <th>ctr</th>\n",
       "    </tr>\n",
       "  </thead>\n",
       "  <tbody>\n",
       "    <tr>\n",
       "      <th>0</th>\n",
       "      <td>3</td>\n",
       "      <td>115383</td>\n",
       "      <td>9</td>\n",
       "      <td>30</td>\n",
       "      <td>0.3</td>\n",
       "    </tr>\n",
       "  </tbody>\n",
       "</table>\n",
       "</div>"
      ],
      "text/plain": [
       "   exp_group  user_id  likes  views  ctr\n",
       "0          3   115383      9     30  0.3"
      ]
     },
     "execution_count": 4,
     "metadata": {},
     "output_type": "execute_result"
    }
   ],
   "source": [
    "df.head(1)"
   ]
  },
  {
   "cell_type": "code",
   "execution_count": 5,
   "id": "172b2f51",
   "metadata": {},
   "outputs": [
    {
     "data": {
      "text/html": [
       "<div>\n",
       "<style scoped>\n",
       "    .dataframe tbody tr th:only-of-type {\n",
       "        vertical-align: middle;\n",
       "    }\n",
       "\n",
       "    .dataframe tbody tr th {\n",
       "        vertical-align: top;\n",
       "    }\n",
       "\n",
       "    .dataframe thead th {\n",
       "        text-align: right;\n",
       "    }\n",
       "</style>\n",
       "<table border=\"1\" class=\"dataframe\">\n",
       "  <thead>\n",
       "    <tr style=\"text-align: right;\">\n",
       "      <th></th>\n",
       "      <th>user_id</th>\n",
       "      <th>likes</th>\n",
       "      <th>views</th>\n",
       "      <th>ctr</th>\n",
       "    </tr>\n",
       "    <tr>\n",
       "      <th>exp_group</th>\n",
       "      <th></th>\n",
       "      <th></th>\n",
       "      <th></th>\n",
       "      <th></th>\n",
       "    </tr>\n",
       "  </thead>\n",
       "  <tbody>\n",
       "    <tr>\n",
       "      <th>0</th>\n",
       "      <td>9999</td>\n",
       "      <td>9999</td>\n",
       "      <td>9999</td>\n",
       "      <td>9999</td>\n",
       "    </tr>\n",
       "    <tr>\n",
       "      <th>3</th>\n",
       "      <td>10049</td>\n",
       "      <td>10049</td>\n",
       "      <td>10049</td>\n",
       "      <td>10049</td>\n",
       "    </tr>\n",
       "  </tbody>\n",
       "</table>\n",
       "</div>"
      ],
      "text/plain": [
       "           user_id  likes  views    ctr\n",
       "exp_group                              \n",
       "0             9999   9999   9999   9999\n",
       "3            10049  10049  10049  10049"
      ]
     },
     "execution_count": 5,
     "metadata": {},
     "output_type": "execute_result"
    }
   ],
   "source": [
    "df.groupby('exp_group').count()"
   ]
  },
  {
   "cell_type": "markdown",
   "id": "4b224145",
   "metadata": {},
   "source": [
    "### Проведем визуальную оценку распределений ctr для групп 0 и 3"
   ]
  },
  {
   "cell_type": "code",
   "execution_count": 6,
   "id": "9a8ca460",
   "metadata": {},
   "outputs": [],
   "source": [
    "sns.set(rc={'figure.figsize':(10,6)})"
   ]
  },
  {
   "cell_type": "code",
   "execution_count": 7,
   "id": "4b9677e0",
   "metadata": {},
   "outputs": [
    {
     "data": {
      "image/png": "[encoded data removed]",
      "text/plain": [
       "<Figure size 720x432 with 1 Axes>"
      ]
     },
     "metadata": {},
     "output_type": "display_data"
    }
   ],
   "source": [
    "groups = sns.histplot(data = df, \n",
    "              x='ctr', \n",
    "              hue='exp_group', \n",
    "              palette = ['r', 'b'],\n",
    "              alpha=0.5,\n",
    "              kde=False)"
   ]
  },
  {
   "cell_type": "markdown",
   "id": "af57c80a",
   "metadata": {},
   "source": [
    "###  Проведем t тест"
   ]
  },
  {
   "cell_type": "code",
   "execution_count": 8,
   "id": "ffd3e060",
   "metadata": {},
   "outputs": [
    {
     "name": "stdout",
     "output_type": "stream",
     "text": [
      "Есть статистически значимая разница \n",
      "t-критерий =  -13.896870721904069 \n",
      "p-value = 1.055849414662529e-43\n"
     ]
    }
   ],
   "source": [
    "t_ctr, pvalue_ctr = stats.ttest_ind(df[df.exp_group == 0].ctr, \n",
    "                         df[df.exp_group == 3].ctr,\n",
    "                         equal_var=False)\n",
    "\n",
    "\n",
    "if pvalue_ctr > 0.05:\n",
    "    print('Нет статистически значимой разницы','\\nt-критерий = ', t_ctr,'\\np-value =', pvalue_ctr)\n",
    "else:\n",
    "    print('Есть статистически значимая разница','\\nt-критерий = ', t_ctr,'\\np-value =', pvalue_ctr)"
   ]
  },
  {
   "cell_type": "markdown",
   "id": "40a84bc7",
   "metadata": {},
   "source": [
    "### Посчитаем по методу линеаризованных лайков и применим t тест"
   ]
  },
  {
   "cell_type": "code",
   "execution_count": 9,
   "id": "1588b703",
   "metadata": {},
   "outputs": [
    {
     "data": {
      "text/plain": [
       "0.20823612262916305"
      ]
     },
     "execution_count": 9,
     "metadata": {},
     "output_type": "execute_result"
    }
   ],
   "source": [
    "ctr_control_0 = df[df.exp_group==0].likes.sum()/df[df.exp_group==0].views.sum()\n",
    "ctr_control_0"
   ]
  },
  {
   "cell_type": "code",
   "execution_count": 10,
   "id": "acc902f8",
   "metadata": {},
   "outputs": [],
   "source": [
    "df['linearized_likes'] = df.apply(lambda row: row['likes']-row['views']*ctr_control_0, axis=1)"
   ]
  },
  {
   "cell_type": "code",
   "execution_count": 11,
   "id": "f10b552a",
   "metadata": {},
   "outputs": [
    {
     "data": {
      "image/png": "[encoded data removed]",
      "text/plain": [
       "<Figure size 720x432 with 1 Axes>"
      ]
     },
     "metadata": {},
     "output_type": "display_data"
    }
   ],
   "source": [
    "groups = sns.histplot(data = df, \n",
    "              x='linearized_likes', \n",
    "              hue='exp_group', \n",
    "              palette = ['r', 'b'],\n",
    "              alpha=0.5,\n",
    "              kde=False)"
   ]
  },
  {
   "cell_type": "code",
   "execution_count": 12,
   "id": "177d22bc",
   "metadata": {},
   "outputs": [],
   "source": [
    "# визуально графики стали более идентичными"
   ]
  },
  {
   "cell_type": "code",
   "execution_count": 13,
   "id": "39d64908",
   "metadata": {},
   "outputs": [
    {
     "name": "stdout",
     "output_type": "stream",
     "text": [
      "Есть статистически значимая разница \n",
      "t-критерий =  -15.214995460903827 \n",
      "p-value = 5.4914249479690016e-52\n"
     ]
    }
   ],
   "source": [
    "t_linearized_likes, pvalue_linearized_likes = stats.ttest_ind(df[df.exp_group == 0].linearized_likes, \n",
    "                                                              df[df.exp_group == 3].linearized_likes,\n",
    "                                                              equal_var=False)\n",
    "\n",
    "\n",
    "if pvalue_linearized_likes > 0.05:\n",
    "    print('Нет статистически значимой разницы','\\nt-критерий = ', t_linearized_likes,'\\np-value =', pvalue_linearized_likes)\n",
    "else:\n",
    "    print('Есть статистически значимая разница','\\nt-критерий = ', t_linearized_likes,'\\np-value =', pvalue_linearized_likes)"
   ]
  },
  {
   "cell_type": "code",
   "execution_count": 14,
   "id": "65d27e95",
   "metadata": {},
   "outputs": [
    {
     "data": {
      "text/plain": [
       "True"
      ]
     },
     "execution_count": 14,
     "metadata": {},
     "output_type": "execute_result"
    }
   ],
   "source": [
    "pvalue_linearized_likes < pvalue_ctr "
   ]
  },
  {
   "cell_type": "markdown",
   "id": "814ac266",
   "metadata": {},
   "source": [
    "### Pvalue стало меньше и есть статистически значимая разница в обоих расчетах"
   ]
  },
  {
   "cell_type": "markdown",
   "id": "8e4e9890",
   "metadata": {},
   "source": [
    "## 2) Тест между группами 1 и 2"
   ]
  },
  {
   "cell_type": "code",
   "execution_count": 15,
   "id": "b51063a0",
   "metadata": {},
   "outputs": [],
   "source": [
    "query = '''\n",
    "SELECT exp_group, \n",
    "    user_id,\n",
    "    sum(action = 'like') as likes,\n",
    "    sum(action = 'view') as views,\n",
    "    likes/views as ctr\n",
    "FROM {db}.feed_actions \n",
    "WHERE toDate(time) between '2022-05-24' and '2022-05-30'\n",
    "    and exp_group in (1, 2)\n",
    "GROUP BY exp_group, user_id\n",
    "'''\n",
    "\n",
    "df = ph.read_clickhouse(query, connection=connection)"
   ]
  },
  {
   "cell_type": "code",
   "execution_count": 16,
   "id": "906c4734",
   "metadata": {},
   "outputs": [
    {
     "data": {
      "text/html": [
       "<div>\n",
       "<style scoped>\n",
       "    .dataframe tbody tr th:only-of-type {\n",
       "        vertical-align: middle;\n",
       "    }\n",
       "\n",
       "    .dataframe tbody tr th {\n",
       "        vertical-align: top;\n",
       "    }\n",
       "\n",
       "    .dataframe thead th {\n",
       "        text-align: right;\n",
       "    }\n",
       "</style>\n",
       "<table border=\"1\" class=\"dataframe\">\n",
       "  <thead>\n",
       "    <tr style=\"text-align: right;\">\n",
       "      <th></th>\n",
       "      <th>exp_group</th>\n",
       "      <th>user_id</th>\n",
       "      <th>likes</th>\n",
       "      <th>views</th>\n",
       "      <th>ctr</th>\n",
       "    </tr>\n",
       "  </thead>\n",
       "  <tbody>\n",
       "    <tr>\n",
       "      <th>0</th>\n",
       "      <td>1</td>\n",
       "      <td>109963</td>\n",
       "      <td>3</td>\n",
       "      <td>15</td>\n",
       "      <td>0.2</td>\n",
       "    </tr>\n",
       "  </tbody>\n",
       "</table>\n",
       "</div>"
      ],
      "text/plain": [
       "   exp_group  user_id  likes  views  ctr\n",
       "0          1   109963      3     15  0.2"
      ]
     },
     "execution_count": 16,
     "metadata": {},
     "output_type": "execute_result"
    }
   ],
   "source": [
    "df.head(1)"
   ]
  },
  {
   "cell_type": "code",
   "execution_count": 17,
   "id": "e3dd65b0",
   "metadata": {},
   "outputs": [
    {
     "data": {
      "text/html": [
       "<div>\n",
       "<style scoped>\n",
       "    .dataframe tbody tr th:only-of-type {\n",
       "        vertical-align: middle;\n",
       "    }\n",
       "\n",
       "    .dataframe tbody tr th {\n",
       "        vertical-align: top;\n",
       "    }\n",
       "\n",
       "    .dataframe thead th {\n",
       "        text-align: right;\n",
       "    }\n",
       "</style>\n",
       "<table border=\"1\" class=\"dataframe\">\n",
       "  <thead>\n",
       "    <tr style=\"text-align: right;\">\n",
       "      <th></th>\n",
       "      <th>user_id</th>\n",
       "      <th>likes</th>\n",
       "      <th>views</th>\n",
       "      <th>ctr</th>\n",
       "    </tr>\n",
       "    <tr>\n",
       "      <th>exp_group</th>\n",
       "      <th></th>\n",
       "      <th></th>\n",
       "      <th></th>\n",
       "      <th></th>\n",
       "    </tr>\n",
       "  </thead>\n",
       "  <tbody>\n",
       "    <tr>\n",
       "      <th>1</th>\n",
       "      <td>10079</td>\n",
       "      <td>10079</td>\n",
       "      <td>10079</td>\n",
       "      <td>10079</td>\n",
       "    </tr>\n",
       "    <tr>\n",
       "      <th>2</th>\n",
       "      <td>9952</td>\n",
       "      <td>9952</td>\n",
       "      <td>9952</td>\n",
       "      <td>9952</td>\n",
       "    </tr>\n",
       "  </tbody>\n",
       "</table>\n",
       "</div>"
      ],
      "text/plain": [
       "           user_id  likes  views    ctr\n",
       "exp_group                              \n",
       "1            10079  10079  10079  10079\n",
       "2             9952   9952   9952   9952"
      ]
     },
     "execution_count": 17,
     "metadata": {},
     "output_type": "execute_result"
    }
   ],
   "source": [
    "df.groupby('exp_group').count()"
   ]
  },
  {
   "cell_type": "markdown",
   "id": "dfd5abf1",
   "metadata": {},
   "source": [
    "### Проведем визуальную оценку распределений ctr для групп 1 и 2\n"
   ]
  },
  {
   "cell_type": "code",
   "execution_count": 18,
   "id": "3f20a8ad",
   "metadata": {},
   "outputs": [
    {
     "data": {
      "image/png": "[encoded data removed]",
      "text/plain": [
       "<Figure size 720x432 with 1 Axes>"
      ]
     },
     "metadata": {},
     "output_type": "display_data"
    }
   ],
   "source": [
    "groups = sns.histplot(data = df, \n",
    "              x='ctr', \n",
    "              hue='exp_group', \n",
    "              palette = ['r', 'b'],\n",
    "              alpha=0.5,\n",
    "              kde=False)"
   ]
  },
  {
   "cell_type": "markdown",
   "id": "2709146e",
   "metadata": {},
   "source": [
    "###  Проведем t тест"
   ]
  },
  {
   "cell_type": "code",
   "execution_count": 19,
   "id": "df481719",
   "metadata": {},
   "outputs": [
    {
     "name": "stdout",
     "output_type": "stream",
     "text": [
      "Нет статистически значимой разницы \n",
      "t-критерий =  0.7094392041270486 \n",
      "p-value = 0.4780623130874935\n"
     ]
    }
   ],
   "source": [
    "t_ctr, pvalue_ctr = stats.ttest_ind(df[df.exp_group == 1].ctr, \n",
    "                         df[df.exp_group == 2].ctr,\n",
    "                         equal_var=False)\n",
    "\n",
    "\n",
    "if pvalue_ctr > 0.05:\n",
    "    print('Нет статистически значимой разницы','\\nt-критерий = ', t_ctr,'\\np-value =', pvalue_ctr)\n",
    "else:\n",
    "    print('Есть статистически значимая разница','\\nt-критерий = ', t_ctr,'\\np-value =', pvalue_ctr)"
   ]
  },
  {
   "cell_type": "markdown",
   "id": "65029c78",
   "metadata": {},
   "source": [
    "### Посчитаем по методу линеаризованных лайков и применим t тест"
   ]
  },
  {
   "cell_type": "code",
   "execution_count": 20,
   "id": "72c103d6",
   "metadata": {},
   "outputs": [
    {
     "data": {
      "text/plain": [
       "0.20802680490126244"
      ]
     },
     "execution_count": 20,
     "metadata": {},
     "output_type": "execute_result"
    }
   ],
   "source": [
    "ctr_control_1 = df[df.exp_group==1].likes.sum()/df[df.exp_group==1].views.sum()\n",
    "ctr_control_1"
   ]
  },
  {
   "cell_type": "code",
   "execution_count": 21,
   "id": "93c9b25c",
   "metadata": {},
   "outputs": [],
   "source": [
    "df['linearized_likes'] = df.apply(lambda row: row['likes']-row['views']*ctr_control_1, axis=1) "
   ]
  },
  {
   "cell_type": "code",
   "execution_count": 22,
   "id": "e89690a0",
   "metadata": {},
   "outputs": [
    {
     "data": {
      "image/png": "[encoded data removed]",
      "text/plain": [
       "<Figure size 720x432 with 1 Axes>"
      ]
     },
     "metadata": {},
     "output_type": "display_data"
    }
   ],
   "source": [
    "groups = sns.histplot(data = df, \n",
    "              x='linearized_likes', \n",
    "              hue='exp_group', \n",
    "              palette = ['r', 'b'],\n",
    "              alpha=0.5,\n",
    "              kde=False)"
   ]
  },
  {
   "cell_type": "code",
   "execution_count": 23,
   "id": "9eebb93d",
   "metadata": {},
   "outputs": [],
   "source": [
    "# визуально графики стали более идентичными"
   ]
  },
  {
   "cell_type": "code",
   "execution_count": 24,
   "id": "6b5426a6",
   "metadata": {},
   "outputs": [
    {
     "name": "stdout",
     "output_type": "stream",
     "text": [
      "Есть статистически значимая разница \n",
      "t-критерий =  6.122579994775973 \n",
      "p-value = 9.439432187037712e-10\n"
     ]
    }
   ],
   "source": [
    "t_linearized_likes, pvalue_linearized_likes = stats.ttest_ind(df[df.exp_group == 1].linearized_likes, \n",
    "                                                              df[df.exp_group == 2].linearized_likes,\n",
    "                                                              equal_var=False)\n",
    "\n",
    "\n",
    "if pvalue_linearized_likes > 0.05:\n",
    "    print('Нет статистически значимой разницы','\\nt-критерий = ', t_linearized_likes,'\\np-value =', pvalue_linearized_likes)\n",
    "else:\n",
    "    print('Есть статистически значимая разница','\\nt-критерий = ', t_linearized_likes,'\\np-value =', pvalue_linearized_likes)"
   ]
  },
  {
   "cell_type": "code",
   "execution_count": 25,
   "id": "aae4b853",
   "metadata": {},
   "outputs": [
    {
     "data": {
      "text/plain": [
       "True"
      ]
     },
     "execution_count": 25,
     "metadata": {},
     "output_type": "execute_result"
    }
   ],
   "source": [
    "pvalue_linearized_likes < pvalue_ctr "
   ]
  },
  {
   "cell_type": "markdown",
   "id": "159fad6f",
   "metadata": {},
   "source": [
    "### Pvalue стало меньше, и появилась статистически значимая разница в методе линеаризованных лайков:)"
   ]
  }
 ],
 "metadata": {
  "kernelspec": {
   "display_name": "Python 3 (ipykernel)",
   "language": "python",
   "name": "python3"
  },
  "language_info": {
   "codemirror_mode": {
    "name": "ipython",
    "version": 3
   },
   "file_extension": ".py",
   "mimetype": "text/x-python",
   "name": "python",
   "nbconvert_exporter": "python",
   "pygments_lexer": "ipython3",
   "version": "3.9.7"
  }
 },
 "nbformat": 4,
 "nbformat_minor": 5
}
