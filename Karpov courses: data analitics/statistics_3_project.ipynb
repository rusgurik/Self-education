{
 "cells": [
  {
   "cell_type": "code",
   "execution_count": 65,
   "id": "614872f4",
   "metadata": {},
   "outputs": [],
   "source": [
    "import pandas as pd\n",
    "import seaborn as sns\n",
    "import numpy as np"
   ]
  },
  {
   "cell_type": "code",
   "execution_count": 26,
   "id": "c2ed7b2c",
   "metadata": {},
   "outputs": [],
   "source": [
    "df = pd.read_csv('/Users/ruslanhuretski/Downloads/london.csv', parse_dates=['timestamp'])"
   ]
  },
  {
   "cell_type": "code",
   "execution_count": 27,
   "id": "009a248b",
   "metadata": {},
   "outputs": [
    {
     "data": {
      "text/html": [
       "<div>\n",
       "<style scoped>\n",
       "    .dataframe tbody tr th:only-of-type {\n",
       "        vertical-align: middle;\n",
       "    }\n",
       "\n",
       "    .dataframe tbody tr th {\n",
       "        vertical-align: top;\n",
       "    }\n",
       "\n",
       "    .dataframe thead th {\n",
       "        text-align: right;\n",
       "    }\n",
       "</style>\n",
       "<table border=\"1\" class=\"dataframe\">\n",
       "  <thead>\n",
       "    <tr style=\"text-align: right;\">\n",
       "      <th></th>\n",
       "      <th>timestamp</th>\n",
       "      <th>cnt</th>\n",
       "      <th>t1</th>\n",
       "      <th>t2</th>\n",
       "      <th>hum</th>\n",
       "      <th>wind_speed</th>\n",
       "      <th>weather_code</th>\n",
       "      <th>is_holiday</th>\n",
       "      <th>is_weekend</th>\n",
       "      <th>season</th>\n",
       "    </tr>\n",
       "  </thead>\n",
       "  <tbody>\n",
       "    <tr>\n",
       "      <th>0</th>\n",
       "      <td>2015-01-04 00:00:00</td>\n",
       "      <td>182</td>\n",
       "      <td>3.0</td>\n",
       "      <td>2.0</td>\n",
       "      <td>93.0</td>\n",
       "      <td>6.0</td>\n",
       "      <td>3.0</td>\n",
       "      <td>0.0</td>\n",
       "      <td>1.0</td>\n",
       "      <td>3.0</td>\n",
       "    </tr>\n",
       "    <tr>\n",
       "      <th>1</th>\n",
       "      <td>2015-01-04 01:00:00</td>\n",
       "      <td>138</td>\n",
       "      <td>3.0</td>\n",
       "      <td>2.5</td>\n",
       "      <td>93.0</td>\n",
       "      <td>5.0</td>\n",
       "      <td>1.0</td>\n",
       "      <td>0.0</td>\n",
       "      <td>1.0</td>\n",
       "      <td>3.0</td>\n",
       "    </tr>\n",
       "    <tr>\n",
       "      <th>2</th>\n",
       "      <td>2015-01-04 02:00:00</td>\n",
       "      <td>134</td>\n",
       "      <td>2.5</td>\n",
       "      <td>2.5</td>\n",
       "      <td>96.5</td>\n",
       "      <td>0.0</td>\n",
       "      <td>1.0</td>\n",
       "      <td>0.0</td>\n",
       "      <td>1.0</td>\n",
       "      <td>3.0</td>\n",
       "    </tr>\n",
       "    <tr>\n",
       "      <th>3</th>\n",
       "      <td>2015-01-04 03:00:00</td>\n",
       "      <td>72</td>\n",
       "      <td>2.0</td>\n",
       "      <td>2.0</td>\n",
       "      <td>100.0</td>\n",
       "      <td>0.0</td>\n",
       "      <td>1.0</td>\n",
       "      <td>0.0</td>\n",
       "      <td>1.0</td>\n",
       "      <td>3.0</td>\n",
       "    </tr>\n",
       "    <tr>\n",
       "      <th>4</th>\n",
       "      <td>2015-01-04 04:00:00</td>\n",
       "      <td>47</td>\n",
       "      <td>2.0</td>\n",
       "      <td>0.0</td>\n",
       "      <td>93.0</td>\n",
       "      <td>6.5</td>\n",
       "      <td>1.0</td>\n",
       "      <td>0.0</td>\n",
       "      <td>1.0</td>\n",
       "      <td>3.0</td>\n",
       "    </tr>\n",
       "  </tbody>\n",
       "</table>\n",
       "</div>"
      ],
      "text/plain": [
       "            timestamp  cnt   t1   t2    hum  wind_speed  weather_code  \\\n",
       "0 2015-01-04 00:00:00  182  3.0  2.0   93.0         6.0           3.0   \n",
       "1 2015-01-04 01:00:00  138  3.0  2.5   93.0         5.0           1.0   \n",
       "2 2015-01-04 02:00:00  134  2.5  2.5   96.5         0.0           1.0   \n",
       "3 2015-01-04 03:00:00   72  2.0  2.0  100.0         0.0           1.0   \n",
       "4 2015-01-04 04:00:00   47  2.0  0.0   93.0         6.5           1.0   \n",
       "\n",
       "   is_holiday  is_weekend  season  \n",
       "0         0.0         1.0     3.0  \n",
       "1         0.0         1.0     3.0  \n",
       "2         0.0         1.0     3.0  \n",
       "3         0.0         1.0     3.0  \n",
       "4         0.0         1.0     3.0  "
      ]
     },
     "execution_count": 27,
     "metadata": {},
     "output_type": "execute_result"
    }
   ],
   "source": [
    "df.head()"
   ]
  },
  {
   "cell_type": "code",
   "execution_count": 28,
   "id": "e541977f",
   "metadata": {},
   "outputs": [
    {
     "data": {
      "text/plain": [
       "(17414, 10)"
      ]
     },
     "execution_count": 28,
     "metadata": {},
     "output_type": "execute_result"
    }
   ],
   "source": [
    "df.shape"
   ]
  },
  {
   "cell_type": "code",
   "execution_count": 29,
   "id": "5abf4790",
   "metadata": {},
   "outputs": [
    {
     "data": {
      "text/plain": [
       "timestamp       datetime64[ns]\n",
       "cnt                      int64\n",
       "t1                     float64\n",
       "t2                     float64\n",
       "hum                    float64\n",
       "wind_speed             float64\n",
       "weather_code           float64\n",
       "is_holiday             float64\n",
       "is_weekend             float64\n",
       "season                 float64\n",
       "dtype: object"
      ]
     },
     "execution_count": 29,
     "metadata": {},
     "output_type": "execute_result"
    }
   ],
   "source": [
    "df.dtypes"
   ]
  },
  {
   "cell_type": "code",
   "execution_count": 30,
   "id": "6932a6ed",
   "metadata": {},
   "outputs": [
    {
     "data": {
      "text/plain": [
       "timestamp       0\n",
       "cnt             0\n",
       "t1              0\n",
       "t2              0\n",
       "hum             0\n",
       "wind_speed      0\n",
       "weather_code    0\n",
       "is_holiday      0\n",
       "is_weekend      0\n",
       "season          0\n",
       "dtype: int64"
      ]
     },
     "execution_count": 30,
     "metadata": {},
     "output_type": "execute_result"
    }
   ],
   "source": [
    "df.isna().sum()"
   ]
  },
  {
   "cell_type": "code",
   "execution_count": 34,
   "id": "8ca96df9",
   "metadata": {},
   "outputs": [],
   "source": [
    "sns.set(rc={'figure.figsize':(12,12)})"
   ]
  },
  {
   "cell_type": "code",
   "execution_count": 35,
   "id": "a597ca6c",
   "metadata": {},
   "outputs": [
    {
     "data": {
      "text/plain": [
       "<AxesSubplot:xlabel='timestamp', ylabel='cnt'>"
      ]
     },
     "execution_count": 35,
     "metadata": {},
     "output_type": "execute_result"
    },
    {
     "data": {
      "image/png": "[encoded data removed]",
      "text/plain": [
       "<Figure size 864x864 with 1 Axes>"
      ]
     },
     "metadata": {},
     "output_type": "display_data"
    }
   ],
   "source": [
    "sns.lineplot(x='timestamp', y='cnt', data=df)"
   ]
  },
  {
   "cell_type": "code",
   "execution_count": 56,
   "id": "a4b91444",
   "metadata": {},
   "outputs": [],
   "source": [
    "df = df.set_index('timestamp').sort_values('timestamp')"
   ]
  },
  {
   "cell_type": "code",
   "execution_count": 75,
   "id": "3850369f",
   "metadata": {},
   "outputs": [],
   "source": [
    "a = df.resample(rule='D').agg({'cnt': 'sum'})"
   ]
  },
  {
   "cell_type": "code",
   "execution_count": 76,
   "id": "119ef601",
   "metadata": {},
   "outputs": [],
   "source": [
    "b = df.resample(rule='D').agg({'cnt': 'sum'}).rolling(window=3).mean()"
   ]
  },
  {
   "cell_type": "code",
   "execution_count": 77,
   "id": "3c3aec14",
   "metadata": {},
   "outputs": [],
   "source": [
    "c = a - b"
   ]
  },
  {
   "cell_type": "code",
   "execution_count": 80,
   "id": "7deeb84b",
   "metadata": {},
   "outputs": [],
   "source": [
    "std = np.std(c)"
   ]
  },
  {
   "cell_type": "code",
   "execution_count": 114,
   "id": "bba845b7",
   "metadata": {},
   "outputs": [
    {
     "data": {
      "text/plain": [
       "cnt    4558.586641\n",
       "dtype: float64"
      ]
     },
     "execution_count": 114,
     "metadata": {},
     "output_type": "execute_result"
    }
   ],
   "source": [
    "std"
   ]
  },
  {
   "cell_type": "code",
   "execution_count": 115,
   "id": "a880dbbd",
   "metadata": {},
   "outputs": [],
   "source": [
    "df_agg = df.resample(rule='D').agg({'cnt': 'sum'})"
   ]
  },
  {
   "cell_type": "code",
   "execution_count": 116,
   "id": "b2480098",
   "metadata": {},
   "outputs": [],
   "source": [
    "df_agg['cnt_mean'] = df.resample(rule='D').agg({'cnt': 'sum'}).rolling(window=3).mean()"
   ]
  },
  {
   "cell_type": "code",
   "execution_count": 117,
   "id": "9431e618",
   "metadata": {},
   "outputs": [],
   "source": [
    "df_agg['upper_bound'] = round(df_agg.cnt_mean + 2.576 * 4558.586641, 2)"
   ]
  },
  {
   "cell_type": "code",
   "execution_count": 118,
   "id": "df849bb1",
   "metadata": {},
   "outputs": [],
   "source": [
    "df_agg['lower_bound'] = round(df_agg.cnt_mean - 2.576 * 4558.586641, 2)"
   ]
  },
  {
   "cell_type": "code",
   "execution_count": 119,
   "id": "5305a1df",
   "metadata": {},
   "outputs": [
    {
     "data": {
      "text/html": [
       "<div>\n",
       "<style scoped>\n",
       "    .dataframe tbody tr th:only-of-type {\n",
       "        vertical-align: middle;\n",
       "    }\n",
       "\n",
       "    .dataframe tbody tr th {\n",
       "        vertical-align: top;\n",
       "    }\n",
       "\n",
       "    .dataframe thead th {\n",
       "        text-align: right;\n",
       "    }\n",
       "</style>\n",
       "<table border=\"1\" class=\"dataframe\">\n",
       "  <thead>\n",
       "    <tr style=\"text-align: right;\">\n",
       "      <th></th>\n",
       "      <th>cnt</th>\n",
       "      <th>cnt_mean</th>\n",
       "      <th>upper_bound</th>\n",
       "      <th>lower_bound</th>\n",
       "    </tr>\n",
       "    <tr>\n",
       "      <th>timestamp</th>\n",
       "      <th></th>\n",
       "      <th></th>\n",
       "      <th></th>\n",
       "      <th></th>\n",
       "    </tr>\n",
       "  </thead>\n",
       "  <tbody>\n",
       "    <tr>\n",
       "      <th>2015-01-04</th>\n",
       "      <td>9234</td>\n",
       "      <td>NaN</td>\n",
       "      <td>NaN</td>\n",
       "      <td>NaN</td>\n",
       "    </tr>\n",
       "    <tr>\n",
       "      <th>2015-01-05</th>\n",
       "      <td>20372</td>\n",
       "      <td>NaN</td>\n",
       "      <td>NaN</td>\n",
       "      <td>NaN</td>\n",
       "    </tr>\n",
       "    <tr>\n",
       "      <th>2015-01-06</th>\n",
       "      <td>20613</td>\n",
       "      <td>16739.666667</td>\n",
       "      <td>28482.59</td>\n",
       "      <td>4996.75</td>\n",
       "    </tr>\n",
       "    <tr>\n",
       "      <th>2015-01-07</th>\n",
       "      <td>21064</td>\n",
       "      <td>20683.000000</td>\n",
       "      <td>32425.92</td>\n",
       "      <td>8940.08</td>\n",
       "    </tr>\n",
       "    <tr>\n",
       "      <th>2015-01-08</th>\n",
       "      <td>15601</td>\n",
       "      <td>19092.666667</td>\n",
       "      <td>30835.59</td>\n",
       "      <td>7349.75</td>\n",
       "    </tr>\n",
       "    <tr>\n",
       "      <th>...</th>\n",
       "      <td>...</td>\n",
       "      <td>...</td>\n",
       "      <td>...</td>\n",
       "      <td>...</td>\n",
       "    </tr>\n",
       "    <tr>\n",
       "      <th>2016-12-30</th>\n",
       "      <td>11566</td>\n",
       "      <td>12682.000000</td>\n",
       "      <td>24424.92</td>\n",
       "      <td>939.08</td>\n",
       "    </tr>\n",
       "    <tr>\n",
       "      <th>2016-12-31</th>\n",
       "      <td>11424</td>\n",
       "      <td>12347.333333</td>\n",
       "      <td>24090.25</td>\n",
       "      <td>604.41</td>\n",
       "    </tr>\n",
       "    <tr>\n",
       "      <th>2017-01-01</th>\n",
       "      <td>6421</td>\n",
       "      <td>9803.666667</td>\n",
       "      <td>21546.59</td>\n",
       "      <td>-1939.25</td>\n",
       "    </tr>\n",
       "    <tr>\n",
       "      <th>2017-01-02</th>\n",
       "      <td>11823</td>\n",
       "      <td>9889.333333</td>\n",
       "      <td>21632.25</td>\n",
       "      <td>-1853.59</td>\n",
       "    </tr>\n",
       "    <tr>\n",
       "      <th>2017-01-03</th>\n",
       "      <td>19436</td>\n",
       "      <td>12560.000000</td>\n",
       "      <td>24302.92</td>\n",
       "      <td>817.08</td>\n",
       "    </tr>\n",
       "  </tbody>\n",
       "</table>\n",
       "<p>731 rows × 4 columns</p>\n",
       "</div>"
      ],
      "text/plain": [
       "              cnt      cnt_mean  upper_bound  lower_bound\n",
       "timestamp                                                \n",
       "2015-01-04   9234           NaN          NaN          NaN\n",
       "2015-01-05  20372           NaN          NaN          NaN\n",
       "2015-01-06  20613  16739.666667     28482.59      4996.75\n",
       "2015-01-07  21064  20683.000000     32425.92      8940.08\n",
       "2015-01-08  15601  19092.666667     30835.59      7349.75\n",
       "...           ...           ...          ...          ...\n",
       "2016-12-30  11566  12682.000000     24424.92       939.08\n",
       "2016-12-31  11424  12347.333333     24090.25       604.41\n",
       "2017-01-01   6421   9803.666667     21546.59     -1939.25\n",
       "2017-01-02  11823   9889.333333     21632.25     -1853.59\n",
       "2017-01-03  19436  12560.000000     24302.92       817.08\n",
       "\n",
       "[731 rows x 4 columns]"
      ]
     },
     "execution_count": 119,
     "metadata": {},
     "output_type": "execute_result"
    }
   ],
   "source": [
    "df_agg"
   ]
  },
  {
   "cell_type": "code",
   "execution_count": 127,
   "id": "342710d4",
   "metadata": {},
   "outputs": [
    {
     "data": {
      "text/html": [
       "<div>\n",
       "<style scoped>\n",
       "    .dataframe tbody tr th:only-of-type {\n",
       "        vertical-align: middle;\n",
       "    }\n",
       "\n",
       "    .dataframe tbody tr th {\n",
       "        vertical-align: top;\n",
       "    }\n",
       "\n",
       "    .dataframe thead th {\n",
       "        text-align: right;\n",
       "    }\n",
       "</style>\n",
       "<table border=\"1\" class=\"dataframe\">\n",
       "  <thead>\n",
       "    <tr style=\"text-align: right;\">\n",
       "      <th></th>\n",
       "      <th>cnt</th>\n",
       "      <th>cnt_mean</th>\n",
       "      <th>upper_bound</th>\n",
       "      <th>lower_bound</th>\n",
       "    </tr>\n",
       "    <tr>\n",
       "      <th>timestamp</th>\n",
       "      <th></th>\n",
       "      <th></th>\n",
       "      <th></th>\n",
       "      <th></th>\n",
       "    </tr>\n",
       "  </thead>\n",
       "  <tbody>\n",
       "    <tr>\n",
       "      <th>2015-05-14</th>\n",
       "      <td>15609</td>\n",
       "      <td>28709.333333</td>\n",
       "      <td>40452.25</td>\n",
       "      <td>16966.41</td>\n",
       "    </tr>\n",
       "    <tr>\n",
       "      <th>2015-07-09</th>\n",
       "      <td>72504</td>\n",
       "      <td>50705.000000</td>\n",
       "      <td>62447.92</td>\n",
       "      <td>38962.08</td>\n",
       "    </tr>\n",
       "    <tr>\n",
       "      <th>2015-07-12</th>\n",
       "      <td>23240</td>\n",
       "      <td>36036.666667</td>\n",
       "      <td>47779.59</td>\n",
       "      <td>24293.75</td>\n",
       "    </tr>\n",
       "    <tr>\n",
       "      <th>2015-07-24</th>\n",
       "      <td>16034</td>\n",
       "      <td>31013.666667</td>\n",
       "      <td>42756.59</td>\n",
       "      <td>19270.75</td>\n",
       "    </tr>\n",
       "    <tr>\n",
       "      <th>2015-08-06</th>\n",
       "      <td>63468</td>\n",
       "      <td>46627.333333</td>\n",
       "      <td>58370.25</td>\n",
       "      <td>34884.41</td>\n",
       "    </tr>\n",
       "    <tr>\n",
       "      <th>2015-08-24</th>\n",
       "      <td>17400</td>\n",
       "      <td>29529.333333</td>\n",
       "      <td>41272.25</td>\n",
       "      <td>17786.41</td>\n",
       "    </tr>\n",
       "    <tr>\n",
       "      <th>2015-11-14</th>\n",
       "      <td>8898</td>\n",
       "      <td>21037.333333</td>\n",
       "      <td>32780.25</td>\n",
       "      <td>9294.41</td>\n",
       "    </tr>\n",
       "    <tr>\n",
       "      <th>2016-09-02</th>\n",
       "      <td>0</td>\n",
       "      <td>26086.333333</td>\n",
       "      <td>37829.25</td>\n",
       "      <td>14343.41</td>\n",
       "    </tr>\n",
       "    <tr>\n",
       "      <th>2016-09-04</th>\n",
       "      <td>27512</td>\n",
       "      <td>14259.000000</td>\n",
       "      <td>26001.92</td>\n",
       "      <td>2516.08</td>\n",
       "    </tr>\n",
       "    <tr>\n",
       "      <th>2016-09-10</th>\n",
       "      <td>17080</td>\n",
       "      <td>31262.000000</td>\n",
       "      <td>43004.92</td>\n",
       "      <td>19519.08</td>\n",
       "    </tr>\n",
       "    <tr>\n",
       "      <th>2016-09-16</th>\n",
       "      <td>21967</td>\n",
       "      <td>36193.333333</td>\n",
       "      <td>47936.25</td>\n",
       "      <td>24450.41</td>\n",
       "    </tr>\n",
       "    <tr>\n",
       "      <th>2016-11-12</th>\n",
       "      <td>8990</td>\n",
       "      <td>20878.000000</td>\n",
       "      <td>32620.92</td>\n",
       "      <td>9135.08</td>\n",
       "    </tr>\n",
       "    <tr>\n",
       "      <th>2016-12-25</th>\n",
       "      <td>36653</td>\n",
       "      <td>19650.666667</td>\n",
       "      <td>31393.59</td>\n",
       "      <td>7907.75</td>\n",
       "    </tr>\n",
       "  </tbody>\n",
       "</table>\n",
       "</div>"
      ],
      "text/plain": [
       "              cnt      cnt_mean  upper_bound  lower_bound\n",
       "timestamp                                                \n",
       "2015-05-14  15609  28709.333333     40452.25     16966.41\n",
       "2015-07-09  72504  50705.000000     62447.92     38962.08\n",
       "2015-07-12  23240  36036.666667     47779.59     24293.75\n",
       "2015-07-24  16034  31013.666667     42756.59     19270.75\n",
       "2015-08-06  63468  46627.333333     58370.25     34884.41\n",
       "2015-08-24  17400  29529.333333     41272.25     17786.41\n",
       "2015-11-14   8898  21037.333333     32780.25      9294.41\n",
       "2016-09-02      0  26086.333333     37829.25     14343.41\n",
       "2016-09-04  27512  14259.000000     26001.92      2516.08\n",
       "2016-09-10  17080  31262.000000     43004.92     19519.08\n",
       "2016-09-16  21967  36193.333333     47936.25     24450.41\n",
       "2016-11-12   8990  20878.000000     32620.92      9135.08\n",
       "2016-12-25  36653  19650.666667     31393.59      7907.75"
      ]
     },
     "execution_count": 127,
     "metadata": {},
     "output_type": "execute_result"
    }
   ],
   "source": [
    "df_agg.query('cnt > upper_bound or cnt < lower_bound')"
   ]
  },
  {
   "cell_type": "code",
   "execution_count": null,
   "id": "e9207628",
   "metadata": {},
   "outputs": [],
   "source": []
  }
 ],
 "metadata": {
  "kernelspec": {
   "display_name": "Python 3 (ipykernel)",
   "language": "python",
   "name": "python3"
  },
  "language_info": {
   "codemirror_mode": {
    "name": "ipython",
    "version": 3
   },
   "file_extension": ".py",
   "mimetype": "text/x-python",
   "name": "python",
   "nbconvert_exporter": "python",
   "pygments_lexer": "ipython3",
   "version": "3.9.7"
  }
 },
 "nbformat": 4,
 "nbformat_minor": 5
}
