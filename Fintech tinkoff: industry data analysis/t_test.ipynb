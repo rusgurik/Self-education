{
 "cells": [
  {
   "cell_type": "code",
   "execution_count": 1,
   "id": "bb48630a",
   "metadata": {},
   "outputs": [],
   "source": [
    "import pandas as pd\n",
    "import numpy as np\n",
    "import seaborn as sns\n",
    "import matplotlib.pyplot as plt\n",
    "import scipy.stats as stats"
   ]
  },
  {
   "cell_type": "markdown",
   "id": "8af152a6",
   "metadata": {},
   "source": [
    "### 1 задание\n",
    "В файле test_1 лежит результат теста. (target - какая-то целевая метрика)\n",
    "\n",
    "\n",
    "Изучите результаты теста и сделайте вывод (проверяем гипотезу о равенстве средних). В качестве решения - ноутбук, в котором построено распределение параметра target в группах и проверены нужные критерии."
   ]
  },
  {
   "cell_type": "code",
   "execution_count": 57,
   "id": "47e3e711",
   "metadata": {},
   "outputs": [],
   "source": [
    "data = pd.read_csv('test_1.csv')"
   ]
  },
  {
   "cell_type": "code",
   "execution_count": 58,
   "id": "04b43acd",
   "metadata": {},
   "outputs": [
    {
     "data": {
      "text/html": [
       "<div>\n",
       "<style scoped>\n",
       "    .dataframe tbody tr th:only-of-type {\n",
       "        vertical-align: middle;\n",
       "    }\n",
       "\n",
       "    .dataframe tbody tr th {\n",
       "        vertical-align: top;\n",
       "    }\n",
       "\n",
       "    .dataframe thead th {\n",
       "        text-align: right;\n",
       "    }\n",
       "</style>\n",
       "<table border=\"1\" class=\"dataframe\">\n",
       "  <thead>\n",
       "    <tr style=\"text-align: right;\">\n",
       "      <th></th>\n",
       "      <th>group</th>\n",
       "      <th>client_id</th>\n",
       "      <th>target</th>\n",
       "    </tr>\n",
       "  </thead>\n",
       "  <tbody>\n",
       "    <tr>\n",
       "      <th>0</th>\n",
       "      <td>test</td>\n",
       "      <td>1</td>\n",
       "      <td>48.294046</td>\n",
       "    </tr>\n",
       "    <tr>\n",
       "      <th>1</th>\n",
       "      <td>test</td>\n",
       "      <td>2</td>\n",
       "      <td>50.561098</td>\n",
       "    </tr>\n",
       "    <tr>\n",
       "      <th>2</th>\n",
       "      <td>test</td>\n",
       "      <td>3</td>\n",
       "      <td>50.987911</td>\n",
       "    </tr>\n",
       "    <tr>\n",
       "      <th>3</th>\n",
       "      <td>test</td>\n",
       "      <td>4</td>\n",
       "      <td>47.819840</td>\n",
       "    </tr>\n",
       "    <tr>\n",
       "      <th>4</th>\n",
       "      <td>test</td>\n",
       "      <td>5</td>\n",
       "      <td>50.153417</td>\n",
       "    </tr>\n",
       "  </tbody>\n",
       "</table>\n",
       "</div>"
      ],
      "text/plain": [
       "  group  client_id     target\n",
       "0  test          1  48.294046\n",
       "1  test          2  50.561098\n",
       "2  test          3  50.987911\n",
       "3  test          4  47.819840\n",
       "4  test          5  50.153417"
      ]
     },
     "execution_count": 58,
     "metadata": {},
     "output_type": "execute_result"
    }
   ],
   "source": [
    "data.head()"
   ]
  },
  {
   "cell_type": "code",
   "execution_count": 59,
   "id": "4a544c40",
   "metadata": {},
   "outputs": [
    {
     "data": {
      "text/plain": [
       "(1998, 3)"
      ]
     },
     "execution_count": 59,
     "metadata": {},
     "output_type": "execute_result"
    }
   ],
   "source": [
    "data.shape"
   ]
  },
  {
   "cell_type": "code",
   "execution_count": 60,
   "id": "8931383b",
   "metadata": {},
   "outputs": [
    {
     "data": {
      "text/plain": [
       "group         object\n",
       "client_id      int64\n",
       "target       float64\n",
       "dtype: object"
      ]
     },
     "execution_count": 60,
     "metadata": {},
     "output_type": "execute_result"
    }
   ],
   "source": [
    "data.dtypes"
   ]
  },
  {
   "cell_type": "code",
   "execution_count": 61,
   "id": "3c2268d3",
   "metadata": {},
   "outputs": [
    {
     "data": {
      "text/plain": [
       "count     1998\n",
       "unique       2\n",
       "top       test\n",
       "freq      1010\n",
       "Name: group, dtype: object"
      ]
     },
     "execution_count": 61,
     "metadata": {},
     "output_type": "execute_result"
    }
   ],
   "source": [
    "data.group.describe()"
   ]
  },
  {
   "cell_type": "code",
   "execution_count": 62,
   "id": "9e3a771b",
   "metadata": {},
   "outputs": [],
   "source": [
    "control = data[data.group == \"control\"].target\n",
    "test = data[data.group == \"test\"].target"
   ]
  },
  {
   "cell_type": "code",
   "execution_count": 63,
   "id": "b2cff791",
   "metadata": {},
   "outputs": [
    {
     "name": "stderr",
     "output_type": "stream",
     "text": [
      "/opt/anaconda3/lib/python3.9/site-packages/seaborn/distributions.py:2619: FutureWarning: `distplot` is a deprecated function and will be removed in a future version. Please adapt your code to use either `displot` (a figure-level function with similar flexibility) or `histplot` (an axes-level function for histograms).\n",
      "  warnings.warn(msg, FutureWarning)\n"
     ]
    },
    {
     "data": {
      "text/plain": [
       "Text(0.5, 1.0, 'test')"
      ]
     },
     "execution_count": 63,
     "metadata": {},
     "output_type": "execute_result"
    },
    {
     "data": {
      "image/png": "[encoded data removed]",
      "text/plain": [
       "<Figure size 864x360 with 2 Axes>"
      ]
     },
     "metadata": {
      "needs_background": "light"
     },
     "output_type": "display_data"
    }
   ],
   "source": [
    "f = plt.figure(figsize=(12,5))\n",
    "\n",
    "ax=f.add_subplot(121)\n",
    "sns.distplot(control, color = 'olivedrab', hist = True, kde = False, ax = ax)\n",
    "ax.set_title('control')\n",
    "\n",
    "ax=f.add_subplot(122)\n",
    "sns.distplot(test, color = 'gold', hist = True, kde = False, ax=ax)\n",
    "ax.set_title('test')"
   ]
  },
  {
   "cell_type": "markdown",
   "id": "e55f145f",
   "metadata": {},
   "source": [
    "#### Проверим данные на нормальность"
   ]
  },
  {
   "cell_type": "code",
   "execution_count": 64,
   "id": "cd30e3a0",
   "metadata": {},
   "outputs": [
    {
     "data": {
      "image/png": "[encoded data removed]",
      "text/plain": [
       "<Figure size 432x288 with 1 Axes>"
      ]
     },
     "metadata": {
      "needs_background": "light"
     },
     "output_type": "display_data"
    },
    {
     "data": {
      "image/png": "[encoded data removed]",
      "text/plain": [
       "<Figure size 432x288 with 1 Axes>"
      ]
     },
     "metadata": {
      "needs_background": "light"
     },
     "output_type": "display_data"
    }
   ],
   "source": [
    "stats.probplot(control, dist=\"norm\", plot=plt)\n",
    "plt.show()\n",
    "\n",
    "stats.probplot(test, dist=\"norm\", plot=plt)\n",
    "plt.show()"
   ]
  },
  {
   "cell_type": "markdown",
   "id": "3fe8dc6a",
   "metadata": {},
   "source": [
    "#### Критерий Шапиро-Уилка"
   ]
  },
  {
   "cell_type": "markdown",
   "id": "eb41fd28",
   "metadata": {},
   "source": [
    "Нулевая гипотеза H0 теста Шапиро–Уилка заключается в том, что случайная величина, выборка x которой известна, распределена по нормальному закону.\n",
    "\n",
    "Альтернативная гипотеза H1 заключается в том, закон распределения не является нормальным.\n",
    "\n",
    "Для выполнения теста Шапиро-Уилка предназначена функция stats.shapiro, принимающая на вход выбокру x объема не меньше 3 и не больше 5000.\n",
    "\n",
    "Функция возвращает список со следующими компонентами:\n",
    "\n",
    "• statistic – значение статистики теста, которую принято обозначать буквой W;\n",
    "\n",
    "• p.value – апроксимация p-value для полученного значения статистики;"
   ]
  },
  {
   "cell_type": "code",
   "execution_count": 65,
   "id": "31ea1fcb",
   "metadata": {},
   "outputs": [],
   "source": [
    "groups = [control, test]"
   ]
  },
  {
   "cell_type": "code",
   "execution_count": 90,
   "id": "23a07303",
   "metadata": {},
   "outputs": [
    {
     "name": "stdout",
     "output_type": "stream",
     "text": [
      "Normal W= 0.9992 p-value 0.9479\n",
      "Normal W= 0.998 p-value 0.2941\n"
     ]
    }
   ],
   "source": [
    "# Критерий Шапиро-Уилка\n",
    "# используется для проверки гипотезы H_0:\n",
    "# «случайная величина X распределена нормально» \n",
    "# является одним наиболее эффективных критериев проверки нормальности.\n",
    "for group in groups:\n",
    "    W_value,p_value = stats.shapiro(group)\n",
    "    if p_value > 0.05:\n",
    "        print('Normal','W=',round(W_value,4),'p-value',round(p_value,4))\n",
    "    else:\n",
    "        print('Not normal','W=',round(W_value,4),'p-value',round(p_value,4))"
   ]
  },
  {
   "cell_type": "markdown",
   "id": "559c06b7",
   "metadata": {},
   "source": [
    "### Тест\n",
    "\n",
    " Мы ожидаем, что таргет в тестовой группе будет выше. Важно понять, стал ли таргет выше или ниже. Поэтому мы формулируем двустороннюю альтернативную гипотезу!  -->"
   ]
  },
  {
   "cell_type": "markdown",
   "id": "41f29ebd",
   "metadata": {},
   "source": [
    "* H0 - средний таргет в группах не имет значимых различий;\n",
    "* H1 - средний таргет в группах больше в тестовой выборке"
   ]
  },
  {
   "cell_type": "markdown",
   "id": "22e281b4",
   "metadata": {},
   "source": [
    "Определим уровень значимости.\n",
    "* Берем a = 0.05"
   ]
  },
  {
   "cell_type": "markdown",
   "id": "e2a0e282",
   "metadata": {},
   "source": [
    "**Рассчитаем статистику критерия Стьюдента**\n",
    "\n",
    "![st](https://i.pinimg.com/originals/38/39/58/383958ca7ad8b647440bf3921ac2b6ad.png)"
   ]
  },
  {
   "cell_type": "markdown",
   "id": "7b69c21d",
   "metadata": {},
   "source": [
    "Вычислим средний таргет каждой группы"
   ]
  },
  {
   "cell_type": "code",
   "execution_count": 105,
   "id": "f90b1972",
   "metadata": {},
   "outputs": [
    {
     "name": "stdout",
     "output_type": "stream",
     "text": [
      "Средний возраст в контрольной группе =  51.06737874869835\n",
      "Средний возраст в тестовой группе =  49.958943954077576\n"
     ]
    }
   ],
   "source": [
    "mean_a = np.mean(control)\n",
    "mean_b = np.mean(test)\n",
    "print('Средний таргет в контрольной группе = ',mean_a)\n",
    "print('Средний таргет в тестовой группе = ',mean_b)"
   ]
  },
  {
   "cell_type": "code",
   "execution_count": null,
   "id": "76483483",
   "metadata": {},
   "outputs": [],
   "source": [
    "Дальше нам надо вычислить их разность, разницу берем по модулю без учета знака"
   ]
  },
  {
   "cell_type": "code",
   "execution_count": 132,
   "id": "8a11683f",
   "metadata": {},
   "outputs": [
    {
     "name": "stdout",
     "output_type": "stream",
     "text": [
      "Разница выборочных средних =  -1.108434794620777\n"
     ]
    }
   ],
   "source": [
    "mean_diff = mean_b - mean_a\n",
    "print('Разница выборочных средних = ',mean_diff)"
   ]
  },
  {
   "cell_type": "markdown",
   "id": "ec8681ca",
   "metadata": {},
   "source": [
    "Дальше вычисляем стандартную ошибку разности выборочных средних"
   ]
  },
  {
   "cell_type": "code",
   "execution_count": 133,
   "id": "ef891321",
   "metadata": {},
   "outputs": [
    {
     "name": "stdout",
     "output_type": "stream",
     "text": [
      "Стандартная ошибка разности средних =  0.112196319715768\n"
     ]
    }
   ],
   "source": [
    "#количество элементов в выборках\n",
    "n1 = len(control)\n",
    "n2 = len(test)\n",
    "\n",
    "#дисперсии\n",
    "var_a = np.var(control, ddof = 1)\n",
    "var_b = np.var(test, ddof = 1)\n",
    "\n",
    "#стандартные отклонения\n",
    "sd_a = np.sqrt(var_a)\n",
    "sd_b = np.sqrt(var_b)\n",
    "\n",
    "#стандартная ошибка разности средних\n",
    "sem = np.sqrt(sd_a**2/n1 + sd_b**2/n2)\n",
    "\n",
    "print('Стандартная ошибка разности средних = ',sem)"
   ]
  },
  {
   "cell_type": "markdown",
   "id": "71a956db",
   "metadata": {},
   "source": [
    "Получим статистику критерия"
   ]
  },
  {
   "cell_type": "code",
   "execution_count": 134,
   "id": "36f6849d",
   "metadata": {},
   "outputs": [
    {
     "name": "stdout",
     "output_type": "stream",
     "text": [
      "t-критерий = -9.879422047254534\n"
     ]
    }
   ],
   "source": [
    "t = mean_diff/sem\n",
    "print('t-критерий =', t)"
   ]
  },
  {
   "cell_type": "code",
   "execution_count": 135,
   "id": "59ff4f7c",
   "metadata": {},
   "outputs": [
    {
     "data": {
      "text/plain": [
       "[<matplotlib.lines.Line2D at 0x7ff467c916d0>]"
      ]
     },
     "execution_count": 135,
     "metadata": {},
     "output_type": "execute_result"
    },
    {
     "data": {
      "image/png": "[encoded data removed]",
      "text/plain": [
       "<Figure size 432x288 with 1 Axes>"
      ]
     },
     "metadata": {
      "needs_background": "light"
     },
     "output_type": "display_data"
    }
   ],
   "source": [
    "# Плотность вероятности -  при заданном распределении, какова вероятность наблюдения\n",
    "x = np.linspace(-5.0, 5.0, 100)\n",
    "# степени свободы\n",
    "df = (n1 + n2) - 2\n",
    "plt.plot(x, stats.t.pdf(x, df))"
   ]
  },
  {
   "cell_type": "markdown",
   "id": "1a752554",
   "metadata": {},
   "source": [
    "Получим p-value\n",
    "\n",
    "\n",
    "**Уровень значимости** - вероятность ошибочного отклонения нулевой гипотезы или иными словами, вероятность совершения ошибки первого рода. Конечно, мы берем не саму вероятность, а задаем фиксированное число, которую наша наша вероятность не должна превышать.\n",
    "Всем известные значения **p-value**, равные 0.05,0.01 и 0.001 - это стандартные уровни статистической значимости, используемые аналитиками при проверке гипотез.\n",
    "Иначе говоря, уровень значимости **(p-value)** – это наименьшее значение уровня значимости (т.е. вероятности отказа от справедливой гипотезы), для которого вычисленная проверочная статистика ведет к отказу от нулевой гипотезы. "
   ]
  },
  {
   "cell_type": "code",
   "execution_count": 136,
   "id": "24f635a0",
   "metadata": {},
   "outputs": [
    {
     "name": "stdout",
     "output_type": "stream",
     "text": [
      "Кол-во степеней свободы =  1996\n",
      "p_value =  8.314399342638953e-23\n"
     ]
    },
    {
     "data": {
      "image/png": "[encoded data removed]",
      "text/plain": [
       "<Figure size 432x288 with 1 Axes>"
      ]
     },
     "metadata": {
      "needs_background": "light"
     },
     "output_type": "display_data"
    }
   ],
   "source": [
    "# степени свободы\n",
    "df = (n1 + n2) - 2\n",
    "x = np.linspace(-5.0, 5.0, 100)\n",
    "\n",
    "print('Кол-во степеней свободы = ', df)\n",
    "\n",
    "# Функция распределения показывает при заданном распределении (Стьюдента),\n",
    "# какова вероятность того, что результат окажется меньше или равен заданному\n",
    "plt.plot(x,stats.t.cdf(x, df) )\n",
    "print(\"p_value = \", stats.t.cdf(t, df))"
   ]
  },
  {
   "cell_type": "code",
   "execution_count": 146,
   "id": "21e13f69",
   "metadata": {},
   "outputs": [
    {
     "name": "stdout",
     "output_type": "stream",
     "text": [
      "Есть статистически значимая разница \n",
      "t-критерий =  -9.8794 \n",
      "p-value = 0.0\n"
     ]
    }
   ],
   "source": [
    "# степени свободы\n",
    "df = (n1 + n2) - 2\n",
    "\n",
    "# p - value\n",
    "p = stats.t.cdf(t, df) \n",
    "\n",
    "if p > 0.05: \n",
    "    print('Нет статистически значимой разницы','\\nt-критерий = ', round(t, 4),'\\np-value =', round(p, 4))\n",
    "else:\n",
    "    print('Есть статистически значимая разница','\\nt-критерий = ', round(t, 4),'\\np-value =', round(p, 4))"
   ]
  },
  {
   "cell_type": "markdown",
   "id": "5e455020",
   "metadata": {},
   "source": [
    "Также воспользуемся библиотекой scipy для расчета t-критерия и p-value"
   ]
  },
  {
   "cell_type": "code",
   "execution_count": 147,
   "id": "6c08923a",
   "metadata": {},
   "outputs": [
    {
     "name": "stdout",
     "output_type": "stream",
     "text": [
      "Есть статистически значимая разница \n",
      "t-критерий =  9.8783 \n",
      "p-value = 0.0\n"
     ]
    }
   ],
   "source": [
    "t2, p2 = stats.ttest_ind(control, test)\n",
    "\n",
    "\n",
    "if p2 > 0.05:\n",
    "    print('Нет статистически значимой разницы','\\nt-критерий = ', round(t2, 4),'\\np-value =', round(p2, 4))\n",
    "else:\n",
    "    print('Есть статистически значимая разница','\\nt-критерий = ', round(t2, 4),'\\np-value =', round(p2, 4))"
   ]
  },
  {
   "cell_type": "code",
   "execution_count": null,
   "id": "8fc32025",
   "metadata": {},
   "outputs": [],
   "source": []
  }
 ],
 "metadata": {
  "kernelspec": {
   "display_name": "Python 3 (ipykernel)",
   "language": "python",
   "name": "python3"
  },
  "language_info": {
   "codemirror_mode": {
    "name": "ipython",
    "version": 3
   },
   "file_extension": ".py",
   "mimetype": "text/x-python",
   "name": "python",
   "nbconvert_exporter": "python",
   "pygments_lexer": "ipython3",
   "version": "3.9.7"
  }
 },
 "nbformat": 4,
 "nbformat_minor": 5
}
