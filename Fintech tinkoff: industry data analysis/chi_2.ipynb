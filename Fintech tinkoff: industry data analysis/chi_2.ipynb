{
 "cells": [
  {
   "cell_type": "code",
   "execution_count": 2,
   "id": "db355866",
   "metadata": {},
   "outputs": [],
   "source": [
    "import pandas as pd\n",
    "import numpy as np\n",
    "import seaborn as sns\n",
    "import matplotlib.pyplot as plt\n",
    "import scipy.stats as stats"
   ]
  },
  {
   "cell_type": "markdown",
   "id": "aa13f411",
   "metadata": {},
   "source": [
    "### 3 задание\n",
    "В файле test_3 лежит результат теста рассылки email, целевая метрика - конверсия в переход на сайт с этого email. \n",
    "\n",
    "\n",
    "Изучите результаты теста и сделайте вывод , увеличилась конверсия или нет. В качестве решения - ноутбук, в котором построено распределение параметра в группах и проверены нужные критерии."
   ]
  },
  {
   "cell_type": "code",
   "execution_count": 3,
   "id": "b5711cfa",
   "metadata": {},
   "outputs": [],
   "source": [
    "data = pd.read_csv('test_3.csv')"
   ]
  },
  {
   "cell_type": "code",
   "execution_count": 4,
   "id": "1e5bb916",
   "metadata": {},
   "outputs": [
    {
     "data": {
      "text/html": [
       "<div>\n",
       "<style scoped>\n",
       "    .dataframe tbody tr th:only-of-type {\n",
       "        vertical-align: middle;\n",
       "    }\n",
       "\n",
       "    .dataframe tbody tr th {\n",
       "        vertical-align: top;\n",
       "    }\n",
       "\n",
       "    .dataframe thead th {\n",
       "        text-align: right;\n",
       "    }\n",
       "</style>\n",
       "<table border=\"1\" class=\"dataframe\">\n",
       "  <thead>\n",
       "    <tr style=\"text-align: right;\">\n",
       "      <th></th>\n",
       "      <th>group</th>\n",
       "      <th>client_id</th>\n",
       "      <th>click_flg</th>\n",
       "    </tr>\n",
       "  </thead>\n",
       "  <tbody>\n",
       "    <tr>\n",
       "      <th>0</th>\n",
       "      <td>test</td>\n",
       "      <td>1</td>\n",
       "      <td>1</td>\n",
       "    </tr>\n",
       "    <tr>\n",
       "      <th>1</th>\n",
       "      <td>test</td>\n",
       "      <td>2</td>\n",
       "      <td>0</td>\n",
       "    </tr>\n",
       "    <tr>\n",
       "      <th>2</th>\n",
       "      <td>test</td>\n",
       "      <td>3</td>\n",
       "      <td>0</td>\n",
       "    </tr>\n",
       "    <tr>\n",
       "      <th>3</th>\n",
       "      <td>test</td>\n",
       "      <td>4</td>\n",
       "      <td>1</td>\n",
       "    </tr>\n",
       "    <tr>\n",
       "      <th>4</th>\n",
       "      <td>test</td>\n",
       "      <td>5</td>\n",
       "      <td>1</td>\n",
       "    </tr>\n",
       "  </tbody>\n",
       "</table>\n",
       "</div>"
      ],
      "text/plain": [
       "  group  client_id  click_flg\n",
       "0  test          1          1\n",
       "1  test          2          0\n",
       "2  test          3          0\n",
       "3  test          4          1\n",
       "4  test          5          1"
      ]
     },
     "execution_count": 4,
     "metadata": {},
     "output_type": "execute_result"
    }
   ],
   "source": [
    "data.head()"
   ]
  },
  {
   "cell_type": "code",
   "execution_count": 5,
   "id": "568ca787",
   "metadata": {},
   "outputs": [
    {
     "data": {
      "text/plain": [
       "(20033, 3)"
      ]
     },
     "execution_count": 5,
     "metadata": {},
     "output_type": "execute_result"
    }
   ],
   "source": [
    "data.shape"
   ]
  },
  {
   "cell_type": "code",
   "execution_count": 6,
   "id": "3464e1d1",
   "metadata": {},
   "outputs": [
    {
     "data": {
      "text/plain": [
       "group        object\n",
       "client_id     int64\n",
       "click_flg     int64\n",
       "dtype: object"
      ]
     },
     "execution_count": 6,
     "metadata": {},
     "output_type": "execute_result"
    }
   ],
   "source": [
    "data.dtypes"
   ]
  },
  {
   "cell_type": "code",
   "execution_count": 7,
   "id": "e9d0f58b",
   "metadata": {},
   "outputs": [
    {
     "data": {
      "text/plain": [
       "count     20033\n",
       "unique        2\n",
       "top        test\n",
       "freq      10023\n",
       "Name: group, dtype: object"
      ]
     },
     "execution_count": 7,
     "metadata": {},
     "output_type": "execute_result"
    }
   ],
   "source": [
    "data.group.describe()"
   ]
  },
  {
   "cell_type": "markdown",
   "id": "16b44496",
   "metadata": {},
   "source": [
    "##  Эффективное сравнение конверсий/долей. Критерий Хи-квадрат Пирсона"
   ]
  },
  {
   "cell_type": "markdown",
   "id": "46c6c9ca",
   "metadata": {},
   "source": [
    "Критерий Хи-квадарт позволяет нам сравнить отношения количества успеха к неуспехам в двух таблицах.Под успешным можем подразумевать не только совершение действия, но и любое желаемое число, например можем сравнить доли успешно закрытых заказов, доли женщин студентов от всей группы и так далее. Позволяет сравнивать больше чем два значения и довольно таки эффективно."
   ]
  },
  {
   "cell_type": "markdown",
   "id": "3ef616d3",
   "metadata": {
    "solution2": "shown",
    "solution2_first": true
   },
   "source": [
    "Суть <span class=\"burk\">теста</span> - сравнить конверсии в успешный переход на сайт"
   ]
  },
  {
   "cell_type": "markdown",
   "id": "332619b0",
   "metadata": {
    "solution2": "shown"
   },
   "source": [
    "Н0: Конверсии не имеют значимого различия\n",
    "\n",
    "Н1: Есть значимосе различие между конверсиями\n",
    "\n",
    "Выдвигается нулевая гипотеза о том, что наблюдаемые конверсии в переход на сайт соответствуют ожидаемым (т.е. между ними нет разницы, т.к. они взяты из той же генеральной совокупности).  Если этот так, то разброс будет относительно небольшим, в пределах случайных колебаний. Меру разброса определяют по статистике Хи-квадрат. \n",
    "\n",
    "![xi](https://sp-ao.shortpixel.ai/client/to_webp,q_glossy,ret_img,w_517/https://statanaliz.info/wp-content/uploads/2017/02/chi_sqr_01_02.png)"
   ]
  },
  {
   "cell_type": "markdown",
   "id": "2c067a08",
   "metadata": {},
   "source": [
    "![xi](https://upload.wikimedia.org/wikipedia/commons/thumb/2/21/Chi-square_distributionPDF.png/488px-Chi-square_distributionPDF.png)"
   ]
  },
  {
   "cell_type": "markdown",
   "id": "5be3aba1",
   "metadata": {},
   "source": [
    "Критерий хи-квадарт вычисляем по формуле:\n",
    "\n",
    "![xi](data:image/png;base64,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)"
   ]
  },
  {
   "cell_type": "markdown",
   "id": "e4b1a8e4",
   "metadata": {},
   "source": [
    "Значение Xи-квадрат используется для оценки меры рассогласованности наблюдаемого и ожидаемого результата. Если, согласно нулевой гипотезе, ожидаемый результат будет сильно отличаться от наблюдаемых значений, значит стоит поставить под сомнение справедливость гипотезы."
   ]
  },
  {
   "cell_type": "markdown",
   "id": "7f36b5a9",
   "metadata": {},
   "source": [
    "<span class=\"mark\">Эмпимрические значения</span> - это те значения, которые мы получили на практике (В нашем случае это наши реальные конверсии в переход на сайт)\n",
    "\n",
    "<span class=\"mark\">Теоретические значения</span> -  это те конверсии, которые бы мы получили, если бы была верна нулевая гипотеза об отсутствии значимого различия, то есть они должны быть равны.\n",
    "\n",
    "Если сравниваем 2 группы, то нужно не забыть про **поправку Йетса**:\n",
    "\n",
    "При использовании критерия Хи-квадрат Пирсона мы считаем, что дискретная вероятность наблюдаемых биномиальных частот в таблице может быть приближена непрерывным распределением хи-квадрат. Это предположение не совсем правильно, и вводит некоторую погрешность.\n",
    "\n",
    "Для того, чтобы уменьшить погрешность в приближении Франк Йейтс, английский статистик, предложил поправку на непрерывность, которая регулирует формулу для хи-квадрат тест Пирсона путем вычитания 0,5 из разницы между каждой наблюдаемой величиной и его ожидаемого значения в таблице 2 × 2 на случай чрезвычайных ситуаций. Это уменьшает хи-квадрат значение,  и тем самым увеличивает ее p-value\n",
    "\n",
    "Подробнее - https://ru.qwe.wiki/wiki/Yates's_correction_for_continuity\n",
    "\n",
    "$\\chi^2_Y = \\sum_{}\\frac{(|f_o - f_e| - 0.5)^2}{f_e}.$\n",
    "\n",
    "o - Наблюдаемые частоты\n",
    "\n",
    "е - Ожидаемые\n",
    "\n",
    "Если мы сравниваем больше 2-х значений, то есть таблица сопряженности не 2на2, то вводить поправку Йетса не нужно. Эта формула в основном используется, когда хотя бы одна ячейка таблицы имеет ожидаемое количество меньше 5."
   ]
  },
  {
   "cell_type": "markdown",
   "id": "e44ee964",
   "metadata": {},
   "source": [
    "***Составляем таблицу сопряженности***\n",
    "\n",
    "<span class=\"mark\">Таблица сопряжённости</span>, или таблица контингентности, факторная таблица в статистике — средство представления совместного распределения двух переменных, предназначенное для исследования связи между ними. \n",
    "\n",
    "Таблица сопряжённости является наиболее универсальным средством изучения статистических связей, так как в ней могут быть представлены переменные с любым уровнем измерения. Таблицы сопряжённости часто используются для проверки гипотезы о наличии связи между двумя признаками с использованием точного теста Фишера или критерия согласия Пирсона.\n",
    "\n",
    "Подробнее о структуре таких таблиц - https://ru.wikipedia.org/wiki/%D0%A2%D0%B0%D0%B1%D0%BB%D0%B8%D1%86%D0%B0_%D1%81%D0%BE%D0%BF%D1%80%D1%8F%D0%B6%D1%91%D0%BD%D0%BD%D0%BE%D1%81%D1%82%D0%B8"
   ]
  },
  {
   "cell_type": "code",
   "execution_count": 8,
   "id": "71d84e13",
   "metadata": {},
   "outputs": [
    {
     "data": {
      "text/html": [
       "<div>\n",
       "<style scoped>\n",
       "    .dataframe tbody tr th:only-of-type {\n",
       "        vertical-align: middle;\n",
       "    }\n",
       "\n",
       "    .dataframe tbody tr th {\n",
       "        vertical-align: top;\n",
       "    }\n",
       "\n",
       "    .dataframe thead th {\n",
       "        text-align: right;\n",
       "    }\n",
       "</style>\n",
       "<table border=\"1\" class=\"dataframe\">\n",
       "  <thead>\n",
       "    <tr style=\"text-align: right;\">\n",
       "      <th>click_flg</th>\n",
       "      <th>0</th>\n",
       "      <th>1</th>\n",
       "      <th>All</th>\n",
       "    </tr>\n",
       "    <tr>\n",
       "      <th>group</th>\n",
       "      <th></th>\n",
       "      <th></th>\n",
       "      <th></th>\n",
       "    </tr>\n",
       "  </thead>\n",
       "  <tbody>\n",
       "    <tr>\n",
       "      <th>control</th>\n",
       "      <td>6883</td>\n",
       "      <td>3127</td>\n",
       "      <td>10010</td>\n",
       "    </tr>\n",
       "    <tr>\n",
       "      <th>test</th>\n",
       "      <td>7061</td>\n",
       "      <td>2962</td>\n",
       "      <td>10023</td>\n",
       "    </tr>\n",
       "    <tr>\n",
       "      <th>All</th>\n",
       "      <td>13944</td>\n",
       "      <td>6089</td>\n",
       "      <td>20033</td>\n",
       "    </tr>\n",
       "  </tbody>\n",
       "</table>\n",
       "</div>"
      ],
      "text/plain": [
       "click_flg      0     1    All\n",
       "group                        \n",
       "control     6883  3127  10010\n",
       "test        7061  2962  10023\n",
       "All        13944  6089  20033"
      ]
     },
     "execution_count": 8,
     "metadata": {},
     "output_type": "execute_result"
    }
   ],
   "source": [
    "table = pd.crosstab(\n",
    "    data['group'],\n",
    "    data['click_flg'],\n",
    "    margins = True\n",
    ")\n",
    "table\n",
    "\n",
    "table1 = pd.crosstab(\n",
    "    data['group'],\n",
    "    data['click_flg']\n",
    ")\n",
    "table"
   ]
  },
  {
   "cell_type": "markdown",
   "id": "47fb15a8",
   "metadata": {},
   "source": [
    "\n",
    "![xi](data:image/png;base64,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)"
   ]
  },
  {
   "cell_type": "code",
   "execution_count": 36,
   "id": "66f3c086",
   "metadata": {},
   "outputs": [],
   "source": [
    "def Chisq(table):\n",
    "    expected = []\n",
    "    obs1 = np.append(table.iloc[0][0:2].values, table.iloc[1][0:2].values) #[189, 189, 186, 190]\n",
    "    rows = table.iloc[0:2,2].values #[378, 376]\n",
    "    cols = table.iloc[2,0:2].values #[375, 379]\n",
    "    total = table.loc['All','All'] #754\n",
    "    for count in range(2):\n",
    "        for column in cols:\n",
    "            expected.append((rows[count]*column)/total) # Ожидаемые частоты column/total - доля купивших во всей выборке\n",
    "    obs = obs1 + 0.5 * np.sign(expected - obs1) \n",
    "    return sum(((obs - expected)**2)/expected)"
   ]
  },
  {
   "cell_type": "markdown",
   "id": "4fad27ea",
   "metadata": {},
   "source": [
    "**Число степеней свободы:** (rows - 1) * (cols - 1)\n",
    "* в нашем случае: (2-1) * (2-1) = 1 * 1 = 1\n"
   ]
  },
  {
   "cell_type": "code",
   "execution_count": 37,
   "id": "096d1979",
   "metadata": {},
   "outputs": [
    {
     "data": {
      "text/plain": [
       "6.65548520025077"
      ]
     },
     "execution_count": 37,
     "metadata": {},
     "output_type": "execute_result"
    }
   ],
   "source": [
    "Chisq(table)"
   ]
  },
  {
   "cell_type": "code",
   "execution_count": 38,
   "id": "69b21f8a",
   "metadata": {},
   "outputs": [
    {
     "data": {
      "text/plain": [
       "0.009885105063293764"
      ]
     },
     "execution_count": 38,
     "metadata": {},
     "output_type": "execute_result"
    }
   ],
   "source": [
    "1 - stats.chi2.cdf(Chisq(table), 1)"
   ]
  },
  {
   "cell_type": "code",
   "execution_count": 39,
   "id": "31a38e5e",
   "metadata": {},
   "outputs": [
    {
     "name": "stdout",
     "output_type": "stream",
     "text": [
      "Не можем принять нулевую гипотезу о том, что доли не имеют значимого различия \n",
      "Хи-квадрат критерий = 6.65548520025077 \n",
      "p-value = 0.0099\n"
     ]
    }
   ],
   "source": [
    "p_val =  1 - stats.chi2.cdf(Chisq(table), 1)\n",
    "\n",
    "if p_val > 0.05:\n",
    "    print('Не можем отвергнуть нулевую гипотезу о том, что доли не имеют значимого различия', \n",
    "          '\\nХи-квадрат критерий =', Chisq(table), '\\np-value =', round(p_value, 4))\n",
    "else:\n",
    "    print('Не можем принять нулевую гипотезу о том, что доли не имеют значимого различия',\n",
    "          '\\nХи-квадрат критерий =', Chisq(table), '\\np-value =', round(p_value, 4))"
   ]
  },
  {
   "cell_type": "markdown",
   "id": "97f63d09",
   "metadata": {},
   "source": [
    "Также воспользуемся библиотекой scipy для расчета Хи-квадрат критерия и p-value"
   ]
  },
  {
   "cell_type": "code",
   "execution_count": 40,
   "id": "0b11f98b",
   "metadata": {},
   "outputs": [
    {
     "name": "stdout",
     "output_type": "stream",
     "text": [
      "Не можем принять нулевую гипотезу о том, что доли не имеют значимого различия \n",
      "Хи-квадрат критерий = 6.65548520025077 \n",
      "p-value = 0.0099\n"
     ]
    }
   ],
   "source": [
    "# Статистика теста, p_value, Степени свободы, Ожидаемые частоты, основанные на предельных суммах таблицы.\n",
    "stat, p_val, df, ef = stats.chi2_contingency(table1)\n",
    "\n",
    "if p_val > 0.05:\n",
    "    print('Не можем отвергнуть нулевую гипотезу о том, что доли не имеют значимого различия', \n",
    "          '\\nХи-квадрат критерий =', stat, '\\np-value =', round(p_value, 4))\n",
    "else:\n",
    "    print('Не можем принять нулевую гипотезу о том, что доли не имеют значимого различия',\n",
    "          '\\nХи-квадрат критерий =', stat, '\\np-value =', round(p_value, 4))"
   ]
  }
 ],
 "metadata": {
  "celltoolbar": "Необработанный формат ячейки",
  "hide_input": false,
  "kernelspec": {
   "display_name": "Python 3 (ipykernel)",
   "language": "python",
   "name": "python3"
  },
  "language_info": {
   "codemirror_mode": {
    "name": "ipython",
    "version": 3
   },
   "file_extension": ".py",
   "mimetype": "text/x-python",
   "name": "python",
   "nbconvert_exporter": "python",
   "pygments_lexer": "ipython3",
   "version": "3.9.7"
  },
  "latex_envs": {
   "LaTeX_envs_menu_present": true,
   "autoclose": true,
   "autocomplete": true,
   "bibliofile": "biblio.bib",
   "cite_by": "apalike",
   "current_citInitial": 1,
   "eqLabelWithNumbers": true,
   "eqNumInitial": 1,
   "hotkeys": {
    "equation": "Ctrl-E",
    "itemize": "Ctrl-I"
   },
   "labels_anchors": false,
   "latex_user_defs": false,
   "report_style_numbering": false,
   "user_envs_cfg": false
  },
  "toc": {
   "base_numbering": 1,
   "nav_menu": {},
   "number_sections": true,
   "sideBar": true,
   "skip_h1_title": false,
   "title_cell": "Table of Contents",
   "title_sidebar": "Contents",
   "toc_cell": false,
   "toc_position": {
    "height": "calc(100% - 180px)",
    "left": "10px",
    "top": "150px",
    "width": "165px"
   },
   "toc_section_display": true,
   "toc_window_display": true
  },
  "varInspector": {
   "cols": {
    "lenName": 16,
    "lenType": 16,
    "lenVar": 40
   },
   "kernels_config": {
    "python": {
     "delete_cmd_postfix": "",
     "delete_cmd_prefix": "del ",
     "library": "var_list.py",
     "varRefreshCmd": "print(var_dic_list())"
    },
    "r": {
     "delete_cmd_postfix": ") ",
     "delete_cmd_prefix": "rm(",
     "library": "var_list.r",
     "varRefreshCmd": "cat(var_dic_list()) "
    }
   },
   "types_to_exclude": [
    "module",
    "function",
    "builtin_function_or_method",
    "instance",
    "_Feature"
   ],
   "window_display": false
  }
 },
 "nbformat": 4,
 "nbformat_minor": 5
}
